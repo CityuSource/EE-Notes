{
 "cells": [
  {
   "cell_type": "markdown",
   "metadata": {},
   "source": [
    "## Assignment 1\n",
    "\n",
    "**Instructions:** <br>\n",
    "a. write your answer after `# your answer here`. Do not delete any code that is in the cell, as the code facilitates checking your answers. If you happen to delete any code that prevents expected outputs, you may lose points. <br>\n",
    "b. when you finish the assignment, make sure to use `Kernel` -> `Restart and Run All` to restart the kernel and rerun the entire notebook to generate the desired outputs, before submitting your assignment. <br>\n",
    "c. upload your .ipynb file. <br>\n",
    "<br>\n",
    "Each question is worth 5 points.\n",
    "### Python Types and Functions"
   ]
  },
  {
   "cell_type": "markdown",
   "metadata": {},
   "source": [
    "1. Write a function to check if a given key (input1) already exists in a dictionary (input2), if true, return a tuple of the key and the value; if false, return None."
   ]
  },
  {
   "cell_type": "code",
   "execution_count": null,
   "metadata": {},
   "outputs": [],
   "source": [
    "fruits = {'apple': 'red', 'pear': 'yellow', 'orange': 'orange', 'grape': 'purple'}\n",
    "def is_key_present(input1, input2):\n",
    "  # your answer here\n",
    "\n",
    "\n",
    "\n",
    "print(is_key_present('pear', fruits))\n",
    "print(is_key_present('watermelon', fruits))"
   ]
  },
  {
   "cell_type": "markdown",
   "metadata": {},
   "source": [
    "2. Create a function that takes a string as the input and returns a dictionary showing the number of characters in a string. <br>\n",
    "Sample Input: 'apple pie' <br>\n",
    "Output: {'a': 1, 'p': 3, 'l': 1, 'e': 2, ' ': 1, 'i': 1}"
   ]
  },
  {
   "cell_type": "code",
   "execution_count": null,
   "metadata": {},
   "outputs": [],
   "source": [
    "def char_frequency(string):\n",
    "    # your answer here  \n",
    "    \n",
    "    \n",
    "    \n",
    "    \n",
    "    \n",
    "    \n",
    "print(char_frequency('apple pie')) "
   ]
  },
  {
   "cell_type": "markdown",
   "metadata": {},
   "source": [
    "3. Create a function that takes a string as the input and return a string that is made of the first 2 and the last 2 characters of the input string. If the string length is less than 2, return 'The length of the input string is shorter than 2!'. <br>\n",
    "Sample String : 'carnivore' <br>\n",
    "Expected Result : 'care' <br>\n",
    "Sample String : 'hi' <br>\n",
    "Expected Result : 'hihi' <br>\n",
    "Sample String : '?' <br>\n",
    "Expected Result : 'The length of the input string is shorter than 2!'"
   ]
  },
  {
   "cell_type": "code",
   "execution_count": null,
   "metadata": {},
   "outputs": [],
   "source": [
    "def string_start2_end2(str):\n",
    "    # your answer here\n",
    "\n",
    "    \n",
    "    \n",
    "    \n",
    "print(string_start2_end2('carnivore'))\n",
    "print(string_start2_end2('hi'))\n",
    "print(string_start2_end2('?'))"
   ]
  },
  {
   "cell_type": "markdown",
   "metadata": {},
   "source": [
    "4. Create a function that takes two inputs of lists and return an interwined list in this way: <br>\n",
    "Sample input: <br>\n",
    "listA = [1, 2, 3, 4]<br>\n",
    "listB = ['a', 'b', 'c', 'd', 'e', 'f']<br>\n",
    "Return:\n",
    "[1, 'a', 2, 'b', 3, 'c', 4, 'd', 'e', 'f'].<br>\n",
    "Note: when the lengths do not match, the remainder shall be appended to the end of the output list."
   ]
  },
  {
   "cell_type": "code",
   "execution_count": null,
   "metadata": {},
   "outputs": [],
   "source": [
    "def interwine(A, B):\n",
    "    # your answer here\n",
    "    \n",
    "    \n",
    "    \n",
    "    \n",
    "    \n",
    "    \n",
    "        \n",
    "listA = [1, 2, 3, 4, 5]\n",
    "listB = ['a', 'b', 'c', 'd', 'e', 'f']\n",
    "\n",
    "print(interwine(listA, listB))\n",
    "print(interwine(listB, listA))\n",
    "print(interwine(listA, listA))"
   ]
  },
  {
   "cell_type": "markdown",
   "metadata": {},
   "source": [
    "### Lambda"
   ]
  },
  {
   "cell_type": "markdown",
   "metadata": {},
   "source": [
    "5. Write a function to extract year, month and day from datetime using Lambda, and print using the string formatting.<br>\n",
    "Sample input: \n",
    "now = 2020-09-10 22:24:17.072952<br>\n",
    "Output: 'Year: 2020, month: 9, day: 10'<br> <br>"
   ]
  },
  {
   "cell_type": "code",
   "execution_count": null,
   "metadata": {},
   "outputs": [],
   "source": [
    "import datetime\n",
    "now = datetime.datetime.now()\n",
    "print(now)\n",
    "\n",
    "def date_time(date):\n",
    "    #use lambda to extract the information\n",
    "    \n",
    "    \n",
    "    \n",
    "    \n",
    "    #string formatting\n",
    "    \n",
    "    \n",
    "    \n",
    "date_time(now)"
   ]
  },
  {
   "cell_type": "markdown",
   "metadata": {},
   "source": [
    "6. Sort a list of tuples by the second element using Lambda.<br>\n",
    "Sample input: [('Apple', 12), ('Pear', 2), ('Orange', 15), ('Banana', 0)] <br>\n",
    "Output: [('Banana', 0), ('Pear', 2), ('Apple', 12), ('Orange', 15)]"
   ]
  },
  {
   "cell_type": "code",
   "execution_count": null,
   "metadata": {
    "scrolled": true
   },
   "outputs": [],
   "source": [
    "before = [('Apple', 12), ('Pear', 2), ('Orange', 15), ('Banana', 0)]\n",
    "\n",
    "# Use lambda to create an output list: your answer here\n",
    "\n",
    "\n",
    "\n",
    "print(\"Original list of tuples:\")\n",
    "print(before)\n",
    "\n",
    "print(\"\\nSorted list of Tuples:\")\n",
    "print(after)"
   ]
  },
  {
   "cell_type": "markdown",
   "metadata": {},
   "source": [
    "7. Write a function to count the odd, even numbers in a given array of integers using Lambda. <br>\n",
    "Sample input:  <br>\n",
    "[1, 4, 3, 11, 7, 8, 15, 10]  <br>\n",
    "Sample output:  <br>\n",
    "Number of odd numbers: 5  <br>\n",
    "Number of even numbers: 3  <br>"
   ]
  },
  {
   "cell_type": "code",
   "execution_count": null,
   "metadata": {},
   "outputs": [],
   "source": [
    "array_example = [1, 4, 3, 11, 7, 8, 15, 10]\n",
    "def even_odd(array_numbers):\n",
    "    # your answer here: variables 'odd' and 'even' are the counted numbers respectively\n",
    "    \n",
    "    \n",
    "    \n",
    "    print(\"Number of even numbers: \", even)\n",
    "    print(\"Number of odd numbers: \", odd)\n",
    "\n",
    "even_odd(array_example)"
   ]
  },
  {
   "cell_type": "markdown",
   "metadata": {},
   "source": [
    "### List Comprehension"
   ]
  },
  {
   "cell_type": "markdown",
   "metadata": {},
   "source": [
    "8. Create a function that takes an input list of strings and returns (1) a list containing the length of each string and (2) a tuple containing the shortest string and its index in the list. <br>\n",
    "Note: you shall use list comprehension in the function.<br> <br>\n",
    "Sample input: ['I', 'love', 'programming', 'using', 'Python'] <br>\n",
    "Return: ([1, 4, 11, 5, 6], ('I', 0))."
   ]
  },
  {
   "cell_type": "code",
   "execution_count": null,
   "metadata": {},
   "outputs": [],
   "source": [
    "def find_shortest_word(words_list):\n",
    "    \n",
    "    # list comprehension\n",
    "    \n",
    "    \n",
    "    \n",
    "    \n",
    "    # find the index of the shortest string\n",
    "    \n",
    "    \n",
    "\n",
    "    return # list , tuple\n",
    "\n",
    "print(find_shortest_word(['I', 'love', 'programming', 'using', 'Python']))"
   ]
  },
  {
   "cell_type": "markdown",
   "metadata": {},
   "source": [
    "### Numpy"
   ]
  },
  {
   "cell_type": "markdown",
   "metadata": {},
   "source": [
    "9. Use numpy and arange to create a 2x4 matrix with values ranging from 2 to 9. <br>\n",
    "Ouput:<br>\n",
    "Expected Output:<br>\n",
    "[[ 2 3 4 5]<br>\n",
    "[ 6 7 8 9]]"
   ]
  },
  {
   "cell_type": "code",
   "execution_count": null,
   "metadata": {},
   "outputs": [],
   "source": [
    "import numpy as np\n",
    "# your answer here\n",
    "\n"
   ]
  },
  {
   "cell_type": "markdown",
   "metadata": {},
   "source": [
    "10. Write a function to take an integer numpy array as the input, then (1) create an array that has the same values as the input array, and if there are odd numbers, add 1 to change them to even numbers, (2) stack the input array and the new array vertically, and (3) change the array to the float type (i.e. 'float32'). <br>\n",
    "Sample input:<br>\n",
    "[ 1  5  7 12 14] <br>\n",
    "Output: <br>\n",
    "[[ 1.  5.  7. 12. 14.]<br>\n",
    " [ 2.  6.  8. 12. 14.]]"
   ]
  },
  {
   "cell_type": "code",
   "execution_count": null,
   "metadata": {},
   "outputs": [],
   "source": [
    "import numpy as np\n",
    "example = np.array([1, 5, 7, 12, 14],dtype='int32')\n",
    "print(example,'\\n')\n",
    "\n",
    "def array_func(a):\n",
    "    # your answer here\n",
    "    \n",
    "    \n",
    "    \n",
    "    \n",
    "\n",
    "result = array_func(example)\n",
    "print(result.dtype)\n",
    "print(result)"
   ]
  },
  {
   "cell_type": "markdown",
   "metadata": {},
   "source": [
    "11. Use numpy to first create a 6 by 6 matrix and fill it with a checkerboard pattern. Then append a column of 2's to the left. <br>\n",
    "Checkerboard pattern:<br>\n",
    "[[2 0 1 0 1 0 1]                                                      \n",
    " [2 1 0 1 0 1 0]                                                      \n",
    " [2 0 1 0 1 0 1]                                                      \n",
    " [2 1 0 1 0 1 0]                                                      \n",
    " [2 0 1 0 1 0 1]                                                      \n",
    " [2 1 0 1 0 1 0]]"
   ]
  },
  {
   "cell_type": "code",
   "execution_count": null,
   "metadata": {},
   "outputs": [],
   "source": [
    "import numpy as np\n",
    "print(\"A checkerboard pattern with 2's on the left:\")\n",
    "# your answer here\n",
    "\n",
    "\n",
    "\n",
    "\n",
    "\n"
   ]
  },
  {
   "cell_type": "markdown",
   "metadata": {},
   "source": [
    "12. Write a function that obtains 2000 samples from normal distribution (mean=0, standard deviation=1) and calculate cosine for each of them. Then return an array that contains (1) the number of elements that is negative, (2) the mean, and (3) the 25th and 75th percentiles. Use numpy.round? to round your results to have three decimals. <br>\n",
    "Sample output:<br>\n",
    "array([234.   ,   0.619,   0.452,   0.954])<br>"
   ]
  },
  {
   "cell_type": "code",
   "execution_count": null,
   "metadata": {},
   "outputs": [],
   "source": [
    "import numpy as np\n",
    "np.set_printoptions(suppress=True) \n",
    "\n",
    "def fun_cos():\n",
    "    # your answer here\n",
    "    \n",
    "    \n",
    "    \n",
    "    \n",
    "    \n",
    "    \n",
    "    \n",
    "\n",
    "np.random.seed(1234)\n",
    "fun_cos()"
   ]
  }
 ],
 "metadata": {
  "kernelspec": {
   "display_name": "Python 3.10.4 ('2001')",
   "language": "python",
   "name": "python3"
  },
  "language_info": {
   "codemirror_mode": {
    "name": "ipython",
    "version": 3
   },
   "file_extension": ".py",
   "mimetype": "text/x-python",
   "name": "python",
   "nbconvert_exporter": "python",
   "pygments_lexer": "ipython3",
   "version": "3.10.4"
  },
  "vscode": {
   "interpreter": {
    "hash": "55eb91d003843ee0eabb6af411dc999514f7578b560f97084ebc6a83d429fc16"
   }
  }
 },
 "nbformat": 4,
 "nbformat_minor": 4
}
