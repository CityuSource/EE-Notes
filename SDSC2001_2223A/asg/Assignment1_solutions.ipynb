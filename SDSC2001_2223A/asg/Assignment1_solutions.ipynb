{
 "cells": [
  {
   "cell_type": "markdown",
   "metadata": {},
   "source": [
    "## Assignment 1\n",
    "### Python Types and Functions"
   ]
  },
  {
   "cell_type": "markdown",
   "metadata": {},
   "source": [
    "1. Write a function to check if a given key (input1) already exists in a dictionary (input2), if true, return a tuple of the key and the value; if false, return None."
   ]
  },
  {
   "cell_type": "code",
   "execution_count": 1,
   "metadata": {},
   "outputs": [
    {
     "name": "stdout",
     "output_type": "stream",
     "text": [
      "('pear', 'yellow')\n",
      "None\n"
     ]
    }
   ],
   "source": [
    "fruits = {'apple': 'red', 'pear': 'yellow', 'orange': 'orange', 'grape': 'purple'}\n",
    "def is_key_present(input1, input2):\n",
    "  if input1 in input2:\n",
    "      return(input1,input2[input1])\n",
    "  else:\n",
    "      return(None)\n",
    "print(is_key_present('pear', fruits))\n",
    "print(is_key_present('watermelon', fruits))"
   ]
  },
  {
   "cell_type": "markdown",
   "metadata": {},
   "source": [
    "2. Create a function that takes a string as the input and returns a dictionary showing the number of characters in a string. <br>\n",
    "Sample Input: 'apple pie' <br>\n",
    "Output: {'a': 1, 'p': 3, 'l': 1, 'e': 2, ' ': 1, 'i': 1}"
   ]
  },
  {
   "cell_type": "code",
   "execution_count": 2,
   "metadata": {},
   "outputs": [
    {
     "name": "stdout",
     "output_type": "stream",
     "text": [
      "{'a': 1, 'p': 3, 'l': 1, 'e': 2, ' ': 1, 'i': 1}\n"
     ]
    }
   ],
   "source": [
    "def char_frequency(string):  \n",
    "    dict = {}  \n",
    "    for n in string: \n",
    "        keys = dict.keys()  \n",
    "        if n in keys: \n",
    "            dict[n] += 1  \n",
    "        else:  \n",
    "            dict[n] = 1  \n",
    "    return dict  \n",
    "print(char_frequency('apple pie')) "
   ]
  },
  {
   "cell_type": "markdown",
   "metadata": {},
   "source": [
    "3. Create a function that takes a string as the input and return a string that is made of the first 2 and the last 2 characters of the input string. If the string length is less than 2, return 'The length of the input string is shorter than 2!'. <br>\n",
    "Sample String : 'carnivore' <br>\n",
    "Expected Result : 'care' <br>\n",
    "Sample String : 'hi' <br>\n",
    "Expected Result : 'hihi' <br>\n",
    "Sample String : '?' <br>\n",
    "Expected Result : 'The length of the input string is shorter than 2!'"
   ]
  },
  {
   "cell_type": "code",
   "execution_count": 1,
   "metadata": {},
   "outputs": [
    {
     "name": "stdout",
     "output_type": "stream",
     "text": [
      "care\n",
      "hihi\n",
      "The length of the input string is shorter than 2\n"
     ]
    }
   ],
   "source": [
    "def string_start2_end2(str):\n",
    "  if len(str) < 2:\n",
    "    return 'The length of the input string is shorter than 2'\n",
    "\n",
    "  return str[0:2] + str[-2:]\n",
    "\n",
    "print(string_start2_end2('carnivore'))\n",
    "print(string_start2_end2('hi'))\n",
    "print(string_start2_end2('?'))"
   ]
  },
  {
   "cell_type": "markdown",
   "metadata": {},
   "source": [
    "4. Create a function that takes two inputs of lists and return an interwined list in this way: <br>\n",
    "Sample input: <br>\n",
    "listA = [1, 2, 3, 4]<br>\n",
    "listB = ['a', 'b', 'c', 'd', 'e', 'f']<br>\n",
    "Return:\n",
    "[1, 'a', 2, 'b', 3, 'c', 4, 'd', 'e', 'f'].<br>\n",
    "Note: when the lengths do not match, the remainder shall be appended to the end of the output list."
   ]
  },
  {
   "cell_type": "code",
   "execution_count": 1,
   "metadata": {},
   "outputs": [
    {
     "name": "stdout",
     "output_type": "stream",
     "text": [
      "[1, 'a', 2, 'b', 3, 'c', 4, 'd', 'e', 'f']\n",
      "['a', 1, 'b', 2, 'c', 3, 'd', 4, 'e', 'f']\n",
      "[1, 1, 2, 2, 3, 3, 4, 4]\n"
     ]
    }
   ],
   "source": [
    "def interwine(A, B):\n",
    "    intersect = [item for pair in zip(A, B) for item in pair] #double for loops\n",
    "    if(len(A) == len(B)):\n",
    "        return intersect\n",
    "    elif (len(A) < len(B)):\n",
    "        return intersect + B[len(A):]\n",
    "    else :\n",
    "        return intersect + A[len(B):]\n",
    "        \n",
    "listA = [1, 2, 3, 4]\n",
    "listB = ['a', 'b', 'c', 'd', 'e', 'f']\n",
    "\n",
    "print(interwine(listA, listB))\n",
    "print(interwine(listB, listA))\n",
    "print(interwine(listA, listA))"
   ]
  },
  {
   "cell_type": "markdown",
   "metadata": {},
   "source": [
    "### Lambda"
   ]
  },
  {
   "cell_type": "markdown",
   "metadata": {},
   "source": [
    "5. Write a function to extract year, month and day from datetime using Lambda, and print using the string formatting.<br>\n",
    "Sample input: \n",
    "now = 2020-09-10 22:24:17.072952<br>\n",
    "Output: 'Year: 2020, month: 9, day: 10'<br> <br>\n",
    "Example for string formatting:<br>\n",
    "hello_statement = 'Hello, {}!'<br>\n",
    "hello_statement.format('World')<br>"
   ]
  },
  {
   "cell_type": "code",
   "execution_count": 5,
   "metadata": {},
   "outputs": [
    {
     "name": "stdout",
     "output_type": "stream",
     "text": [
      "2022-09-21 11:08:45.528249\n"
     ]
    },
    {
     "data": {
      "text/plain": [
       "'Year: 2022, month: 9, day: 21'"
      ]
     },
     "execution_count": 5,
     "metadata": {},
     "output_type": "execute_result"
    }
   ],
   "source": [
    "import datetime\n",
    "now = datetime.datetime.now()\n",
    "print(now)\n",
    "\n",
    "def date_time(date):\n",
    "    #use lambda to extract the information\n",
    "    year = lambda date: date.year\n",
    "    month = lambda date: date.month\n",
    "    day = lambda date: date.day\n",
    "    \n",
    "    #string formatting\n",
    "    output_statement = 'Year: {}, month: {}, day: {}'\n",
    "    return output_statement.format(year(date),month(date),day(date))\n",
    "\n",
    "date_time(now)"
   ]
  },
  {
   "cell_type": "markdown",
   "metadata": {},
   "source": [
    "6. Sort a list of tuples by the second element using Lambda.<br>\n",
    "Sample input: [('Apple', 12), ('Pear', 2), ('Orange', 15), ('Banana', 0)] <br>\n",
    "Output: [('Banana', 0), ('Pear', 2), ('Apple', 12), ('Orange', 15)]"
   ]
  },
  {
   "cell_type": "code",
   "execution_count": 6,
   "metadata": {
    "scrolled": true
   },
   "outputs": [
    {
     "name": "stdout",
     "output_type": "stream",
     "text": [
      "Original list of tuples:\n",
      "[('Apple', 12), ('Pear', 2), ('Orange', 15), ('Banana', 0)]\n",
      "\n",
      "Sorted list of Tuples:\n",
      "[('Banana', 0), ('Pear', 2), ('Apple', 12), ('Orange', 15)]\n"
     ]
    }
   ],
   "source": [
    "before = [('Apple', 12), ('Pear', 2), ('Orange', 15), ('Banana', 0)]\n",
    "\n",
    "#lambda\n",
    "after = before.copy()\n",
    "after.sort(key = lambda x: x[1])\n",
    "\n",
    "print(\"Original list of tuples:\")\n",
    "print(before)\n",
    "\n",
    "print(\"\\nSorted list of Tuples:\")\n",
    "print(after)"
   ]
  },
  {
   "cell_type": "markdown",
   "metadata": {},
   "source": [
    "7. Write a function to count the odd, even numbers in a given array of integers using Lambda. <br>\n",
    "Sample input:  <br>\n",
    "[1, 4, 3, 11, 7, 8, 15, 10]  <br>\n",
    "Sample output:  <br>\n",
    "Number of odd numbers: 5  <br>\n",
    "Number of even numbers: 3  <br>"
   ]
  },
  {
   "cell_type": "code",
   "execution_count": 7,
   "metadata": {},
   "outputs": [
    {
     "name": "stdout",
     "output_type": "stream",
     "text": [
      "Number of odd numbers:  5\n",
      "Number of even numbers:  3\n"
     ]
    }
   ],
   "source": [
    "array_example = [1, 4, 3, 11, 7, 8, 15, 10]\n",
    "def even_odd(array_numbers):\n",
    "    odd = len(list(filter(lambda x: (x%2 != 0) , array_numbers)))\n",
    "    even = len(list(filter(lambda x: (x%2 == 0) , array_numbers)))\n",
    "    print(\"Number of odd numbers: \", odd)\n",
    "    print(\"Number of even numbers: \", even)\n",
    "\n",
    "even_odd(array_example)"
   ]
  },
  {
   "cell_type": "markdown",
   "metadata": {},
   "source": [
    "### List Comprehension"
   ]
  },
  {
   "cell_type": "markdown",
   "metadata": {},
   "source": [
    "8. Create a function that takes an input list of strings and returns (1) a list containing the length of each string and (2) a tuple containing the shortest string and its index in the list. <br>\n",
    "Note: you shall use list comprehension in the function.<br> <br>\n",
    "Sample input: ['I', 'love', 'programming', 'using', 'Python'] <br>\n",
    "Return: ([1, 4, 11, 5, 6], ('I', 0))."
   ]
  },
  {
   "cell_type": "code",
   "execution_count": 8,
   "metadata": {},
   "outputs": [
    {
     "name": "stdout",
     "output_type": "stream",
     "text": [
      "([1, 4, 11, 5, 6], ('I', 0))\n"
     ]
    }
   ],
   "source": [
    "def find_shortest_word(words_list):\n",
    "    \n",
    "    # use list comprehension\n",
    "    L = [len(x) for x in words_list]\n",
    "    L2 = L.copy()\n",
    "    L2.sort()\n",
    "    \n",
    "    # index of the shortest string\n",
    "    ind = L.index(L2[0])\n",
    "\n",
    "    return L , (words_list[ind], ind)\n",
    "\n",
    "print(find_shortest_word(['I', 'love', 'programming', 'using', 'Python']))"
   ]
  },
  {
   "cell_type": "markdown",
   "metadata": {},
   "source": [
    "### Numpy"
   ]
  },
  {
   "cell_type": "markdown",
   "metadata": {},
   "source": [
    "9. Use numpy and arange to create a 2x4 matrix with values ranging from 2 to 9. <br>\n",
    "Ouput:<br>\n",
    "Expected Output:<br>\n",
    "[[ 2 3 4 5]<br>\n",
    "[ 6 7 8 9]]"
   ]
  },
  {
   "cell_type": "code",
   "execution_count": 9,
   "metadata": {},
   "outputs": [
    {
     "name": "stdout",
     "output_type": "stream",
     "text": [
      "[[2 3 4 5]\n",
      " [6 7 8 9]]\n"
     ]
    }
   ],
   "source": [
    "import numpy as np\n",
    "x =  np.arange(2, 10).reshape(2,4)\n",
    "print(x)"
   ]
  },
  {
   "cell_type": "markdown",
   "metadata": {},
   "source": [
    "10. Write a function to take an integer numpy array as the input, then (1) create an array that has the same values as the input array, and if there are odd numbers, add 1 to change them to even numbers, (2) stack the input array and the new array vertically, and (3) change the array to the float type (i.e. 'float32'). <br>\n",
    "Sample input:<br>\n",
    "[ 1  5  7 12 14] <br>\n",
    "Output: <br>\n",
    "[[ 1.  5.  7. 12. 14.]<br>\n",
    " [ 2.  6.  8. 12. 14.]]"
   ]
  },
  {
   "cell_type": "code",
   "execution_count": 10,
   "metadata": {},
   "outputs": [
    {
     "name": "stdout",
     "output_type": "stream",
     "text": [
      "[ 1  5  7 12 14] \n",
      "\n",
      "float32\n",
      "[[ 1.  5.  7. 12. 14.]\n",
      " [ 2.  6.  8. 12. 14.]]\n"
     ]
    }
   ],
   "source": [
    "import numpy as np\n",
    "example = np.array([1, 5, 7, 12, 14],dtype='int32')\n",
    "print(example,'\\n')\n",
    "\n",
    "def array_func(a):\n",
    "    b = a.copy()\n",
    "    b[b % 2 == 1 ] += 1\n",
    "    c = np.vstack([a, b])\n",
    "    return(c.astype(np.float32))\n",
    "\n",
    "result = array_func(example)\n",
    "print(result.dtype)\n",
    "print(result)"
   ]
  },
  {
   "cell_type": "markdown",
   "metadata": {},
   "source": [
    "11. Use numpy to first create a 6 by 6 matrix and fill it with a checkerboard pattern. Then append a column of 2's to the left. <br>\n",
    "Checkerboard pattern:<br>\n",
    "[[2 0 1 0 1 0 1]                                                      \n",
    " [2 1 0 1 0 1 0]                                                      \n",
    " [2 0 1 0 1 0 1]                                                      \n",
    " [2 1 0 1 0 1 0]                                                      \n",
    " [2 0 1 0 1 0 1]                                                      \n",
    " [2 1 0 1 0 1 0]]"
   ]
  },
  {
   "cell_type": "code",
   "execution_count": 11,
   "metadata": {},
   "outputs": [
    {
     "name": "stdout",
     "output_type": "stream",
     "text": [
      "A checkerboard pattern with 2's on the left:\n"
     ]
    },
    {
     "data": {
      "text/plain": [
       "array([[2, 0, 1, 0, 1, 0, 1],\n",
       "       [2, 1, 0, 1, 0, 1, 0],\n",
       "       [2, 0, 1, 0, 1, 0, 1],\n",
       "       [2, 1, 0, 1, 0, 1, 0],\n",
       "       [2, 0, 1, 0, 1, 0, 1],\n",
       "       [2, 1, 0, 1, 0, 1, 0]])"
      ]
     },
     "execution_count": 11,
     "metadata": {},
     "output_type": "execute_result"
    }
   ],
   "source": [
    "import numpy as np\n",
    "print(\"A checkerboard pattern with 2's on the left:\")\n",
    "# first step\n",
    "x = np.zeros((6,6),dtype=int)\n",
    "x[1::2,::2] = 1\n",
    "x[::2,1::2] = 1\n",
    "\n",
    "# second step\n",
    "left_column = np.array([2, 2, 2, 2, 2, 2]).reshape(6,1)\n",
    "np.hstack([left_column, x])"
   ]
  },
  {
   "cell_type": "markdown",
   "metadata": {},
   "source": [
    "12. Write a function that obtains 2000 samples from normal distribution (mean=0, standard deviation=1) and calculate cosine for each of them. Then return an array that contains (1) the number of elements that is negative, (2) the mean, and (3) the 25th and 75th percentiles. Use numpy.round? to round your results to have three decimals. <br>\n",
    "Sample output:<br>\n",
    "array([234.   ,   0.619,   0.452,   0.954])<br>"
   ]
  },
  {
   "cell_type": "code",
   "execution_count": 12,
   "metadata": {},
   "outputs": [
    {
     "data": {
      "text/plain": [
       "array([234.   ,   0.619,   0.452,   0.954])"
      ]
     },
     "execution_count": 12,
     "metadata": {},
     "output_type": "execute_result"
    }
   ],
   "source": [
    "import numpy as np\n",
    "np.set_printoptions(suppress=True) \n",
    "\n",
    "def fun_cos():\n",
    "    x = np.random.normal(0, 1, 2000)\n",
    "    x = np.cos(x)\n",
    "    r1 = np.count_nonzero(x<0)\n",
    "    r2 = np.mean(x)\n",
    "    r3 = np.percentile(x, 25)\n",
    "    r4 = np.percentile(x, 75)\n",
    "    \n",
    "    return np.round([r1, r2, r3, r4], 3)\n",
    "\n",
    "np.random.seed(1234)\n",
    "fun_cos()"
   ]
  },
  {
   "cell_type": "code",
   "execution_count": null,
   "metadata": {},
   "outputs": [],
   "source": []
  }
 ],
 "metadata": {
  "kernelspec": {
   "display_name": "Python 3",
   "language": "python",
   "name": "python3"
  },
  "language_info": {
   "codemirror_mode": {
    "name": "ipython",
    "version": 3
   },
   "file_extension": ".py",
   "mimetype": "text/x-python",
   "name": "python",
   "nbconvert_exporter": "python",
   "pygments_lexer": "ipython3",
   "version": "3.8.3"
  }
 },
 "nbformat": 4,
 "nbformat_minor": 4
}
