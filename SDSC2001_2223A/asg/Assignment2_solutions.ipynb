{
 "cells": [
  {
   "cell_type": "markdown",
   "metadata": {},
   "source": [
    "## Assignment 2 Pandas\n",
    "\n",
    "Instruction: make sure to use `Kernel` -> `Restart and Run All`, before submitting your assignment.\n",
    "\n",
    "### Question 1\n",
    "\n",
    "Use the code to simulate data and answer the questions below."
   ]
  },
  {
   "cell_type": "code",
   "execution_count": 1,
   "metadata": {},
   "outputs": [],
   "source": [
    "import pandas as pd\n",
    "import numpy as np\n",
    "np.random.seed(1234)\n",
    "s1 = pd.Series(np.random.randint(1, high=5, size=100, dtype='l'))\n",
    "s2 = pd.Series(np.random.randint(1, high=4, size=100, dtype='l'))\n",
    "s3 = pd.Series(np.random.randint(100, high=301, size=100, dtype='l'))\n",
    "s4 = pd.Series(np.random.randint(10000, high=30001, size=100, dtype='l'))"
   ]
  },
  {
   "cell_type": "markdown",
   "metadata": {},
   "source": [
    " 1. (1) Create a DataFrame `df` by concatenating the three Series s1, s2, s3 as three columns (df: 100 by 3), and then rename column names to be 'a', 'b', 'c'. Keep the first 70 rows of `df`(df: 70 by 3).<br>\n",
    " Create another DataFrame `df2` by joinning the two Series s1, s4 by column (df2: 100 by 2), and the column names should be 'A' and 'B'. Then, keep the last 60 rows of `df2`(df2: 60 by 2)."
   ]
  },
  {
   "cell_type": "code",
   "execution_count": 12,
   "metadata": {},
   "outputs": [
    {
     "name": "stdout",
     "output_type": "stream",
     "text": [
      "Index(['a', 'b', 'c'], dtype='object') \n",
      "\n",
      "Index(['A', 'B'], dtype='object') \n",
      "\n",
      "RangeIndex(start=0, stop=70, step=1) \n",
      "\n",
      "RangeIndex(start=40, stop=100, step=1) \n",
      "\n"
     ]
    },
    {
     "data": {
      "text/html": [
       "<div>\n",
       "<style scoped>\n",
       "    .dataframe tbody tr th:only-of-type {\n",
       "        vertical-align: middle;\n",
       "    }\n",
       "\n",
       "    .dataframe tbody tr th {\n",
       "        vertical-align: top;\n",
       "    }\n",
       "\n",
       "    .dataframe thead th {\n",
       "        text-align: right;\n",
       "    }\n",
       "</style>\n",
       "<table border=\"1\" class=\"dataframe\">\n",
       "  <thead>\n",
       "    <tr style=\"text-align: right;\">\n",
       "      <th></th>\n",
       "      <th>A</th>\n",
       "      <th>B</th>\n",
       "    </tr>\n",
       "  </thead>\n",
       "  <tbody>\n",
       "    <tr>\n",
       "      <th>40</th>\n",
       "      <td>4</td>\n",
       "      <td>21028</td>\n",
       "    </tr>\n",
       "    <tr>\n",
       "      <th>41</th>\n",
       "      <td>4</td>\n",
       "      <td>10615</td>\n",
       "    </tr>\n",
       "    <tr>\n",
       "      <th>42</th>\n",
       "      <td>1</td>\n",
       "      <td>21722</td>\n",
       "    </tr>\n",
       "    <tr>\n",
       "      <th>43</th>\n",
       "      <td>2</td>\n",
       "      <td>19723</td>\n",
       "    </tr>\n",
       "    <tr>\n",
       "      <th>44</th>\n",
       "      <td>4</td>\n",
       "      <td>28816</td>\n",
       "    </tr>\n",
       "  </tbody>\n",
       "</table>\n",
       "</div>"
      ],
      "text/plain": [
       "    A      B\n",
       "40  4  21028\n",
       "41  4  10615\n",
       "42  1  21722\n",
       "43  2  19723\n",
       "44  4  28816"
      ]
     },
     "execution_count": 12,
     "metadata": {},
     "output_type": "execute_result"
    }
   ],
   "source": [
    "df = pd.concat([s1, s2, s3], axis=1)\n",
    "df.columns = ['a','b','c']\n",
    "\n",
    "df = df[0:70]\n",
    "df2 = pd.DataFrame({'A':s1, 'B':s4})\n",
    "df2 = df2[40:]\n",
    "\n",
    "print(df.columns,'\\n'); print(df2.columns,'\\n')\n",
    "print(df.index,'\\n'); print(df2.index,'\\n')\n",
    "df2.head()"
   ]
  },
  {
   "cell_type": "markdown",
   "metadata": {},
   "source": [
    "1. (2) Merge `df` and `df2` by the index values into `df3`. Note that we will only keep the intersections of the two dataframes (`df3`: 30 by 5). Additionally, drop the column in `df3` that is repetitive (`df3`: 30 by 4)."
   ]
  },
  {
   "cell_type": "code",
   "execution_count": 13,
   "metadata": {},
   "outputs": [
    {
     "name": "stdout",
     "output_type": "stream",
     "text": [
      "(30, 4)\n"
     ]
    },
    {
     "data": {
      "text/html": [
       "<div>\n",
       "<style scoped>\n",
       "    .dataframe tbody tr th:only-of-type {\n",
       "        vertical-align: middle;\n",
       "    }\n",
       "\n",
       "    .dataframe tbody tr th {\n",
       "        vertical-align: top;\n",
       "    }\n",
       "\n",
       "    .dataframe thead th {\n",
       "        text-align: right;\n",
       "    }\n",
       "</style>\n",
       "<table border=\"1\" class=\"dataframe\">\n",
       "  <thead>\n",
       "    <tr style=\"text-align: right;\">\n",
       "      <th></th>\n",
       "      <th>a</th>\n",
       "      <th>b</th>\n",
       "      <th>c</th>\n",
       "      <th>B</th>\n",
       "    </tr>\n",
       "  </thead>\n",
       "  <tbody>\n",
       "    <tr>\n",
       "      <th>40</th>\n",
       "      <td>4</td>\n",
       "      <td>3</td>\n",
       "      <td>135</td>\n",
       "      <td>21028</td>\n",
       "    </tr>\n",
       "    <tr>\n",
       "      <th>41</th>\n",
       "      <td>4</td>\n",
       "      <td>3</td>\n",
       "      <td>270</td>\n",
       "      <td>10615</td>\n",
       "    </tr>\n",
       "    <tr>\n",
       "      <th>42</th>\n",
       "      <td>1</td>\n",
       "      <td>1</td>\n",
       "      <td>248</td>\n",
       "      <td>21722</td>\n",
       "    </tr>\n",
       "    <tr>\n",
       "      <th>43</th>\n",
       "      <td>2</td>\n",
       "      <td>2</td>\n",
       "      <td>126</td>\n",
       "      <td>19723</td>\n",
       "    </tr>\n",
       "    <tr>\n",
       "      <th>44</th>\n",
       "      <td>4</td>\n",
       "      <td>2</td>\n",
       "      <td>189</td>\n",
       "      <td>28816</td>\n",
       "    </tr>\n",
       "  </tbody>\n",
       "</table>\n",
       "</div>"
      ],
      "text/plain": [
       "    a  b    c      B\n",
       "40  4  3  135  21028\n",
       "41  4  3  270  10615\n",
       "42  1  1  248  21722\n",
       "43  2  2  126  19723\n",
       "44  4  2  189  28816"
      ]
     },
     "execution_count": 13,
     "metadata": {},
     "output_type": "execute_result"
    }
   ],
   "source": [
    "df3 = pd.merge(df, df2, left_index = True, right_index = True, how='inner').drop('A', axis=1)\n",
    "\n",
    "print(df3.shape)\n",
    "df3.head()"
   ]
  },
  {
   "cell_type": "markdown",
   "metadata": {},
   "source": [
    "1. (3) Create a one column DataFrame with the values of the three Series s1, s2, s3 and assign it to 'df4' (300 by 1)."
   ]
  },
  {
   "cell_type": "code",
   "execution_count": 14,
   "metadata": {},
   "outputs": [
    {
     "name": "stdout",
     "output_type": "stream",
     "text": [
      "<class 'pandas.core.frame.DataFrame'>\n",
      "(300, 1)\n",
      "      0\n",
      "95  202\n",
      "96  108\n",
      "97  141\n",
      "98  261\n",
      "99  169\n"
     ]
    }
   ],
   "source": [
    "df4 = pd.concat([s1, s2, s3], axis=0)\n",
    "df4 = df4.to_frame()\n",
    "\n",
    "print(type(df4)) #check the type of the df4\n",
    "print(df4.shape) #check the shape\n",
    "print(df4.tail()) #check last columns: note the index"
   ]
  },
  {
   "cell_type": "markdown",
   "metadata": {},
   "source": [
    "1. (4) Reindex the DataFrame so that the index is from 0 to 299"
   ]
  },
  {
   "cell_type": "code",
   "execution_count": 15,
   "metadata": {},
   "outputs": [
    {
     "data": {
      "text/html": [
       "<div>\n",
       "<style scoped>\n",
       "    .dataframe tbody tr th:only-of-type {\n",
       "        vertical-align: middle;\n",
       "    }\n",
       "\n",
       "    .dataframe tbody tr th {\n",
       "        vertical-align: top;\n",
       "    }\n",
       "\n",
       "    .dataframe thead th {\n",
       "        text-align: right;\n",
       "    }\n",
       "</style>\n",
       "<table border=\"1\" class=\"dataframe\">\n",
       "  <thead>\n",
       "    <tr style=\"text-align: right;\">\n",
       "      <th></th>\n",
       "      <th>0</th>\n",
       "    </tr>\n",
       "  </thead>\n",
       "  <tbody>\n",
       "    <tr>\n",
       "      <th>0</th>\n",
       "      <td>4</td>\n",
       "    </tr>\n",
       "    <tr>\n",
       "      <th>1</th>\n",
       "      <td>4</td>\n",
       "    </tr>\n",
       "    <tr>\n",
       "      <th>2</th>\n",
       "      <td>3</td>\n",
       "    </tr>\n",
       "    <tr>\n",
       "      <th>3</th>\n",
       "      <td>2</td>\n",
       "    </tr>\n",
       "    <tr>\n",
       "      <th>4</th>\n",
       "      <td>1</td>\n",
       "    </tr>\n",
       "    <tr>\n",
       "      <th>...</th>\n",
       "      <td>...</td>\n",
       "    </tr>\n",
       "    <tr>\n",
       "      <th>295</th>\n",
       "      <td>202</td>\n",
       "    </tr>\n",
       "    <tr>\n",
       "      <th>296</th>\n",
       "      <td>108</td>\n",
       "    </tr>\n",
       "    <tr>\n",
       "      <th>297</th>\n",
       "      <td>141</td>\n",
       "    </tr>\n",
       "    <tr>\n",
       "      <th>298</th>\n",
       "      <td>261</td>\n",
       "    </tr>\n",
       "    <tr>\n",
       "      <th>299</th>\n",
       "      <td>169</td>\n",
       "    </tr>\n",
       "  </tbody>\n",
       "</table>\n",
       "<p>300 rows × 1 columns</p>\n",
       "</div>"
      ],
      "text/plain": [
       "       0\n",
       "0      4\n",
       "1      4\n",
       "2      3\n",
       "3      2\n",
       "4      1\n",
       "..   ...\n",
       "295  202\n",
       "296  108\n",
       "297  141\n",
       "298  261\n",
       "299  169\n",
       "\n",
       "[300 rows x 1 columns]"
      ]
     },
     "execution_count": 15,
     "metadata": {},
     "output_type": "execute_result"
    }
   ],
   "source": [
    "df4.reset_index(drop=True, inplace=True)\n",
    "df4"
   ]
  },
  {
   "cell_type": "markdown",
   "metadata": {},
   "source": [
    "### Question 2\n",
    "\n",
    "First, download the Olympic medal dataset (medals.csv). Use the following code to load the dataset.\n",
    "\n",
    "The columns give information on: <br>\n",
    "summer Olympic games--number of games and summer medals;  <br>\n",
    "winter Olympic games--number of games and winter medals;  <br>\n",
    "total Olympic games--number of games and total medals."
   ]
  },
  {
   "cell_type": "code",
   "execution_count": 16,
   "metadata": {
    "nbgrader": {
     "grade": false,
     "grade_id": "1",
     "locked": false,
     "solution": false
    },
    "scrolled": false,
    "umich_question": "prolog-000"
   },
   "outputs": [],
   "source": [
    "import pandas as pd\n",
    "df = pd.read_csv('medals.csv', index_col=0, skiprows=0)"
   ]
  },
  {
   "cell_type": "markdown",
   "metadata": {},
   "source": [
    "2. (1) Show the first 6 rows in the DataFrame. "
   ]
  },
  {
   "cell_type": "code",
   "execution_count": 17,
   "metadata": {
    "scrolled": true
   },
   "outputs": [
    {
     "data": {
      "text/html": [
       "<div>\n",
       "<style scoped>\n",
       "    .dataframe tbody tr th:only-of-type {\n",
       "        vertical-align: middle;\n",
       "    }\n",
       "\n",
       "    .dataframe tbody tr th {\n",
       "        vertical-align: top;\n",
       "    }\n",
       "\n",
       "    .dataframe thead th {\n",
       "        text-align: right;\n",
       "    }\n",
       "</style>\n",
       "<table border=\"1\" class=\"dataframe\">\n",
       "  <thead>\n",
       "    <tr style=\"text-align: right;\">\n",
       "      <th></th>\n",
       "      <th>Summer</th>\n",
       "      <th>Gold</th>\n",
       "      <th>Silver</th>\n",
       "      <th>Bronze</th>\n",
       "      <th>Total</th>\n",
       "      <th>Winter</th>\n",
       "      <th>Gold.1</th>\n",
       "      <th>Silver.1</th>\n",
       "      <th>Bronze.1</th>\n",
       "      <th>Total.1</th>\n",
       "      <th>Games</th>\n",
       "      <th>Gold.2</th>\n",
       "      <th>Silver.2</th>\n",
       "      <th>Bronze.2</th>\n",
       "      <th>Combined total</th>\n",
       "      <th>ID</th>\n",
       "    </tr>\n",
       "  </thead>\n",
       "  <tbody>\n",
       "    <tr>\n",
       "      <th>Afghanistan</th>\n",
       "      <td>13</td>\n",
       "      <td>0</td>\n",
       "      <td>0</td>\n",
       "      <td>2</td>\n",
       "      <td>2</td>\n",
       "      <td>0</td>\n",
       "      <td>0</td>\n",
       "      <td>0</td>\n",
       "      <td>0</td>\n",
       "      <td>0</td>\n",
       "      <td>13</td>\n",
       "      <td>0</td>\n",
       "      <td>0</td>\n",
       "      <td>2</td>\n",
       "      <td>2</td>\n",
       "      <td>AFG</td>\n",
       "    </tr>\n",
       "    <tr>\n",
       "      <th>Algeria</th>\n",
       "      <td>12</td>\n",
       "      <td>5</td>\n",
       "      <td>2</td>\n",
       "      <td>8</td>\n",
       "      <td>15</td>\n",
       "      <td>3</td>\n",
       "      <td>0</td>\n",
       "      <td>0</td>\n",
       "      <td>0</td>\n",
       "      <td>0</td>\n",
       "      <td>15</td>\n",
       "      <td>5</td>\n",
       "      <td>2</td>\n",
       "      <td>8</td>\n",
       "      <td>15</td>\n",
       "      <td>ALG</td>\n",
       "    </tr>\n",
       "    <tr>\n",
       "      <th>Argentina</th>\n",
       "      <td>23</td>\n",
       "      <td>18</td>\n",
       "      <td>24</td>\n",
       "      <td>28</td>\n",
       "      <td>70</td>\n",
       "      <td>18</td>\n",
       "      <td>0</td>\n",
       "      <td>0</td>\n",
       "      <td>0</td>\n",
       "      <td>0</td>\n",
       "      <td>41</td>\n",
       "      <td>18</td>\n",
       "      <td>24</td>\n",
       "      <td>28</td>\n",
       "      <td>70</td>\n",
       "      <td>ARG</td>\n",
       "    </tr>\n",
       "    <tr>\n",
       "      <th>Armenia</th>\n",
       "      <td>5</td>\n",
       "      <td>1</td>\n",
       "      <td>2</td>\n",
       "      <td>9</td>\n",
       "      <td>12</td>\n",
       "      <td>6</td>\n",
       "      <td>0</td>\n",
       "      <td>0</td>\n",
       "      <td>0</td>\n",
       "      <td>0</td>\n",
       "      <td>11</td>\n",
       "      <td>1</td>\n",
       "      <td>2</td>\n",
       "      <td>9</td>\n",
       "      <td>12</td>\n",
       "      <td>ARM</td>\n",
       "    </tr>\n",
       "    <tr>\n",
       "      <th>Australasia</th>\n",
       "      <td>2</td>\n",
       "      <td>3</td>\n",
       "      <td>4</td>\n",
       "      <td>5</td>\n",
       "      <td>12</td>\n",
       "      <td>0</td>\n",
       "      <td>0</td>\n",
       "      <td>0</td>\n",
       "      <td>0</td>\n",
       "      <td>0</td>\n",
       "      <td>2</td>\n",
       "      <td>3</td>\n",
       "      <td>4</td>\n",
       "      <td>5</td>\n",
       "      <td>12</td>\n",
       "      <td>ANZ</td>\n",
       "    </tr>\n",
       "    <tr>\n",
       "      <th>Australia</th>\n",
       "      <td>25</td>\n",
       "      <td>139</td>\n",
       "      <td>152</td>\n",
       "      <td>177</td>\n",
       "      <td>468</td>\n",
       "      <td>18</td>\n",
       "      <td>5</td>\n",
       "      <td>3</td>\n",
       "      <td>4</td>\n",
       "      <td>12</td>\n",
       "      <td>43</td>\n",
       "      <td>144</td>\n",
       "      <td>155</td>\n",
       "      <td>181</td>\n",
       "      <td>480</td>\n",
       "      <td>AUS</td>\n",
       "    </tr>\n",
       "  </tbody>\n",
       "</table>\n",
       "</div>"
      ],
      "text/plain": [
       "              Summer  Gold  Silver  Bronze  Total   Winter  Gold.1  Silver.1  \\\n",
       "Afghanistan       13     0       0       2      2        0       0         0   \n",
       "Algeria           12     5       2       8     15        3       0         0   \n",
       "Argentina         23    18      24      28     70       18       0         0   \n",
       "Armenia            5     1       2       9     12        6       0         0   \n",
       "Australasia        2     3       4       5     12        0       0         0   \n",
       "Australia         25   139     152     177    468       18       5         3   \n",
       "\n",
       "             Bronze.1  Total.1   Games  Gold.2  Silver.2  Bronze.2  \\\n",
       "Afghanistan         0        0      13       0         0         2   \n",
       "Algeria             0        0      15       5         2         8   \n",
       "Argentina           0        0      41      18        24        28   \n",
       "Armenia             0        0      11       1         2         9   \n",
       "Australasia         0        0       2       3         4         5   \n",
       "Australia           4       12      43     144       155       181   \n",
       "\n",
       "             Combined total   ID  \n",
       "Afghanistan               2  AFG  \n",
       "Algeria                  15  ALG  \n",
       "Argentina                70  ARG  \n",
       "Armenia                  12  ARM  \n",
       "Australasia              12  ANZ  \n",
       "Australia               480  AUS  "
      ]
     },
     "execution_count": 17,
     "metadata": {},
     "output_type": "execute_result"
    }
   ],
   "source": [
    "# Your answer here\n",
    "df.head(6)"
   ]
  },
  {
   "cell_type": "markdown",
   "metadata": {},
   "source": [
    "2. (2) Provide the shape of the DataFrame."
   ]
  },
  {
   "cell_type": "code",
   "execution_count": 18,
   "metadata": {},
   "outputs": [
    {
     "data": {
      "text/plain": [
       "(147, 16)"
      ]
     },
     "execution_count": 18,
     "metadata": {},
     "output_type": "execute_result"
    }
   ],
   "source": [
    "# Your answer here\n",
    "df.shape"
   ]
  },
  {
   "cell_type": "markdown",
   "metadata": {},
   "source": [
    "2. (3) Rename the column name 'Combined total' to 'Combined.Total' and then show the columns."
   ]
  },
  {
   "cell_type": "code",
   "execution_count": 19,
   "metadata": {},
   "outputs": [
    {
     "data": {
      "text/plain": [
       "'Combined.Total'"
      ]
     },
     "execution_count": 19,
     "metadata": {},
     "output_type": "execute_result"
    }
   ],
   "source": [
    "# Your answer here\n",
    "df.rename({'Combined total': 'Combined.Total'}, axis = 1, inplace = True)\n",
    "df.columns[14]"
   ]
  },
  {
   "cell_type": "markdown",
   "metadata": {},
   "source": [
    "2. (4) Change all column names to lowercase and remove all spaces ' '."
   ]
  },
  {
   "cell_type": "code",
   "execution_count": 20,
   "metadata": {},
   "outputs": [
    {
     "data": {
      "text/plain": [
       "Index(['summer', 'gold', 'silver', 'bronze', 'total', 'winter', 'gold.1',\n",
       "       'silver.1', 'bronze.1', 'total.1', 'games', 'gold.2', 'silver.2',\n",
       "       'bronze.2', 'combined.total', 'id'],\n",
       "      dtype='object')"
      ]
     },
     "execution_count": 20,
     "metadata": {},
     "output_type": "execute_result"
    }
   ],
   "source": [
    "# Your answer here\n",
    "df.columns = df.columns.str.strip()\n",
    "df.columns = df.columns.str.lower()\n",
    "df.columns"
   ]
  },
  {
   "cell_type": "markdown",
   "metadata": {},
   "source": [
    "2. (5) Which country has won the most gold medals in summer games? Provide the country name and the number of gold medals. <br>\n",
    "Expected output: a tuple consisting of the country name and the number of gold medals."
   ]
  },
  {
   "cell_type": "code",
   "execution_count": 21,
   "metadata": {
    "nbgrader": {
     "grade": false,
     "locked": false,
     "solution": false
    },
    "umich_part_id": "001",
    "umich_partlist_id": "001"
   },
   "outputs": [
    {
     "data": {
      "text/plain": [
       "('United States', 976)"
      ]
     },
     "execution_count": 21,
     "metadata": {},
     "output_type": "execute_result"
    }
   ],
   "source": [
    "def most_gold():\n",
    "    gold = df['gold'][0:142].append(df['gold'][143:145]) #remove total, Independent Olympic Participants, Mixed team\n",
    "    countryName = df.index[gold.argmax()]\n",
    "    return countryName,gold.max()\n",
    "\n",
    "most_gold()"
   ]
  },
  {
   "cell_type": "markdown",
   "metadata": {},
   "source": [
    "2. (6) Which country had the largest difference between their summer and winter medal counts, relative to the total medal count? <br> Note: only include countries that have won at least 15 medals in both summer and winter. <br>\n",
    "$$\\frac{Summer_{Metal} - Winter_{Metal}}{Total_{Metal}}$$\n",
    "Instruction: create a new copy of the DataFrame, first calculate the value as a new column named 'percent', and then **return the row information of the country as a pandas Series**, i.e.:<br> <br>\n",
    "summer x<br>\n",
    "gold x<br>\n",
    "silver x<br>\n",
    "...<br>\n",
    "percent x<br>\n",
    "Name: x, dtype: object\n",
    "\n",
    "\n"
   ]
  },
  {
   "cell_type": "code",
   "execution_count": 22,
   "metadata": {
    "umich_part_id": "002",
    "umich_partlist_id": "001"
   },
   "outputs": [
    {
     "data": {
      "text/plain": [
       "summer                  27\n",
       "gold                   236\n",
       "silver                 272\n",
       "bronze                 272\n",
       "total                  780\n",
       "winter                  22\n",
       "gold.1                  10\n",
       "silver.1                 4\n",
       "bronze.1                12\n",
       "total.1                 26\n",
       "games                   49\n",
       "gold.2                 246\n",
       "silver.2               276\n",
       "bronze.2               284\n",
       "combined.total         806\n",
       "id                     GBR\n",
       "percent           0.935484\n",
       "Name: Great Britain, dtype: object"
      ]
     },
     "execution_count": 22,
     "metadata": {},
     "output_type": "execute_result"
    }
   ],
   "source": [
    "def max_diff():\n",
    "    df2 = pd.concat([df[0:142],df[143:145]]).copy() #remove total, Independent Olympic Participants, Mixed team\n",
    "    df2 = df2[(df2['total'] > 15) & (df2['total.1'] > 15)]\n",
    "    df2['percent'] = abs((df2['total']-df2['total.1'])/df2['combined.total'])\n",
    "\n",
    "    #print(df['percent'].describe()) #check your results\n",
    "    \n",
    "    ind = df2['percent'].argmax() #index\n",
    "    return df2.iloc[ind]\n",
    "\n",
    "max_diff()"
   ]
  },
  {
   "cell_type": "markdown",
   "metadata": {},
   "source": [
    "2. (7) Create a new column 'country_cat' that denotes the first letter of the country name, i.e. \"A\" for \"Afghanistan\", and count the number of countries in each category. Make sure to present the results alphabetically."
   ]
  },
  {
   "cell_type": "code",
   "execution_count": 23,
   "metadata": {
    "scrolled": true
   },
   "outputs": [
    {
     "data": {
      "text/plain": [
       "country_cat\n",
       "A     8\n",
       "B    12\n",
       "C    12\n",
       "D     3\n",
       "E     6\n",
       "F     2\n",
       "G     9\n",
       "H     3\n",
       "I     9\n",
       "J     2\n",
       "K     4\n",
       "L     5\n",
       "M     9\n",
       "N     8\n",
       "P     8\n",
       "Q     1\n",
       "R     3\n",
       "S    17\n",
       "T     8\n",
       "U     8\n",
       "V     3\n",
       "W     1\n",
       "Y     1\n",
       "Z     2\n",
       "Name: country_cat, dtype: int64"
      ]
     },
     "execution_count": 23,
     "metadata": {},
     "output_type": "execute_result"
    }
   ],
   "source": [
    "def country_first_letter():\n",
    "    df2 = pd.concat([df[0:142],df[143:145]]).copy() #remove total, Independent Olympic Participants, Mixed team\n",
    "    df2['country_cat'] = df2.index.str[0]\n",
    "\n",
    "    #one way\n",
    "    return df2.groupby('country_cat')['country_cat'].count()\n",
    "\n",
    "    #another way\n",
    "    #return df2['country_cat'].value_counts().sort_index()\n",
    "    \n",
    "country_first_letter()"
   ]
  },
  {
   "cell_type": "markdown",
   "metadata": {},
   "source": [
    "### Question 3\n",
    "Using the following code to read the 'census.csv' dataset, which contains population data for counties and states in US from 2010 to 2015. Counties are political and geographic subdivisions of states in US. <br>"
   ]
  },
  {
   "cell_type": "code",
   "execution_count": 1,
   "metadata": {
    "umich_question": "prolog-005"
   },
   "outputs": [],
   "source": [
    "import pandas as pd\n",
    "census_df = pd.read_csv('census.csv')\n",
    "# print(census_df.shape,'\\n')\n",
    "# print(census_df.columns, '\\n')\n",
    "# print(census_df.tail())"
   ]
  },
  {
   "cell_type": "markdown",
   "metadata": {},
   "source": [
    "3. (1) Which state has the largest number of counties? <br>\n",
    "Note: look at the data carefully and consider the sumlevel carefully. <br>\n",
    "Return a tuple that contains the name of the state and the number of counties."
   ]
  },
  {
   "cell_type": "code",
   "execution_count": 26,
   "metadata": {
    "umich_part_id": "005",
    "umich_partlist_id": "002"
   },
   "outputs": [
    {
     "data": {
      "text/plain": [
       "('Texas', 254)"
      ]
     },
     "execution_count": 26,
     "metadata": {},
     "output_type": "execute_result"
    }
   ],
   "source": [
    "def max_county():\n",
    "    cty = census_df.copy().loc[:,['STNAME','CTYNAME']]\n",
    "\n",
    "    cty = cty[cty['STNAME'] != cty['CTYNAME']] # remove the state-level summary data and DC data\n",
    "\n",
    "    state = cty.groupby('STNAME')['STNAME'].count().sort_values(ascending=False)    \n",
    "    #state.head() #check\n",
    "    \n",
    "    return state.index[0], state[0]\n",
    "\n",
    "max_county()"
   ]
  },
  {
   "cell_type": "markdown",
   "metadata": {},
   "source": [
    "3. (2) Which **state** has had the largest absolute change in population within the period 2010-2015? (Use columns: `POPESTIMATE2010`- `POPESTIMATE2015`). <br>\n",
    "For example, if the population in the 5 year period is 1300, 1400, 1100, 1500, 1200, then the largest absolute change is |1500-1100|=400 <br>\n",
    "Return a tuple that contains the name of the state and the largest absolute change.<br>"
   ]
  },
  {
   "cell_type": "code",
   "execution_count": 28,
   "metadata": {},
   "outputs": [
    {
     "data": {
      "text/plain": [
       "('Texas', 2224751)"
      ]
     },
     "execution_count": 28,
     "metadata": {},
     "output_type": "execute_result"
    }
   ],
   "source": [
    "def change_state():\n",
    "    state = census_df.copy()\n",
    "    state = state[state['COUNTY'] == 0] #only state-level data retained\n",
    "\n",
    "    state.index = state['STNAME'] #change index\n",
    "\n",
    "    state = state.iloc[:,state.columns.str.contains('POPESTIMATE')] #extract only POPESTIMATE\n",
    "\n",
    "\n",
    "    state['MAXCHANGE'] = state.apply(max,axis=1)-state.apply(min,axis=1)\n",
    "    result = state['MAXCHANGE'].sort_values(ascending=False)\n",
    "    return result.index[0], result[0]\n",
    "\n",
    "change_state()"
   ]
  },
  {
   "cell_type": "markdown",
   "metadata": {},
   "source": [
    "3. (3) By looking at the top three most populous **counties** in each **state only**, what are the top three most populous **states** that has the largest population in the top three most populous counties? Use `CENSUS2010POP`. <br>\n",
    "Return a pandas Series. Index: three state names. Value: the total population in the top three most populous counties (in the order of highest to lowest population)."
   ]
  },
  {
   "cell_type": "code",
   "execution_count": 29,
   "metadata": {},
   "outputs": [
    {
     "name": "stdout",
     "output_type": "stream",
     "text": [
      "['California' 'Texas' 'Illinois']\n",
      "[15924150  8269632  6815061]\n"
     ]
    }
   ],
   "source": [
    "def top_states():\n",
    "    \n",
    "    df2 = census_df.copy()\n",
    "    df2 = df2[df2['COUNTY'] != 0] # alternative way to remove the state-level summary data\n",
    "\n",
    "    # apply a function to the group results\n",
    "    def three_county(x):\n",
    "    \n",
    "        # x is a DataFrame of group values\n",
    "        county = x['CENSUS2010POP'].sort_values(ascending=False)\n",
    "        return county[0:3].sum()\n",
    "\n",
    "    #apply the function\n",
    "    pop = df2.groupby('STNAME').apply(three_county)\n",
    "    return pop.sort_values(ascending=False)[0:3]\n",
    "\n",
    "re = top_states()\n",
    "print(re.index.values) #state names\n",
    "print(re.values) # total population of the top three counties"
   ]
  },
  {
   "cell_type": "markdown",
   "metadata": {},
   "source": [
    "3. (4) Convert the `CENSUS2010POP` from numbers to strings with thousands separators (using commas). i.e. 100000 to 100,000. <br>\n",
    "Return the pandas series of strings."
   ]
  },
  {
   "cell_type": "code",
   "execution_count": 30,
   "metadata": {},
   "outputs": [
    {
     "data": {
      "text/plain": [
       "0       4,779,736\n",
       "1          54,571\n",
       "2         182,265\n",
       "3          27,457\n",
       "4          22,915\n",
       "          ...    \n",
       "3188       43,806\n",
       "3189       21,294\n",
       "3190       21,118\n",
       "3191        8,533\n",
       "3192        7,208\n",
       "Name: CENSUS2010POP, Length: 3193, dtype: object"
      ]
     },
     "execution_count": 30,
     "metadata": {},
     "output_type": "execute_result"
    }
   ],
   "source": [
    "def separator():\n",
    "    return census_df['CENSUS2010POP'].apply(lambda x: format(x, ',d'))\n",
    "\n",
    "separator()"
   ]
  }
 ],
 "metadata": {
  "kernelspec": {
   "display_name": "Python 3 (ipykernel)",
   "language": "python",
   "name": "python3"
  },
  "language_info": {
   "codemirror_mode": {
    "name": "ipython",
    "version": 3
   },
   "file_extension": ".py",
   "mimetype": "text/x-python",
   "name": "python",
   "nbconvert_exporter": "python",
   "pygments_lexer": "ipython3",
   "version": "3.9.7"
  },
  "toc": {
   "base_numbering": 1,
   "nav_menu": {},
   "number_sections": true,
   "sideBar": true,
   "skip_h1_title": false,
   "title_cell": "Table of Contents",
   "title_sidebar": "Contents",
   "toc_cell": false,
   "toc_position": {},
   "toc_section_display": true,
   "toc_window_display": false
  },
  "varInspector": {
   "cols": {
    "lenName": 16,
    "lenType": 16,
    "lenVar": 40
   },
   "kernels_config": {
    "python": {
     "delete_cmd_postfix": "",
     "delete_cmd_prefix": "del ",
     "library": "var_list.py",
     "varRefreshCmd": "print(var_dic_list())"
    },
    "r": {
     "delete_cmd_postfix": ") ",
     "delete_cmd_prefix": "rm(",
     "library": "var_list.r",
     "varRefreshCmd": "cat(var_dic_list()) "
    }
   },
   "types_to_exclude": [
    "module",
    "function",
    "builtin_function_or_method",
    "instance",
    "_Feature"
   ],
   "window_display": false
  }
 },
 "nbformat": 4,
 "nbformat_minor": 4
}
