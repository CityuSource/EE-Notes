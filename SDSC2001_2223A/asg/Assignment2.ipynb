{
 "cells": [
  {
   "cell_type": "markdown",
   "metadata": {},
   "source": [
    "## Assignment 2 Pandas\n",
    "\n",
    "**Instructions:** <br>\n",
    "a. write your answer after `# your answer here`. Do not delete any code that is in the cell, as the code facilitates checking your answers. If you happen to delete any code that prevents expected outputs, you may lose points. <br>\n",
    "b. when you finish the assignment, make sure to use `Kernel` -> `Restart and Run All` to restart the kernel and rerun the entire notebook to generate the desired outputs, before submitting your assignment. <br>\n",
    "c. upload your .ipynb file. <br>\n",
    "<br>\n",
    "Each subquestion is worth 5 points, and the total score for assignment 2 is 75 points.\n",
    "\n",
    "**Policy:** <br>\n",
    "Assignment submitted late will receive a late penalty (30% point reduction), regardless of the reason. Empty assignment or no submission receives 0 point."
   ]
  },
  {
   "cell_type": "markdown",
   "metadata": {},
   "source": [
    "\n",
    "### Question 1\n",
    "\n",
    "Use the code to simulate data and answer the questions below."
   ]
  },
  {
   "cell_type": "code",
   "execution_count": null,
   "metadata": {},
   "outputs": [],
   "source": [
    "import pandas as pd\n",
    "import numpy as np\n",
    "np.random.seed(1234)\n",
    "s1 = pd.Series(np.random.randint(1, high=5, size=100, dtype='l'))\n",
    "s2 = pd.Series(np.random.randint(1, high=4, size=100, dtype='l'))\n",
    "s3 = pd.Series(np.random.randint(100, high=301, size=100, dtype='l'))\n",
    "s4 = pd.Series(np.random.randint(10000, high=30001, size=100, dtype='l'))"
   ]
  },
  {
   "cell_type": "markdown",
   "metadata": {},
   "source": [
    " 1. (1) Create a DataFrame `df` by concatenating the three Series s1, s2, s3 as three columns (df: 100 by 3), and then rename column names to be 'a', 'b', 'c'. Keep the first 70 rows of `df`(df: 70 by 3).<br>\n",
    " Create another DataFrame `df2` by joinning the two Series s1, s4 by column (df2: 100 by 2), and the column names should be 'A' and 'B'. Then, keep the last 60 rows of `df2`(df2: 60 by 2)."
   ]
  },
  {
   "cell_type": "code",
   "execution_count": null,
   "metadata": {},
   "outputs": [],
   "source": [
    "# Your answer here\n",
    "\n",
    "\n",
    "\n",
    "\n",
    "\n",
    "\n",
    "# for grading\n",
    "print(df.columns,'\\n'); print(df2.columns,'\\n')\n",
    "print(df.index,'\\n'); print(df2.index,'\\n')\n",
    "df2.head()"
   ]
  },
  {
   "cell_type": "markdown",
   "metadata": {},
   "source": [
    "1. (2) Merge `df` and `df2` by the index values into `df3`. Note that we will only keep the intersections of the two dataframes (`df3`: 30 by 5). Additionally, drop the column in `df3` that is repetitive (`df3`: 30 by 4)."
   ]
  },
  {
   "cell_type": "code",
   "execution_count": null,
   "metadata": {},
   "outputs": [],
   "source": [
    "# Your answer here\n",
    "\n",
    "\n",
    "# for grading\n",
    "print(df3.shape)\n",
    "df3.head()"
   ]
  },
  {
   "cell_type": "markdown",
   "metadata": {},
   "source": [
    "1. (3) Create a one column DataFrame with the values of the three Series s1, s2, s3 and assign it to 'df4' (300 by 1)."
   ]
  },
  {
   "cell_type": "code",
   "execution_count": null,
   "metadata": {},
   "outputs": [],
   "source": [
    "# Your answer here\n",
    "\n",
    "\n",
    "\n",
    "# for grading\n",
    "print(type(df4)) #check the type of the df4\n",
    "print(df4.shape) #check the shape\n",
    "print(df4.tail()) #check last columns: note the index"
   ]
  },
  {
   "cell_type": "markdown",
   "metadata": {},
   "source": [
    "1. (4) Reindex the DataFrame so that the index is from 0 to 299"
   ]
  },
  {
   "cell_type": "code",
   "execution_count": null,
   "metadata": {},
   "outputs": [],
   "source": [
    "# Your answer here\n",
    "\n",
    "\n",
    "# for grading\n",
    "df4"
   ]
  },
  {
   "cell_type": "markdown",
   "metadata": {},
   "source": [
    "### Question 2\n",
    "\n",
    "First, download the Olympic medal dataset (medals.csv). Use the following code to load the dataset.\n",
    "\n",
    "The columns give information on: <br>\n",
    "summer Olympic games--number of games and summer medals;  <br>\n",
    "winter Olympic games--number of games and winter medals;  <br>\n",
    "total Olympic games--number of games and total medals."
   ]
  },
  {
   "cell_type": "code",
   "execution_count": null,
   "metadata": {
    "nbgrader": {
     "grade": false,
     "grade_id": "1",
     "locked": false,
     "solution": false
    },
    "scrolled": false,
    "umich_question": "prolog-000"
   },
   "outputs": [],
   "source": [
    "import pandas as pd\n",
    "df = pd.read_csv('medals.csv', index_col=0, skiprows=0)"
   ]
  },
  {
   "cell_type": "markdown",
   "metadata": {},
   "source": [
    "2. (1) Show the first 6 rows in the DataFrame. "
   ]
  },
  {
   "cell_type": "code",
   "execution_count": null,
   "metadata": {
    "scrolled": true
   },
   "outputs": [],
   "source": [
    "# Your answer here\n"
   ]
  },
  {
   "cell_type": "markdown",
   "metadata": {},
   "source": [
    "2. (2) Provide the shape of the DataFrame."
   ]
  },
  {
   "cell_type": "code",
   "execution_count": null,
   "metadata": {},
   "outputs": [],
   "source": [
    "# Your answer here\n"
   ]
  },
  {
   "cell_type": "markdown",
   "metadata": {},
   "source": [
    "2. (3) Rename the column name 'Combined total' to 'Combined.Total'."
   ]
  },
  {
   "cell_type": "code",
   "execution_count": null,
   "metadata": {},
   "outputs": [],
   "source": [
    "# Your answer here\n",
    "\n",
    "\n",
    "#for grading\n",
    "df.columns[14]"
   ]
  },
  {
   "cell_type": "markdown",
   "metadata": {},
   "source": [
    "2. (4) Change all column names to lowercase and remove all spaces ' '."
   ]
  },
  {
   "cell_type": "code",
   "execution_count": null,
   "metadata": {},
   "outputs": [],
   "source": [
    "# Your answer here\n",
    "\n",
    "\n",
    "\n",
    "# for grading\n",
    "df.columns"
   ]
  },
  {
   "cell_type": "markdown",
   "metadata": {},
   "source": [
    "2. (5) Which country has won the most gold medals in summer games? Provide the country name and the number of gold medals. Remove Independent Olympic Participants and the Mixed team. <br>\n",
    "Expected output: a tuple consisting of the country name and the number of gold medals."
   ]
  },
  {
   "cell_type": "code",
   "execution_count": null,
   "metadata": {
    "nbgrader": {
     "grade": false,
     "locked": false,
     "solution": false
    },
    "umich_part_id": "001",
    "umich_partlist_id": "001"
   },
   "outputs": [],
   "source": [
    "def most_gold():\n",
    "    # Your answer here\n",
    "    \n",
    "    \n",
    "    return countryName,goldNumber\n",
    "\n",
    "most_gold()"
   ]
  },
  {
   "cell_type": "markdown",
   "metadata": {},
   "source": [
    "2. (6) Which country had the largest difference between their summer and winter medal counts, relative to the total medal count? <br> Note: only include countries that have won at least 15 medals in both summer and winter. <br>\n",
    "$$\\frac{Summer_{Metal} - Winter_{Metal}}{Total_{Metal}}$$\n",
    "Instruction: create a new copy of the DataFrame, first calculate the value as a new column named 'percent', and then **return the row information of the country as a pandas Series**, i.e.:<br> <br>\n",
    "summer x<br>\n",
    "gold x<br>\n",
    "silver x<br>\n",
    "...<br>\n",
    "percent x<br>\n",
    "Name: x, dtype: object\n",
    "\n",
    "\n"
   ]
  },
  {
   "cell_type": "code",
   "execution_count": null,
   "metadata": {
    "umich_part_id": "002",
    "umich_partlist_id": "001"
   },
   "outputs": [],
   "source": [
    "def max_diff():\n",
    "    # Your answer here\n",
    "    \n",
    "    \n",
    "    \n",
    "    \n",
    "    \n",
    "    \n",
    "\n",
    "max_diff()"
   ]
  },
  {
   "cell_type": "markdown",
   "metadata": {},
   "source": [
    "2. (7) Create a new column 'country_cat' that denotes the first letter of the country name, i.e. \"A\" for \"Afghanistan\", and count the number of countries in each category. Make sure to present the results alphabetically."
   ]
  },
  {
   "cell_type": "code",
   "execution_count": null,
   "metadata": {
    "scrolled": true
   },
   "outputs": [],
   "source": [
    "def country_first_letter():\n",
    "    # Your answer here\n",
    "    \n",
    "    \n",
    "    \n",
    "    \n",
    "country_first_letter()"
   ]
  },
  {
   "cell_type": "markdown",
   "metadata": {},
   "source": [
    "### Question 3\n",
    "Using the following code to read the 'census.csv' dataset, which contains population data for counties and states in US from 2010 to 2015. Counties are political and geographic subdivisions of states in US. <br>"
   ]
  },
  {
   "cell_type": "code",
   "execution_count": null,
   "metadata": {
    "umich_question": "prolog-005"
   },
   "outputs": [],
   "source": [
    "import pandas as pd\n",
    "census_df = pd.read_csv('census.csv')"
   ]
  },
  {
   "cell_type": "markdown",
   "metadata": {},
   "source": [
    "3. (1) Which state has the largest number of counties? <br>\n",
    "Note: look at the data carefully and consider the sum level carefully. <br>\n",
    "Return a tuple that contains the name of the state and the number of counties."
   ]
  },
  {
   "cell_type": "code",
   "execution_count": null,
   "metadata": {
    "umich_part_id": "005",
    "umich_partlist_id": "002"
   },
   "outputs": [],
   "source": [
    "def max_county():\n",
    "    # Your answer here\n",
    "    \n",
    "    \n",
    "    \n",
    "    \n",
    "    \n",
    "    \n",
    "    \n",
    "\n",
    "max_county()"
   ]
  },
  {
   "cell_type": "markdown",
   "metadata": {},
   "source": [
    "3. (2) Which **state** has had the largest absolute change in population within the period 2010-2015? (Use columns: `POPESTIMATE2010`- `POPESTIMATE2015`). <br>\n",
    "For example, if the population in the 5 year period is 1300, 1400, 1100, 1500, 1200, then the largest absolute change is |1500-1100|=400 <br>\n",
    "Return a tuple that contains the name of the state and the largest absolute change.<br>"
   ]
  },
  {
   "cell_type": "code",
   "execution_count": null,
   "metadata": {},
   "outputs": [],
   "source": [
    "def change_state():\n",
    "    # Your answer here\n",
    "    \n",
    "    \n",
    "    \n",
    "    \n",
    "    \n",
    "    \n",
    "    \n",
    "\n",
    "change_state()"
   ]
  },
  {
   "cell_type": "markdown",
   "metadata": {},
   "source": [
    "3. (3) By looking at the top three most populous **counties** in each **state only**, what are the top three most populous **states** that has the largest population in the top three most populous counties? Use `CENSUS2010POP`. <br>\n",
    "Return a pandas Series. Index: three state names. Value: the total population in the top three most populous counties (in the order of highest to lowest population)."
   ]
  },
  {
   "cell_type": "code",
   "execution_count": null,
   "metadata": {},
   "outputs": [],
   "source": [
    "def top_states():\n",
    "    \n",
    "    # Your answer here\n",
    "    \n",
    "    \n",
    "    \n",
    "    \n",
    "    \n",
    "    \n",
    "    \n",
    "    \n",
    "    \n",
    "# for grading\n",
    "re = top_states()\n",
    "print(re.index.values) #state names\n",
    "print(re.values) # total population of the top three counties"
   ]
  },
  {
   "cell_type": "markdown",
   "metadata": {},
   "source": [
    "3. (4) Convert the `CENSUS2010POP` from numbers to strings with thousands separators (using commas). i.e. 100000 to 100,000. <br>\n",
    "Return the pandas series of strings."
   ]
  },
  {
   "cell_type": "code",
   "execution_count": null,
   "metadata": {},
   "outputs": [],
   "source": [
    "def separator():\n",
    "    # Your answer here\n",
    "    \n",
    "    \n",
    "separator()"
   ]
  }
 ],
 "metadata": {
  "kernelspec": {
   "display_name": "Python 3 (ipykernel)",
   "language": "python",
   "name": "python3"
  },
  "language_info": {
   "codemirror_mode": {
    "name": "ipython",
    "version": 3
   },
   "file_extension": ".py",
   "mimetype": "text/x-python",
   "name": "python",
   "nbconvert_exporter": "python",
   "pygments_lexer": "ipython3",
   "version": "3.9.7"
  }
 },
 "nbformat": 4,
 "nbformat_minor": 4
}
