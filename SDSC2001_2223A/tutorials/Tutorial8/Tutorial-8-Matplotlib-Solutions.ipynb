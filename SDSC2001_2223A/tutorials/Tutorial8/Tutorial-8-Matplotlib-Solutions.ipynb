{
 "cells": [
  {
   "cell_type": "markdown",
   "id": "ca3d4228",
   "metadata": {},
   "source": [
    "# Tutorial 8 - Matplotlib\n",
    "\n",
    "TA: Collin Sakal\n"
   ]
  },
  {
   "cell_type": "code",
   "execution_count": 3,
   "id": "cec10d02",
   "metadata": {},
   "outputs": [],
   "source": [
    "# Imports\n",
    "import numpy as np\n",
    "import pandas as pd\n",
    "import matplotlib.pyplot as plt"
   ]
  },
  {
   "cell_type": "markdown",
   "id": "bd8e8ce4",
   "metadata": {},
   "source": [
    "### IMPORTANT!!!\n",
    "\n",
    "Make sure you **downloaded all files in the \"Tutorial-8-Matplotlib\" folder** for this tutorial. Both the jupyter notebook and the Data.csv file need to be in the same directory (folder) for the code below to work.\n",
    "\n",
    "**Please follow the steps below:**\n",
    "1. Download the entire \"Tutorial-8-Matplotlib\" folder from Canvas \n",
    "2. Open Anaconda, go to Jupyter notebook\n",
    "3. Click File -> Open -> Tutorial-8-Matplotlib -> Tutorial-8-Matplotlin-Jupyter-Notebook\n",
    "4. Run the cell below \"Import Data\" and make sure there are no errors\n",
    "\n",
    "**Alternatively:**\n",
    "1. Download the Tutorial 8 Jupyter Notebook and Data.csv file \n",
    "2. Place both files in the same folder\n",
    "3. Open the Jupyter notebook and run the cell below \"Import Data\" and made sure there are no errors"
   ]
  },
  {
   "cell_type": "markdown",
   "id": "1016e7fd",
   "metadata": {},
   "source": [
    "### Import Data"
   ]
  },
  {
   "cell_type": "code",
   "execution_count": 4,
   "id": "111b1e33",
   "metadata": {},
   "outputs": [
    {
     "data": {
      "text/html": [
       "<div>\n",
       "<style scoped>\n",
       "    .dataframe tbody tr th:only-of-type {\n",
       "        vertical-align: middle;\n",
       "    }\n",
       "\n",
       "    .dataframe tbody tr th {\n",
       "        vertical-align: top;\n",
       "    }\n",
       "\n",
       "    .dataframe thead th {\n",
       "        text-align: right;\n",
       "    }\n",
       "</style>\n",
       "<table border=\"1\" class=\"dataframe\">\n",
       "  <thead>\n",
       "    <tr style=\"text-align: right;\">\n",
       "      <th></th>\n",
       "      <th>Pregnancies</th>\n",
       "      <th>Glucose</th>\n",
       "      <th>BloodPressure</th>\n",
       "      <th>SkinThickness</th>\n",
       "      <th>Insulin</th>\n",
       "      <th>BMI</th>\n",
       "      <th>DiabetesPedigreeFunction</th>\n",
       "      <th>Age</th>\n",
       "      <th>Diabetes</th>\n",
       "    </tr>\n",
       "  </thead>\n",
       "  <tbody>\n",
       "    <tr>\n",
       "      <th>0</th>\n",
       "      <td>6</td>\n",
       "      <td>148.0</td>\n",
       "      <td>72.0</td>\n",
       "      <td>35.0</td>\n",
       "      <td>NaN</td>\n",
       "      <td>33.6</td>\n",
       "      <td>0.627</td>\n",
       "      <td>50</td>\n",
       "      <td>1</td>\n",
       "    </tr>\n",
       "    <tr>\n",
       "      <th>1</th>\n",
       "      <td>1</td>\n",
       "      <td>85.0</td>\n",
       "      <td>66.0</td>\n",
       "      <td>29.0</td>\n",
       "      <td>NaN</td>\n",
       "      <td>26.6</td>\n",
       "      <td>0.351</td>\n",
       "      <td>31</td>\n",
       "      <td>0</td>\n",
       "    </tr>\n",
       "    <tr>\n",
       "      <th>2</th>\n",
       "      <td>8</td>\n",
       "      <td>183.0</td>\n",
       "      <td>64.0</td>\n",
       "      <td>NaN</td>\n",
       "      <td>NaN</td>\n",
       "      <td>23.3</td>\n",
       "      <td>0.672</td>\n",
       "      <td>32</td>\n",
       "      <td>1</td>\n",
       "    </tr>\n",
       "    <tr>\n",
       "      <th>3</th>\n",
       "      <td>1</td>\n",
       "      <td>89.0</td>\n",
       "      <td>66.0</td>\n",
       "      <td>23.0</td>\n",
       "      <td>94.0</td>\n",
       "      <td>28.1</td>\n",
       "      <td>0.167</td>\n",
       "      <td>21</td>\n",
       "      <td>0</td>\n",
       "    </tr>\n",
       "    <tr>\n",
       "      <th>4</th>\n",
       "      <td>0</td>\n",
       "      <td>137.0</td>\n",
       "      <td>40.0</td>\n",
       "      <td>35.0</td>\n",
       "      <td>168.0</td>\n",
       "      <td>43.1</td>\n",
       "      <td>2.288</td>\n",
       "      <td>33</td>\n",
       "      <td>1</td>\n",
       "    </tr>\n",
       "  </tbody>\n",
       "</table>\n",
       "</div>"
      ],
      "text/plain": [
       "   Pregnancies  Glucose  BloodPressure  SkinThickness  Insulin   BMI  \\\n",
       "0            6    148.0           72.0           35.0      NaN  33.6   \n",
       "1            1     85.0           66.0           29.0      NaN  26.6   \n",
       "2            8    183.0           64.0            NaN      NaN  23.3   \n",
       "3            1     89.0           66.0           23.0     94.0  28.1   \n",
       "4            0    137.0           40.0           35.0    168.0  43.1   \n",
       "\n",
       "   DiabetesPedigreeFunction  Age  Diabetes  \n",
       "0                     0.627   50         1  \n",
       "1                     0.351   31         0  \n",
       "2                     0.672   32         1  \n",
       "3                     0.167   21         0  \n",
       "4                     2.288   33         1  "
      ]
     },
     "execution_count": 4,
     "metadata": {},
     "output_type": "execute_result"
    }
   ],
   "source": [
    "df = pd.read_csv(\"Data.csv\")\n",
    "df.head()"
   ]
  },
  {
   "cell_type": "markdown",
   "id": "0c0c9a3d",
   "metadata": {},
   "source": [
    "### Goals for this tutorial\n",
    "\n",
    "The aim for this tutorial is to explore how to use matplotlib to generate figures (historgrams, scatterplots, etc) to learn more about a data set. When conducting an analysis this would be called an \"Exploratory Data Analysis\" or \"EDA\" for short. "
   ]
  },
  {
   "cell_type": "markdown",
   "id": "ea49c2f0",
   "metadata": {},
   "source": [
    "### Reference table for this tutorial"
   ]
  },
  {
   "cell_type": "code",
   "execution_count": null,
   "id": "57fe247b",
   "metadata": {},
   "outputs": [],
   "source": [
    "# Selecting a column from a pandas data frame\n",
    "df.loc[:,'Glucose'] \n",
    "\n",
    "# Histogram Code\n",
    "plt.hist(df.loc[:,'Glucose'],    # Data to be ploted\n",
    "         bins = 10,              # Number of bins (bars) in the histogram\n",
    "         color = 'red',          # Color of the histogram bars. Example colors: 'red', 'blue', 'black', 'pink'\n",
    "         edgecolor = 'black')    # Color of the histogram bar outlines. \n",
    "\n",
    "# Scatterplot Code\n",
    "plt.plot(df.loc[:,'Glucose'],  # x-axis data\n",
    "         df.loc[:,'Age'],      # y-axis data\n",
    "         'o',                  # plot x,y coordinates as cicles\n",
    "         color = 'red')        # color of the circles\n",
    "\n",
    "# Lineplot code (to add another line, just add another plt.plot below)\n",
    "plt.plot([1,2,3,4,5,6],              # x-axis data\n",
    "         [9,8,7,6,5,4],              # y-axis data\n",
    "         label = \"Glucose by Age\")   # label for the line\n",
    "\n",
    "# Labeling plots\n",
    "plt.title(\"Title\")\n",
    "plt.xlabel(\"x-axis label\")\n",
    "plt.ylabel(\"y-axis label\")\n",
    "\n",
    "# Adding a legend\n",
    "legend = plt.legend(loc = 'upper center') # Note you don't need legend = ...., you can just do plt.legend()\n",
    "\n",
    "# Calculating column-wise statistics\n",
    "df.loc[:, 'Glucose'].max()   # Maximum\n"
   ]
  },
  {
   "cell_type": "markdown",
   "id": "f19e85d9",
   "metadata": {
    "scrolled": true
   },
   "source": [
    "**(1) Create a Histogram of the \"Pregnancies\" variable**\n",
    "\n",
    "Please fill in the code below to create a histogram with:\n",
    "1. Four bins \n",
    "2. The title \"Histogram of Pregnancies\"\n",
    "3. X-axis label \"Number of Pregnancies\"\n",
    "4. Y-axis label \"Count,\" red bars, and black bar outlines."
   ]
  },
  {
   "cell_type": "code",
   "execution_count": 6,
   "id": "396f2dde",
   "metadata": {},
   "outputs": [
    {
     "data": {
      "text/plain": [
       "Text(0, 0.5, 'Count')"
      ]
     },
     "execution_count": 6,
     "metadata": {},
     "output_type": "execute_result"
    },
    {
     "data": {
      "image/png": "[encoded data removed]",
      "text/plain": [
       "<Figure size 432x288 with 1 Axes>"
      ]
     },
     "metadata": {
      "needs_background": "light"
     },
     "output_type": "display_data"
    }
   ],
   "source": [
    "# Write your code below\n",
    "\n",
    "# Histogram code\n",
    "plt.hist(df.loc[:,'Pregnancies'], \n",
    "         bins = 4,  \n",
    "         alpha = 0.5,\n",
    "         color = 'red',\n",
    "         edgecolor = 'black')\n",
    "\n",
    "# Labeling Code\n",
    "plt.title(\"Histrogram of Pregnancies\")\n",
    "plt.xlabel(\"Number of Pregnancies\")\n",
    "plt.ylabel(\"Count\")"
   ]
  },
  {
   "cell_type": "markdown",
   "id": "490bc906",
   "metadata": {},
   "source": [
    "**(2) Re-create the histogram from (1) but with the number of bins equal to the maximum number of pregnancies**\n",
    "\n",
    "**HINT:** you will need to calculate the maximum number of pregnancies in the pregnancy column first, then put the maximum number in the bins argument.\n",
    "\n",
    "**BONUS:** Why is the maximum number of pregnancies a good choice for the number of bins?\n",
    "\n",
    "The number of pregnancies can only be a fairly small integer value (1,2,3,... etc), setting the number of bins to the maximum number of pregnancies will mean each bin corresponds to a single integer value. **NOTE:** for integer-valued variables with a wider range (example: 1-1000) this would **NOT** be a good idea.\n",
    "\n",
    "**BONUS 2:** What is one **useful** piece of information about the pregnancies variable that a histogram cannot tell us? (There are multiple correct answers)\n",
    "\n",
    "Number of missing values, summary statistics (mean, min, max, etc), if a value is technically an outlier (can be shown with a boxplot), and others! "
   ]
  },
  {
   "cell_type": "code",
   "execution_count": 7,
   "id": "54ca55b8",
   "metadata": {},
   "outputs": [
    {
     "data": {
      "text/plain": [
       "Text(0, 0.5, 'Count')"
      ]
     },
     "execution_count": 7,
     "metadata": {},
     "output_type": "execute_result"
    },
    {
     "data": {
      "image/png": "[encoded data removed]",
      "text/plain": [
       "<Figure size 432x288 with 1 Axes>"
      ]
     },
     "metadata": {
      "needs_background": "light"
     },
     "output_type": "display_data"
    }
   ],
   "source": [
    "# Write your code below\n",
    "\n",
    "# Histogram code\n",
    "plt.hist(df.loc[:,'Pregnancies'], \n",
    "         bins = df.loc[:,'Pregnancies'].max(),  \n",
    "         alpha = 0.5,\n",
    "         color = 'red',\n",
    "         edgecolor = 'black')\n",
    "\n",
    "# Labeling Code\n",
    "plt.title(\"Histrogram of Pregnancies\")\n",
    "plt.xlabel(\"Number of Pregnancies\")\n",
    "plt.ylabel(\"Count\")"
   ]
  },
  {
   "cell_type": "markdown",
   "id": "b6fdf472",
   "metadata": {},
   "source": [
    "**(3) Suppose we are interested in the relationship between BMI and skin thickness. What type of plot would be useful for examining the relationship?**\n",
    "\n",
    "1. Histogram \n",
    "2. Scatterplot\n",
    "\n",
    "Scatterplot"
   ]
  },
  {
   "cell_type": "markdown",
   "id": "44a896a1",
   "metadata": {},
   "source": [
    "**(4) Create a scatterplot of BMI and skin thickness such that:**\n",
    "\n",
    "1. Skin Thickness is on the x-axis, BMI on the y-axis\n",
    "2. The title is \"BMI versus Skin Thickness\"\n",
    "3. The x-axis title is \"Skin Thickness\"\n",
    "4. The y-axis title is \"Body Mass Index\""
   ]
  },
  {
   "cell_type": "code",
   "execution_count": 8,
   "id": "7b1de0c8",
   "metadata": {},
   "outputs": [
    {
     "data": {
      "text/plain": [
       "Text(0, 0.5, 'BMI')"
      ]
     },
     "execution_count": 8,
     "metadata": {},
     "output_type": "execute_result"
    },
    {
     "data": {
      "image/png": "[encoded data removed]",
      "text/plain": [
       "<Figure size 432x288 with 1 Axes>"
      ]
     },
     "metadata": {
      "needs_background": "light"
     },
     "output_type": "display_data"
    }
   ],
   "source": [
    "# Write your code below\n",
    "\n",
    "# Scatterplot code\n",
    "plt.plot(df.loc[:,'SkinThickness'],\n",
    "         df.loc[:,'BMI'], \n",
    "         'o', \n",
    "         color = 'pink')\n",
    "\n",
    "# Labeling Code\n",
    "plt.title(\"BMI versus Skin Thickness\")\n",
    "plt.xlabel(\"Skin Thickness\")\n",
    "plt.ylabel(\"BMI\")"
   ]
  },
  {
   "cell_type": "markdown",
   "id": "1cd48f29",
   "metadata": {},
   "source": [
    "**(5) What is the relationship between skin thickness and BMI?**\n",
    "\n",
    "**BONUS 1:** Would we expect to see this relationship? Recall that BMI (Body Mass Index) estimates the amount of body fat a person has.\n",
    "\n",
    "Yes, if someone's skin thickness measurement is larger we would expect them to have a higher BMI. The exception may be people who exercise a lot and are very muscular. \n",
    "\n",
    "**BONUS 2:** Is there anything unusual about the data in the plot? If so, what?\n",
    "\n",
    "There appear to be some outliers or observations that are unusual. A Skin thickness of 100 is very large, and could be due to measurement error or be a very muscular person who has large arms but low body fat. Also, many people in the data have VERY high BMIs (40+ is classified as severe obesity by the US CDC)."
   ]
  },
  {
   "cell_type": "markdown",
   "id": "7e8cfebb",
   "metadata": {},
   "source": [
    "**(6) Please choose your answer to the question below** \n",
    "\n",
    "Suppose we gather data on the number of people in the city our data was gathered from. We have two arrays of data: population (number of people), and year (2010 - 2020). What type of plot would allow us to examine changes in the population from 2010 - 2020? \n",
    "\n",
    "1. Histogram\n",
    "2. Scatterplot\n",
    "3. Lineplot\n",
    "\n",
    "Lineplot and scatterplot are both technically correct, however, lineplots are generally used to examine trends over time (the trend is easier to view because the points are connected, whereas in a scatterplot they are not). \n",
    "\n",
    "**BONUS:** Why are the other two plot options not ideal to examine this relationship?\n",
    "\n",
    "Lineplots allow us to view changes over time. Scatterplots do as well, but without lines connecting the dots the relationships are less clear. Histograms are generally not used to show any relationship between a variable and time."
   ]
  },
  {
   "cell_type": "code",
   "execution_count": 6,
   "id": "f4faa946",
   "metadata": {},
   "outputs": [],
   "source": [
    "population_fake_city = [5500, 6000, 7500, 7000, 7300, 8500, 10000, 11000, 11100, 13400, 15000]\n",
    "year = [2010, 2011, 2012, 2013, 2014, 2015, 2016, 2017, 2018, 2019, 2020]"
   ]
  },
  {
   "cell_type": "markdown",
   "id": "48cd973b",
   "metadata": {},
   "source": [
    "**(7) Make a lineplot with:**\n",
    "\n",
    "1. Year on the X-axis\n",
    "2. Population on the Y-Axis\n",
    "3. Title \"Population Trends in Fake City, USA\"\n",
    "4. X-axis label \"Year\"\n",
    "5. Y-axis label \"Population\""
   ]
  },
  {
   "cell_type": "code",
   "execution_count": 10,
   "id": "06f430a0",
   "metadata": {},
   "outputs": [
    {
     "data": {
      "text/plain": [
       "Text(0, 0.5, 'Population')"
      ]
     },
     "execution_count": 10,
     "metadata": {},
     "output_type": "execute_result"
    },
    {
     "data": {
      "image/png": "[encoded data removed]",
      "text/plain": [
       "<Figure size 432x288 with 1 Axes>"
      ]
     },
     "metadata": {
      "needs_background": "light"
     },
     "output_type": "display_data"
    }
   ],
   "source": [
    "# Write your code below\n",
    "\n",
    "# Lineplot code\n",
    "plt.plot(year, population_fake_city)\n",
    "\n",
    "# Labeling Code\n",
    "plt.title(\"Popuation Trends in Fake City, USA\")\n",
    "plt.xlabel(\"Year\")\n",
    "plt.ylabel(\"Population\")"
   ]
  },
  {
   "cell_type": "markdown",
   "id": "2d689641",
   "metadata": {},
   "source": [
    "**(8) Re-create the lineplot from (7) but:**\n",
    "\n",
    "1. Add the population of city 2: Croton-on-Hudson New York, USA\n",
    "2. Add a label for each line (HINT: you will need to add a legend too!!)\n",
    "3. Change the title to \"Population trends of Croton-on-Hudson and Fake City, USA\"\n",
    "\n",
    "**Fun fact**: Croton-on-Hudson New York, USA is my hometown"
   ]
  },
  {
   "cell_type": "code",
   "execution_count": 7,
   "id": "bbff66b3",
   "metadata": {},
   "outputs": [],
   "source": [
    "population_city_2 = [8070, 7983, 8031, 8113, 8168, 8202, 8209, 8257, 8183, 8155, 8121]"
   ]
  },
  {
   "cell_type": "code",
   "execution_count": 11,
   "id": "0973622d",
   "metadata": {},
   "outputs": [
    {
     "data": {
      "text/plain": [
       "<matplotlib.legend.Legend at 0x29fe7a92550>"
      ]
     },
     "execution_count": 11,
     "metadata": {},
     "output_type": "execute_result"
    },
    {
     "data": {
      "image/png": "[encoded data removed]",
      "text/plain": [
       "<Figure size 432x288 with 1 Axes>"
      ]
     },
     "metadata": {
      "needs_background": "light"
     },
     "output_type": "display_data"
    }
   ],
   "source": [
    "# Lineplot code\n",
    "plt.plot(year, population_fake_city, label = \"Fake City, USA\")\n",
    "plt.plot(year, population_city_2, label = \"Croton-on-Hudson, New York, USA\")\n",
    "\n",
    "# Labeling Code\n",
    "plt.title(\"Popuation Trends of Croton-on-Hudson and Fake City, USA\")\n",
    "plt.xlabel(\"Year\")\n",
    "plt.ylabel(\"Population\")\n",
    "\n",
    "# legend Code\n",
    "plt.legend(loc = 'upper center')"
   ]
  },
  {
   "cell_type": "markdown",
   "id": "98cac404",
   "metadata": {},
   "source": [
    "### Miscellaneous points for interested students\n",
    "\n",
    "Though matplotlib is probably the most popular, Python has many other plotting libraries. Here are a few that you may find interesting:\n",
    "\n",
    "1. For R-users, the [plotnine](https://plotnine.readthedocs.io/en/stable/) package is similar to ggplot but for Python\n",
    "2. [Plotly](https://plotly.com/python/) creates really good looking plots without much code, but the plots are more difficult to customize  \n",
    "3. [Seaborn](https://seaborn.pydata.org/) is also quite popular. You'll learn more about it in later lectures. "
   ]
  }
 ],
 "metadata": {
  "kernelspec": {
   "display_name": "Python 3 (ipykernel)",
   "language": "python",
   "name": "python3"
  },
  "language_info": {
   "codemirror_mode": {
    "name": "ipython",
    "version": 3
   },
   "file_extension": ".py",
   "mimetype": "text/x-python",
   "name": "python",
   "nbconvert_exporter": "python",
   "pygments_lexer": "ipython3",
   "version": "3.9.12"
  }
 },
 "nbformat": 4,
 "nbformat_minor": 5
}
