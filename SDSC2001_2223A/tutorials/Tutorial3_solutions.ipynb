{
 "cells": [
  {
   "cell_type": "markdown",
   "metadata": {},
   "source": [
    "# Introduction"
   ]
  },
  {
   "cell_type": "raw",
   "metadata": {},
   "source": [
    "TA: Cheng Cao\n",
    "Email: chengcao3-c@my.cityu.edu.hk\n",
    "\n",
    "There are five exercises in total, which are designed based on Lecture 3. In each exercise, there are two parts, namely, Part I and Part II. We only need to focus on Part I. Part II may be a bit more challenging than Part I for the beginners. So, Part II is mainly targeted on those who want to explore more. If you don't want to work on Part II, it will be totally fine. \n",
    "\n",
    "This file mainly contains the solutions of Part I. Regarding the solutions of Part II, you may find some relevant solutions using google. Alternatively, you may discuss with me via email or during the TA office hours. "
   ]
  },
  {
   "cell_type": "markdown",
   "metadata": {},
   "source": [
    "# Types and Sequences_List"
   ]
  },
  {
   "cell_type": "markdown",
   "metadata": {},
   "source": [
    "## Exercise 1"
   ]
  },
  {
   "cell_type": "raw",
   "metadata": {},
   "source": [
    "Exercise 1: \n",
    "Part I: # ------------------------------------------------------------------#\n",
    "    Given a list as \n",
    "        list_A = [1, 1.0, 'A','_',('^_^', 'X_X'), ['A_X'], 'x', {'id':123}, {'11','haha'}] \n",
    "    1) concatenate list_A with itself to create list_B;\n",
    "    2) repeat list_B two times to obtain list_C; and\n",
    "    print the lengths of list_A, list_B, and list_C \n",
    "    \n",
    "    Based on list_C, write a loop to achieve the followings:\n",
    "    # you may use: if type(object) is 'type', or if isinstance(object, type)\n",
    "        3) store each element of str type to a new list named list_D; \n",
    "        4) replace each element 'A' with 'a', and each 'x' with 'X' in list_C. (Do not do the replacements for the tuple or list elements of list_C)\n",
    "\n",
    "    Finally, print list_D and list_C to check the results\n",
    "    \n",
    "Part II: # ------------------------------------------------------------------#    \n",
    "    Additional questions/tasks for those who want to learn more: \n",
    "        5) Unpack only the first element of each tuple in list_C and print it at each iteration;\n",
    "        6) Can we use list to store functions and instances of class ? \n",
    "        7) What are the differences between type() and isinstance()?\n",
    "        8) Play with other methods of list such as extend, copy, insert, remove, pop, index, etc. \n",
    "        9) How to copy a list or a dictionary ( differences among =, copy(), deepcopy() ) ? "
   ]
  },
  {
   "cell_type": "markdown",
   "metadata": {
    "heading_collapsed": true
   },
   "source": [
    "## Solutions of 1) and 2) "
   ]
  },
  {
   "cell_type": "code",
   "execution_count": 1,
   "metadata": {
    "hidden": true
   },
   "outputs": [
    {
     "name": "stdout",
     "output_type": "stream",
     "text": [
      "<class 'int'>\n",
      "<class 'float'>\n",
      "<class 'str'>\n",
      "<class 'str'>\n",
      "<class 'tuple'>\n",
      "<class 'list'>\n",
      "<class 'str'>\n",
      "<class 'dict'>\n",
      "<class 'set'>\n",
      " A = 9 \n",
      " B = 18 \n",
      " C = 36\n"
     ]
    }
   ],
   "source": [
    "\"\"\"\n",
    "# 1) concatenate list_A with itself to create list_B, and\n",
    "# 2) repeat list_B two times to obtain list_C\n",
    "\"\"\"\n",
    "import copy # import the copy library to perform deep copy \n",
    "\n",
    "list_A = [1, 1.0, 'A','_',('^_^', 'X_X'), ['A_X'], 'x', {'id':123}, {'11','haha'}]  \n",
    "\n",
    "'''List is a built-in data structure in Python. It is represented as a collection of data points in square brackets.\n",
    "Lists can be used to store any data type or a mixture of different data types. \n",
    "Lists are mutable which is one of the reasons why they are so commonly used.\n",
    "\n",
    "Tuple is a collection of values separated by comma and enclosed in parenthesis.\n",
    "Unlike lists, tuples are immutable. The immutability can be considered as the identifying feature of tuples.\n",
    "\n",
    "Set is an unordered collection of distinct immutable objects. A set contains unique elements. \n",
    "Although sets are mutable, the elements of sets must be immutable. \n",
    "There is no order associated with the elements of a set. Thus, it does not support indexing or slicing like \n",
    "we do with lists.\n",
    "'''\n",
    "\n",
    "for item in list_A: \n",
    "    print(type(item))\n",
    "    \n",
    "list_B = list_A + list_A # List concatenation\n",
    "list_C = list_B * 2 # List repetition\n",
    "\n",
    "list_CC = copy.deepcopy(list_C) # make a copy since list_C will change in different demenstrations. \n",
    "# A, B, C denote the lengths of list_A, list_B, and list_C repectively\n",
    "print(' A = {} \\n B = {} \\n C = {}'.format(len(list_A), len(list_B), len(list_C)))"
   ]
  },
  {
   "cell_type": "code",
   "execution_count": 2,
   "metadata": {},
   "outputs": [
    {
     "name": "stdout",
     "output_type": "stream",
     "text": [
      "True\n",
      "False\n",
      "[1, 2, ['hi', 4]]\n",
      "[1, 2, [3, 4]]\n"
     ]
    }
   ],
   "source": [
    "#the difference between (shallow)copy and deepcopy\n",
    "origin = [1,2,[3,4]]\n",
    "cop1 = copy.copy(origin)\n",
    "cop2 = copy.deepcopy(origin)\n",
    "\n",
    "print(cop1 == cop2)\n",
    "print(cop1 is cop2)\n",
    "\n",
    "#cop1 and cop2 look same, but they do not belong to the same object\n",
    "origin[2][0] = \"hi\"\n",
    "print(cop1)\n",
    "print(cop2)"
   ]
  },
  {
   "cell_type": "markdown",
   "metadata": {},
   "source": [
    "## Solutions of 3), 4)"
   ]
  },
  {
   "cell_type": "markdown",
   "metadata": {
    "heading_collapsed": true
   },
   "source": [
    "### for loop_enumerate"
   ]
  },
  {
   "cell_type": "code",
   "execution_count": 3,
   "metadata": {
    "hidden": true
   },
   "outputs": [
    {
     "name": "stdout",
     "output_type": "stream",
     "text": [
      "list_D is :  ['A', '_', 'x', 'A', '_', 'x', 'A', '_', 'x', 'A', '_', 'x'] \n",
      "\n",
      "list_C is :  [1, 1.0, 'a', '_', ('^_^', 'X_X'), ['A_X'], 'X', {'id': 123}, {'haha', '11'}, 1, 1.0, 'a', '_', ('^_^', 'X_X'), ['A_X'], 'X', {'id': 123}, {'haha', '11'}, 1, 1.0, 'a', '_', ('^_^', 'X_X'), ['A_X'], 'X', {'id': 123}, {'haha', '11'}, 1, 1.0, 'a', '_', ('^_^', 'X_X'), ['A_X'], 'X', {'id': 123}, {'haha', '11'}]\n"
     ]
    }
   ],
   "source": [
    "\"\"\"\n",
    "--- for loop_enumerate_optional\n",
    "# 3) store each element of string type to a new list named list_D; \n",
    "# 4) replace each element 'A' with 'a', and each'x' with 'X' in list_C. \n",
    "# (Do not do the replacements for the tuple or list elements)\n",
    "\n",
    "list_C is :  [ 1, 1.0, 'A', '_', ('^_^', 'X_X'), ['A_X'], 'x', {'id': 123},\n",
    "               {'11', 'haha'}, 1, 1.0, 'A', '_', ('^_^', 'X_X'), ['A_X'], 'x',\n",
    "               {'id': 123}, {'11', 'haha'}, 1, 1.0, 'A', '_', ('^_^', 'X_X'), \n",
    "               ['A_X'], 'x', {'id': 123}, {'11', 'haha'}, 1, 1.0, 'A', '_', ('^_^', 'X_X'), \n",
    "               ['A_X'], 'x', {'id': 123}, {'11', 'haha'} ]\n",
    "\n",
    "\"\"\"\n",
    "list_C = copy.deepcopy(list_CC) # get list_C from our copy\n",
    "\n",
    "list_D = [] # start with an empty list, store values of str type. \n",
    "for i, item in enumerate(list_C): # e.g.,if ['a', 'b'], (i=0, item = 'a') and then (i = 1, item = 'b')\n",
    "    # 3)store each element of string type to a new list named list_D\n",
    "    if type(item) is str:\n",
    "        list_D.append(item)     \n",
    "    #  4) replace each element 'A' with 'a', and 'x' with 'X'. \n",
    "    if item in ['A','x']: # item and list_C[i] are the same, here. \n",
    "        list_C[i] = 'a' if item == 'A' else 'X' # if item == A, assign a, else X\n",
    "        \n",
    "#     # 5) unpack the tuple in list_C and print the first element at each iteration;\n",
    "#     if isinstance(item, tuple):\n",
    "#         first_one, _ = item # upack the elemnts but only keep the first one, similar to item[0]\n",
    "#         print('unpack', first_one, 'at iter', str(i), '\\n') # you may use .formating()\n",
    "        \n",
    "# Finally, print list_D and list_C to check the results\n",
    "print('list_D is : ', list_D , '\\n')\n",
    "print('list_C is : ', list_C)"
   ]
  },
  {
   "cell_type": "markdown",
   "metadata": {
    "heading_collapsed": true
   },
   "source": [
    "### for loop_additional"
   ]
  },
  {
   "cell_type": "code",
   "execution_count": 4,
   "metadata": {
    "hidden": true
   },
   "outputs": [
    {
     "name": "stdout",
     "output_type": "stream",
     "text": [
      "unpack ^_^ at iter 4 \n",
      "\n",
      "unpack ^_^ at iter 13 \n",
      "\n",
      "unpack ^_^ at iter 22 \n",
      "\n",
      "unpack ^_^ at iter 31 \n",
      "\n",
      "list_D is :  ['A', '_', 'x', 'A', '_', 'x', 'A', '_', 'x', 'A', '_', 'x'] \n",
      "\n",
      "list_C is :  [1, 1.0, 'a', '_', ('^_^', 'X_X'), ['A_X'], 'X', {'id': 123}, {'haha', '11'}, 1, 1.0, 'a', '_', ('^_^', 'X_X'), ['A_X'], 'X', {'id': 123}, {'haha', '11'}, 1, 1.0, 'a', '_', ('^_^', 'X_X'), ['A_X'], 'X', {'id': 123}, {'haha', '11'}, 1, 1.0, 'a', '_', ('^_^', 'X_X'), ['A_X'], 'X', {'id': 123}, {'haha', '11'}]\n"
     ]
    }
   ],
   "source": [
    "\"\"\"\n",
    "-- for loop_basic\n",
    "Based on list_C, write a loop to achieve the followings:\n",
    "# 3) store each element of string type to a new list named list_D; \n",
    "# 4) replace each element A with a, and 'x' with 'X' in list_C. \n",
    "(Do not do the replacements for the tuple or list elements)\n",
    "\"\"\"\n",
    "\n",
    "list_C = copy.deepcopy(list_CC) # get list_C from our copy\n",
    "\n",
    "list_D = [] # start with an empty list\n",
    "i = 0 # the index 0 \n",
    "for item in list_C:\n",
    "    # 3)store each element of string type to a new list named list_D\n",
    "    if type(item) is str:\n",
    "        list_D.append(item)\n",
    "    #  4) replace each element A with a, and 'x' with 'X'. \n",
    "    if item in ['A','x']:\n",
    "        list_C[i] = 'a' if item == 'A' else 'X' # if item == A, assign a, else X\n",
    "#      5)unpack the tuple in the list_C and print the unpacked elements\n",
    "    if type(item) is tuple:\n",
    "        first_one, _ = item # upack the elemnts but only keep the first one, similar to item[0]\n",
    "        print('unpack', first_one, 'at iter', i, '\\n') # you may use .formating()`    \n",
    "    \n",
    "    i += 1 # i = i + 1\n",
    "\n",
    "# Finally, print list_D and list_C to check the results\n",
    "print('list_D is : ', list_D , '\\n')\n",
    "print('list_C is : ', list_C)\n"
   ]
  },
  {
   "cell_type": "markdown",
   "metadata": {
    "heading_collapsed": true
   },
   "source": [
    "### while loop_additional"
   ]
  },
  {
   "cell_type": "code",
   "execution_count": 5,
   "metadata": {
    "hidden": true
   },
   "outputs": [
    {
     "name": "stdout",
     "output_type": "stream",
     "text": [
      "list_D is :  ['A', '_', 'x', 'A', '_', 'x', 'A', '_', 'x', 'A', '_', 'x'] \n",
      "\n",
      "list_C is :  [1, 1.0, 'a', '_', ('^_^', 'X_X'), ['A_X'], 'X', {'id': 123}, {'haha', '11'}, 1, 1.0, 'a', '_', ('^_^', 'X_X'), ['A_X'], 'X', {'id': 123}, {'haha', '11'}, 1, 1.0, 'a', '_', ('^_^', 'X_X'), ['A_X'], 'X', {'id': 123}, {'haha', '11'}, 1, 1.0, 'a', '_', ('^_^', 'X_X'), ['A_X'], 'X', {'id': 123}, {'haha', '11'}]\n"
     ]
    }
   ],
   "source": [
    "\"\"\"\n",
    "--- while loop_optional\n",
    "# 3) store each element of string type to a new list named list_D; \n",
    "# 4) replace each element A with a, and 'x' with 'X' in list_C. \n",
    "(Do not do the replacements for the tuple or list elements)\n",
    "\"\"\"\n",
    "\n",
    "list_C = copy.deepcopy(list_CC) # get list_C from our copy\n",
    "\n",
    "list_D = [] # start with an empty list\n",
    "i = 0 # the index 0 \n",
    "#-----> for item in list_C:\n",
    "while(i != len(list_C)):\n",
    "    # 3)store each element of string type to a new list named list_D\n",
    "    #----> type(item)\n",
    "    if type(list_C[i]) is str:\n",
    "        list_D.append(list_C[i]) #----> item()\n",
    "    #----> item()\n",
    "    #  4) replace each element A with a, and 'x' with 'X'. \n",
    "    if list_C[i] in ['A','x']:\n",
    "        list_C[i] = 'a' if list_C[i] == 'A' else 'X' # if item == A, assign a, else X\n",
    "    \n",
    "#      # 5)unpack the tuple in the list_A and print the unpacked elements\n",
    "#     #----> type(item)\n",
    "#     if type(list_C[i]) is tuple:\n",
    "#         #----> item()\n",
    "#         first_one, _ = list_C[i] # upack the elemnts but only keep the first one,similar to item[0]\n",
    "#         print('unpack', first_one, 'at iter', str(i), '\\n') # you may use .formating()\n",
    "    \n",
    "    i += 1 # i = i + 1\n",
    "# Finally, print list_D and list_C to check the results\n",
    "print('list_D is : ', list_D , '\\n')\n",
    "print('list_C is : ', list_C)"
   ]
  },
  {
   "cell_type": "markdown",
   "metadata": {},
   "source": [
    "# Types and Sequences_String"
   ]
  },
  {
   "cell_type": "markdown",
   "metadata": {},
   "source": [
    "## Exercise 2"
   ]
  },
  {
   "cell_type": "raw",
   "metadata": {},
   "source": [
    "Exercise 2\n",
    "Part I: # ------------------------------------------------------------------#\n",
    "    Given: \n",
    "        str_A = 'This is a string'   \n",
    "        str_B = ' worth HKD100. '\n",
    " \n",
    "    1) Create str_C by concatenating str_A and str_B and then repeating the concatenated string 3 times. Print the result.\n",
    "    \n",
    "    2) Based on str_C, create str_D by replacing all occurrences of 'string' with 'python tutorial', and replacing the second occurrence of 'HKD' with '$'.\n",
    "   \n",
    "Part II: # ------------------------------------------------------------------# \n",
    "Additional questions/tasks for those who want to learn more: \n",
    "     3) Based on str_D, create str_E by swapping the first sentence and the second sentence, and ending the first two sentences with semicolons instead of periods. Print the result. \n",
    "     4) how to remove any leading (spaces at the beginning) and trailing (spaces at the end) characters in a string?\n",
    "     5) how to remove all whitespace/ or certain characters in the string?\n",
    "     6) how to convert string into lower/upper case\n",
    "     7) how to use replace, translate, re.sub, re.subn?\n",
    "     8) check other methods related to string and have fun :-)"
   ]
  },
  {
   "cell_type": "markdown",
   "metadata": {
    "heading_collapsed": true
   },
   "source": [
    "## Solution of 1)"
   ]
  },
  {
   "cell_type": "code",
   "execution_count": 6,
   "metadata": {
    "hidden": true
   },
   "outputs": [
    {
     "name": "stdout",
     "output_type": "stream",
     "text": [
      "str_C is :\t This is a string worth HKD100. This is a string worth HKD100. This is a string worth HKD100. \n"
     ]
    }
   ],
   "source": [
    "\"\"\"\n",
    "        str_A = 'This is a string'   \n",
    "        str_B = ' worth HKD100. '\n",
    "#  1) Create str_C by concatenating str_A and str_B and \n",
    "    then repeating the concatenated string 3 times. Print the result.\n",
    "\"\"\"\n",
    "str_A = 'This is a string'\n",
    "str_B = ' worth HKD100. ' # Note that here is a space in the end\n",
    "\n",
    "str_C = (str_A + str_B) * 3\n",
    "print('str_C is :\\t', str_C)"
   ]
  },
  {
   "cell_type": "markdown",
   "metadata": {
    "heading_collapsed": true
   },
   "source": [
    "## Solution of 2)"
   ]
  },
  {
   "cell_type": "code",
   "execution_count": 7,
   "metadata": {
    "hidden": true
   },
   "outputs": [
    {
     "name": "stdout",
     "output_type": "stream",
     "text": [
      "str_D is :\t This is a python tutorial worth HKD100. This is a python tutorial worth $100. This is a python tutorial worth HKD100. \n",
      "str_C is :\t This is a string worth HKD100. This is a string worth HKD100. This is a string worth HKD100.  \n",
      "\n",
      "str_D_1 is :\t This is a python tutorial worth HKD100. This is a python tutorial worth HKD100. This is a python tutorial worth HKD100. \n",
      "str_D_2 is :\t This is a python tutorial worth $100. This is a python tutorial worth $100. This is a python tutorial worth HKD100. \n",
      "str_D_3 is :\t This is a python tutorial worth HKD100. This is a python tutorial worth $100. This is a python tutorial worth HKD100. \n"
     ]
    }
   ],
   "source": [
    "\"\"\"\n",
    "# 2) Based on str_C, create str_D by replacing all occurrences of \n",
    "'string' with 'python tutorial', and replacing the second occurrence of 'HKD' with '$'.\n",
    "\n",
    "str_C = 'This is a string worth HKD100. This is a string worth HKD100. This is a string worth HKD100' \n",
    "\n",
    "\"\"\"\n",
    "\n",
    "str_D = str_C.replace('string', 'python tutorial').replace('HKD', '$', 2).replace('$', 'HKD', 1)\n",
    "print('str_D is :\\t', str_D)\n",
    "\n",
    "\n",
    "\n",
    "# break it down \n",
    "print('str_C is :\\t', str_C, '\\n')\n",
    "str_D_1 = str_C.replace('string', 'python tutorial')\n",
    "print('str_D_1 is :\\t', str_D_1)\n",
    "str_D_2 = str_D_1.replace('HKD', '$', 2) #the last arg is the number of replacement in str_D_1\n",
    "print('str_D_2 is :\\t', str_D_2)\n",
    "str_D_3 = str_D_2.replace('$', 'HKD', 1)\n",
    "print('str_D_3 is :\\t', str_D_3)"
   ]
  },
  {
   "cell_type": "markdown",
   "metadata": {},
   "source": [
    "## Solution of 3)_additional"
   ]
  },
  {
   "cell_type": "code",
   "execution_count": 8,
   "metadata": {},
   "outputs": [
    {
     "name": "stdout",
     "output_type": "stream",
     "text": [
      "['This is a python tutorial worth HKD100', ' This is a python tutorial worth $100', ' This is a python tutorial worth HKD100', ' ']\n",
      "['This is a python tutorial worth $100', 'This is a python tutorial worth HKD100', 'This is a python tutorial worth HKD100', ' ']\n",
      "This is a python tutorial worth $100; This is a python tutorial worth HKD100; This is a python tutorial worth HKD100.\n"
     ]
    }
   ],
   "source": [
    "\"\"\"\n",
    "#  3) Based on str_D, create str_E by swapping the first sentence \n",
    "and the second sentence, and ending the first two sentences with\n",
    "semicolons. Note that the replace() method is not allowed in this case. Print the result.\n",
    "\"\"\"\n",
    "\"\"\"\n",
    "str_D is = 'This is a python tutorial worth HKD100. This is a python tutorial worth $100. This is a python tutorial worth HKD100.' \n",
    "\"\"\"\n",
    "print(str_D.split('.'))\n",
    "str_D_list = str_D.split('.')\n",
    "# strip(): Remove spaces at the beginning and at the end of the string\n",
    "str_D_list[1], str_D_list[0], str_D_list[-2] = str_D_list[0], str_D_list[1].strip(), str_D_list[-2].strip()\n",
    "print(str_D_list)\n",
    "str_E = '; ' .join(str_D_list[:-1]) + '.'\n",
    "print(str_E)"
   ]
  },
  {
   "cell_type": "markdown",
   "metadata": {},
   "source": [
    "# Types and Sequences_Dictionary"
   ]
  },
  {
   "cell_type": "markdown",
   "metadata": {},
   "source": [
    "## Exercise 3"
   ]
  },
  {
   "cell_type": "raw",
   "metadata": {},
   "source": [
    "Exercise 3:\n",
    "Part I: # ------------------------------------------------------------------#\n",
    "    1) Create a dictionary named dict_types containing at least the following types of values: \n",
    "        NoneType, int, float, bool, complex, tuple, set, str, list, dict\n",
    "    print the keys and the types of the values in the dictionary to check the result. \n",
    "        \n",
    "    2) Create a dictionary named dict_numeric having only the built-in numeric types of values from dict_types. Iterate over all values of dict_numeric to print the result. \n",
    "    \n",
    "Part II: # ------------------------------------------------------------------#  \n",
    "Additional questions/ tasks for those who want to learn more:\n",
    "    3) Create a dictionary named dict_sequence having only the built-in sequence types of values from dict_types. Print a list of the keys in dict_sequence. Create a list of tuples, where for each tuple, the first value is, in turn, the value from dict_sequence, and the second is the string specifying the types of the first value. \n",
    "    4) How to copy a list or a dictionary ( differences among =, copy(), deepcopy() ) ? \n",
    "    5) Check out the python built-in types at https://docs.python.org/3/library/stdtypes.html\n",
    "    6) Check out other methods related to dictionary and have fun!\n"
   ]
  },
  {
   "cell_type": "markdown",
   "metadata": {
    "heading_collapsed": true
   },
   "source": [
    "## Solution of 1)"
   ]
  },
  {
   "cell_type": "code",
   "execution_count": 9,
   "metadata": {
    "hidden": true
   },
   "outputs": [
    {
     "name": "stdout",
     "output_type": "stream",
     "text": [
      "key=NoneType, valueType = <class 'NoneType'>\n",
      "key=int, valueType = <class 'int'>\n",
      "key=float, valueType = <class 'float'>\n",
      "key=bool, valueType = <class 'bool'>\n",
      "key=complex, valueType = <class 'complex'>\n",
      "key=tuple, valueType = <class 'tuple'>\n",
      "key=dict, valueType = <class 'dict'>\n",
      "key=set, valueType = <class 'set'>\n",
      "key=str, valueType = <class 'str'>\n",
      "key=list, valueType = <class 'list'>\n",
      "key=range, valueType = <class 'range'>\n"
     ]
    }
   ],
   "source": [
    "\"\"\"\n",
    "# 1) Create a dictionary named dict_types containing at least the following types of values: \n",
    "     NoneType, int, float, bool, complex, tuple, set, str, list, dict\n",
    "     print the keys and the types of the values in the dictionary to check the result.\n",
    "\"\"\"\n",
    "dict_types = {\n",
    "    'NoneType':None,\n",
    "    'int':1,\n",
    "    'float':1.0,\n",
    "    'bool':True,\n",
    "    'complex':1j,\n",
    "    'tuple':(),\n",
    "    'dict':{},\n",
    "    'set':{''}, # {} an empty dictionary,{''} a set with an empty str\n",
    "    'str':'hahaha',\n",
    "    'list':[1, 2, 3],\n",
    "    'range':range(0,10)   \n",
    "}\n",
    "\n",
    "for key, val in dict_types.items():\n",
    "    print('key={}, valueType = {}'.format(key, type(val)))"
   ]
  },
  {
   "cell_type": "markdown",
   "metadata": {
    "heading_collapsed": true
   },
   "source": [
    "## solution of  2)"
   ]
  },
  {
   "cell_type": "code",
   "execution_count": 10,
   "metadata": {
    "hidden": true
   },
   "outputs": [
    {
     "name": "stdout",
     "output_type": "stream",
     "text": [
      "dict_items([('NoneType', None), ('int', 1), ('float', 1.0), ('bool', True), ('complex', 1j), ('tuple', ()), ('dict', {}), ('set', {''}), ('str', 'hahaha'), ('list', [1, 2, 3]), ('range', range(0, 10))])\n",
      "1\n",
      "1.0\n",
      "1j\n"
     ]
    }
   ],
   "source": [
    "\"\"\"\n",
    "# 2) Create a dictionary named dict_numeric having only \n",
    " the built-in numeric types of values from dict_types.\n",
    " Iterate over all values of dict_numeric to check the result. \n",
    "\"\"\"\n",
    "\n",
    "dict_numeric ={ key:val for key, val in  dict_types.items() if type(val) in [int, float, complex] }\n",
    "\n",
    "print(dict_types.items())\n",
    "\n",
    "for val in dict_numeric.values(): # 3\n",
    "    print(val)\n"
   ]
  },
  {
   "cell_type": "markdown",
   "metadata": {},
   "source": [
    "## solution of  3)_additional"
   ]
  },
  {
   "cell_type": "code",
   "execution_count": 11,
   "metadata": {},
   "outputs": [
    {
     "name": "stdout",
     "output_type": "stream",
     "text": [
      "['tuple', 'list', 'range']\n",
      "[((), \"<class 'tuple'>\"), ([1, 2, 3], \"<class 'list'>\"), (range(0, 10), \"<class 'range'>\")]\n"
     ]
    }
   ],
   "source": [
    "\"\"\"\n",
    " 3) Create a dictionary named dict_sequence having only the built-in\n",
    " sequence types of values from dict_types. Print a list of the keys\n",
    " in dict_sequence. Create a list of tuples, where for each tuple, the first \n",
    " value is, in turn, the value from dict_sequence, and the second is the string\n",
    " specifying the types of the first value.   \n",
    "\"\"\"\n",
    "\n",
    "dict_sequence ={ key:val for key, val in  dict_types.items() if type(val) in [tuple, list, range]}\n",
    "#Print a list of the keys in dict_sequence.\n",
    "print(list(dict_sequence.keys())) # 1\n",
    "# Create a list of tuples\n",
    "print([ (val, str(type(val)) ) for val in dict_sequence.values() ]) # 2"
   ]
  },
  {
   "cell_type": "markdown",
   "metadata": {},
   "source": [
    "# Classes and Functions_Classes"
   ]
  },
  {
   "cell_type": "markdown",
   "metadata": {},
   "source": [
    "## Exercise 4"
   ]
  },
  {
   "cell_type": "raw",
   "metadata": {},
   "source": [
    "Exercise 4:\n",
    "Part I: # ------------------------------------------------------------------#\n",
    "Define a class named CityU_Student that has the followings:  \n",
    "    Instance variables:\n",
    "        name      # student name\n",
    "        ad_date   # admission date, i.e., the instantiation date of the class if not specified. \n",
    "        stID      # student ID (unique) formated \n",
    "                  # e.g. 202109010000 for the first student with the admission date 2021-09-01\n",
    "    Methods:\n",
    "        __init__()    # initialize the class and set default ad_date, name, and ID\n",
    "        set_days()    # set the admission date\n",
    "        set_info()    # set the student's name and ID \n",
    "        get_days()    # get the days between today and the admission date \n",
    "                      # (refer to 'days of stay')\n",
    "                      \n",
    "    The class can \n",
    "        set up student info., namely, set name, ad_date, and stID; and\n",
    "        calculate the days between today and the admission date. \n",
    "        \n",
    "1) Instantiate the class for Wei, Collin, and Cheng and store them in a dictionary. Iterate over the dictionary and print the name and the corresponding IDs. \n",
    "\n",
    "2) How many days have Wei, Collin, and Cheng stayed at CityU since admission date, i.e.,\n",
    "2021-12-01,2022-06-01, 2020-09-01, respectively? \n",
    "(days of stay = today - admission date )\n",
    "\n",
    "Part II: # ------------------------------------------------------------------#\n",
    "Additional questions/ tasks for those who want to learn more:\n",
    "3) What are the roles of different usages of underscore in python? \n",
    "4) Inherit CityU_Student to define classes for undergraduate, master, Ph.D. students and create new attribute i.e., email_address, for them, where different kinds of students have different email domains, e.g., @us.cityu.edu.hk, @ms.cityu.edu.hk, and @ps.cityu.edu.hk. \n",
    "5) override get_days() so that it can raise a warning if the results exceed 1 year, 2 years, and 4 years, respectively for undergraduate, master, and Ph.D. students. \n"
   ]
  },
  {
   "cell_type": "markdown",
   "metadata": {
    "heading_collapsed": true
   },
   "source": [
    "## Solutions of E4 "
   ]
  },
  {
   "cell_type": "code",
   "execution_count": 12,
   "metadata": {
    "hidden": true,
    "scrolled": true
   },
   "outputs": [
    {
     "name": "stdout",
     "output_type": "stream",
     "text": [
      "{0: <__main__.CityU_Student object at 0x7f9f7ac84370>, 1: <__main__.CityU_Student object at 0x7f9f7ac84580>, 2: <__main__.CityU_Student object at 0x7f9f7ac845e0>}\n",
      "(<__main__.CityU_Student object at 0x7f9f7ac84370>, 'Wei', (2021, 9, 1))\n",
      "(<__main__.CityU_Student object at 0x7f9f7ac84580>, 'Collin', (2021, 12, 1))\n",
      "(<__main__.CityU_Student object at 0x7f9f7ac845e0>, 'Cheng', (2020, 9, 1))\n",
      "Name = Wei with ID = 202109010000 and days of stay = 396 days, 0:00:00\n",
      "Name = Collin with ID = 202112010001 and days of stay = 305 days, 0:00:00\n",
      "Name = Cheng with ID = 202009010002 and days of stay = 761 days, 0:00:00\n"
     ]
    }
   ],
   "source": [
    "import datetime as dt\n",
    "\n",
    "class CityU_Student():\n",
    "    \"\"\"\n",
    "    Instance variables:\n",
    "        name      # student name\n",
    "        ad_date   # admission date, i.e., the instantiation date of the class if not specified.\n",
    "        stID      # student ID (unique) formated \n",
    "                  # e.g. 202109010000 for the first student with the admission date 2021-09-01\n",
    "    Methods:\n",
    "        __init__()    # initialize the class and set default ad_date, name, and ID\n",
    "        set_days()    # set the admission date\n",
    "        set_info()    # set the student's name and ID \n",
    "        get_days()    # get the days between today and the admission date \n",
    "                      # (refer to 'days of stay')\n",
    "    The class can \n",
    "        set up student info., namely, set name, ad_date, and stID; and\n",
    "        calculate the days between today and the admission date. \n",
    "    \"\"\"\n",
    "    def __init__(self, initName = None, initstID = None, initDate = None):\n",
    "        \"\"\" initialize the class and set default ad_date, name, and ID \"\"\"\n",
    "        self.ad_date = initDate if initDate is not None else dt.date.today()\n",
    "        self.name = initName if initName is not None else \"\"\n",
    "        self.stID = initstID if initstID is not None else \"\"\n",
    "        \n",
    "    def set_days(self, year, month, day):\n",
    "        \"\"\" set the admission date \"\"\"\n",
    "        self.ad_date = dt.date(year, month, day)\n",
    "        \n",
    "    def set_info(self, index, name):\n",
    "        \"\"\" set the student's name and ID \"\"\"\n",
    "        self.name = name\n",
    "        # format: e.g.,202109010000 for the first student (index=0) with the admission date 2021-09-01\n",
    "        # format the data str as %Y%m%d, format the index to have zeros leading. \n",
    "        self.stID = self.ad_date.strftime('%Y%m%d') + '{:04d}'.format(index)\n",
    "    \n",
    "    def get_days(self):\n",
    "        \"\"\" get the days between the admission date and today \"\"\"\n",
    "        return dt.date.today() - self.ad_date\n",
    "\"\"\"\n",
    "1) Instantiate the class for Wei, Collin, and Cheng and store them in a dictionary.\n",
    "Iterate over the dictionary and print the name and the corresponding IDs. \n",
    "\"\"\"\n",
    "sdt_names = ['Wei', 'Collin', 'Cheng']\n",
    "# 2021-9-01, 2021-12-01, 2020-09-01\n",
    "dates = [(2021, 9, 1), (2021, 12, 1), (2020, 9, 1)]\n",
    "# Instantiations \n",
    "# you may specify the admission date \n",
    "# CityU_Student( dt.date( *(year, month, day) )  )\n",
    "sdt_dict = {i :CityU_Student() for i in range(len(sdt_names))} \n",
    "\n",
    "print(sdt_dict)\n",
    "\"\"\"\n",
    "2) How many days have Wei, Collin, and Cheng stayed at CityU since the admission date, i.e.,\n",
    "2021-9-01, 2021-12-01, 2020-09-01, respectively? (days of stay = today - admission date )\n",
    "\"\"\"\n",
    "for i in zip(sdt_dict.values(), sdt_names, dates): \n",
    "    print(i)\n",
    "\n",
    "# set info. and calculate the days\n",
    "# use the asterisk (*) operator to unpack iterable objects\n",
    "for index,(std_instance, name, date) in enumerate( zip(sdt_dict.values(), sdt_names, dates) ):\n",
    "    std_instance.set_days(*date) \n",
    "    std_instance.set_info(index, name)\n",
    "\n",
    "    print('Name = {} with ID = {} and days of stay = {}'.format(std_instance.name, std_instance.stID,\n",
    "                                                              std_instance.get_days()) ) \n",
    "    \n"
   ]
  },
  {
   "cell_type": "markdown",
   "metadata": {
    "heading_collapsed": true
   },
   "source": [
    "# Classes and Functions_Functions"
   ]
  },
  {
   "cell_type": "markdown",
   "metadata": {
    "heading_collapsed": true,
    "hidden": true
   },
   "source": [
    "## Exercise 5"
   ]
  },
  {
   "cell_type": "raw",
   "metadata": {
    "hidden": true
   },
   "source": [
    "Exercise 5: \n",
    "Part I: # ------------------------------------------------------------------#\n",
    "    Given a dictionary with sub-dictionaries containing students' information as follows : \n",
    "        sdt_dict={0:{'name':'Wei','ID':'000','days': '377' },  # 'days' means 'days of stay'\n",
    "                  1:{'name':'Collin','ID':'001','days': '286' }, \n",
    "                  2:{'name':'Cheng','ID':'002','days': '742'}\n",
    "                  # we call the values of sdt_dict as sub-dictionaries for simplicty. \n",
    "    define a function named analysis, which uses sdt_dict as an input and can realize the followings.\n",
    "    1) By default, it returns the sub-dictionary with the largest value of 'days'. \n",
    "    2) Given the input 'min', it returns sub-dictionary with the smallest value of 'days'. \n",
    "    3) Given a number (int type), it returns all the sub-dictionaries with values of 'days' exceeding the given number.\n",
    "    4) Given the admission date tuple, e.g., (2021, 9, 12), it returns a list of strings containing the calculated departure dates of the students.  (days of stay = date of depature - admission date )\n",
    "    \n",
    "Part II: # ------------------------------------------------------------------#   \n",
    "Additional questions/ tasks for those who want to learn more:\n",
    "5) When given a list of admission date tuples,e.g., [(2021, 12, 1), (2022, 6, 1), (2023, 9, 1)], it returns a list of tuples containing values of 'name', 'ID', and the calculated departure dates of the students \n",
    "6) what are positional arguments, optional arguments, keyword arguments, and required arguments?\n",
    "7) Try the python library,i.e., functools, and play some of the tools such as the partial function. \n",
    "8) Try some other python built-in functions such as eval(), iter(), input(), etc. \n"
   ]
  },
  {
   "cell_type": "markdown",
   "metadata": {
    "heading_collapsed": true,
    "hidden": true
   },
   "source": [
    "## Solutions of E5"
   ]
  },
  {
   "cell_type": "code",
   "execution_count": 13,
   "metadata": {
    "hidden": true
   },
   "outputs": [
    {
     "name": "stdout",
     "output_type": "stream",
     "text": [
      "\n",
      " 1)  {'name': 'Cheng', 'ID': '002', 'days': '742'} \n",
      " 2)  {'name': 'Collin', 'ID': '001', 'days': '286'} \n",
      " 3)  [{'name': 'Wei', 'ID': '000', 'days': '377'}, {'name': 'Collin', 'ID': '001', 'days': '286'}, {'name': 'Cheng', 'ID': '002', 'days': '742'}] \n",
      " 4)  ['2023/12/13', '2023/09/13', '2024/12/12'] \n",
      "\n"
     ]
    }
   ],
   "source": [
    "\"\"\"\n",
    "sdt_dict={0:{'name':'Wei','ID':'000','days': '377' },  # 'days' means 'days of stay'\n",
    "          1:{'name':'Collin','ID':'001','days': '286' }, \n",
    "          2:{'name':'Cheng','ID':'002','days': '742'} }\n",
    "          # we call the values of sdt_dict as sub-dictionaries for simplicty. \n",
    "------\n",
    "analysis()\n",
    "------\n",
    "1) By default, it returns the sub-dictionary with the largest value of 'days'. \n",
    "2) Given the input 'min', it returns the sub-dictionary with the smallest value of 'days'. \n",
    "3) Given a number (int type), it returns all sub-dictionaries with values of 'days' \n",
    "exceeding the given number.\n",
    "4) Given the admission date tuple, e.g., (2021, 9, 12), it returns a list containing \n",
    "the calcuated departure dates of the students. \n",
    "\"\"\"\n",
    "import datetime as dt    \n",
    "\n",
    "sdt_dict={0:{'name':'Wei','ID':'000','days': '377' },  # 'days' means 'days of stay'\n",
    "          1:{'name':'Collin','ID':'001','days': '286' }, \n",
    "          2:{'name':'Cheng','ID':'002','days': '742'} }\n",
    "    \n",
    "def analysis(sdts, flag = 'max'):\n",
    "    \"\"\"\n",
    "    input:\n",
    "        - sdts: a dictionary with sub-dictionaries containing students' information\n",
    "        - flag: 'max', 'min', int type, tuple type, and list type, for switching returns. \n",
    "    \"\"\"\n",
    "    #1)\n",
    "    if flag == 'max': \n",
    "        # sub_dict is the element of sdts.values() (any iterable will work)\n",
    "        # lambda defines a transformation of the value we are interested in, assign it to key\n",
    "        # Key is a lambda function that will tell max which objects in the iterable are larger than others.\n",
    "        # compare the objects of interet, get the maximum one, and return the corresponding sub_dict.\n",
    "        return max(sdts.values(), key = lambda sub_dict: int(sub_dict['days'])) # key=keyfunc key function \n",
    "                                                                                # where the iterables are passed \n",
    "                                                                                # and comparison is performed \n",
    "                                                                                # based on its return value\n",
    "    #2) \n",
    "    elif flag == 'min':\n",
    "        # similar as above\n",
    "        return min(sdts.values(), key = lambda sub_dict: int(sub_dict['days']))\n",
    "    #3) \n",
    "    elif type(flag) is int:\n",
    "        # filter returns the sub_dict in sdts.values(), which satisfies the defined condition. \n",
    "        return list(filter(lambda sub_dict:int(sub_dict['days']) > flag, sdts.values())) # dict()\n",
    "    #4)\n",
    "    elif type(flag) is tuple:\n",
    "        # map the sub_dict in sdts.values(), to some values via lambda transformation.\n",
    "        # strftime('%Y/%m/%d') defines the format of datatime.date\n",
    "        return list( map( lambda sub_dict: (dt.date(*flag) + \n",
    "                                 dt.timedelta(days = int(sub_dict['days']))).strftime('%Y/%m/%d') \n",
    "                         , sdts.values() ) ) \n",
    "    \n",
    "#     #5)--- below are the addtional tasks. \n",
    "#     elif type(flag) is list:\n",
    "#         # *() means unpacks the tuple, e.g., *ad_date\n",
    "#         # zip means the element-wise group of sdts.values() and flag \n",
    "#         return [(sub_dict['name'], sub_dict['ID'],\n",
    "#                  (dt.date(*ad_date) + dt.timedelta(days = int(sub_dict['days']))).strftime('%d/%m/%Y')\n",
    "#                 ) for sub_dict, ad_date in zip(sdts.values(),flag) ]\n",
    "    else:\n",
    "        # raise an error if flag does not satisfy the above conditons. Terminate the program.\n",
    "          raise ValueError('Invalide type of flag') \n",
    "print('\\n',         \n",
    "'1) ', analysis(sdt_dict, flag = 'max'), '\\n', \n",
    "'2) ', analysis(sdt_dict, flag ='min'),  '\\n',  \n",
    "'3) ', analysis(sdt_dict, flag =200),   '\\n', \n",
    "'4) ', analysis(sdt_dict, flag =(2022, 12, 1)), '\\n')\n",
    "# '5) ',analysis(sdt_dict, flag =[(2022, 12, 1), (2023, 6, 1), (2024, 9, 1)])"
   ]
  },
  {
   "cell_type": "code",
   "execution_count": null,
   "metadata": {},
   "outputs": [],
   "source": []
  }
 ],
 "metadata": {
  "kernelspec": {
   "display_name": "Python 3.10.4 ('2001')",
   "language": "python",
   "name": "python3"
  },
  "language_info": {
   "codemirror_mode": {
    "name": "ipython",
    "version": 3
   },
   "file_extension": ".py",
   "mimetype": "text/x-python",
   "name": "python",
   "nbconvert_exporter": "python",
   "pygments_lexer": "ipython3",
   "version": "3.10.4"
  },
  "toc": {
   "base_numbering": 1,
   "nav_menu": {},
   "number_sections": true,
   "sideBar": false,
   "skip_h1_title": false,
   "title_cell": "Table of Contents",
   "title_sidebar": "Contents",
   "toc_cell": false,
   "toc_position": {
    "height": "47.1528px",
    "left": "940.995px",
    "top": "53.9005px",
    "width": "160.961px"
   },
   "toc_section_display": false,
   "toc_window_display": true
  },
  "varInspector": {
   "cols": {
    "lenName": 16,
    "lenType": 16,
    "lenVar": 40
   },
   "kernels_config": {
    "python": {
     "delete_cmd_postfix": "",
     "delete_cmd_prefix": "del ",
     "library": "var_list.py",
     "varRefreshCmd": "print(var_dic_list())"
    },
    "r": {
     "delete_cmd_postfix": ") ",
     "delete_cmd_prefix": "rm(",
     "library": "var_list.r",
     "varRefreshCmd": "cat(var_dic_list()) "
    }
   },
   "position": {
    "height": "456.181px",
    "left": "900.56px",
    "right": "20px",
    "top": "15.9838px",
    "width": "487.975px"
   },
   "types_to_exclude": [
    "module",
    "function",
    "builtin_function_or_method",
    "instance",
    "_Feature"
   ],
   "window_display": false
  },
  "vscode": {
   "interpreter": {
    "hash": "55eb91d003843ee0eabb6af411dc999514f7578b560f97084ebc6a83d429fc16"
   }
  }
 },
 "nbformat": 4,
 "nbformat_minor": 4
}
