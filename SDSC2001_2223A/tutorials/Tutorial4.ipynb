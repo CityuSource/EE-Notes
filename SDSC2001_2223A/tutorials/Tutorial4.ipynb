{
 "cells": [
  {
   "cell_type": "markdown",
   "id": "0b8a6f59",
   "metadata": {},
   "source": [
    "# Tutorial 4 - List Comprehension, Numpy, and Lambda Functions\n",
    "\n",
    "#### TA: Collin Sakal"
   ]
  },
  {
   "cell_type": "code",
   "execution_count": 4,
   "id": "51b62ced",
   "metadata": {},
   "outputs": [],
   "source": [
    "# Import Numpy\n",
    "import numpy as np"
   ]
  },
  {
   "cell_type": "markdown",
   "id": "43f9c079",
   "metadata": {},
   "source": [
    "# Tutorial Overview\n",
    "\n",
    "In this tutorial we will generate data on a pretend class of students and analyze the data using list comprehension techniques and numpy functions. Lastly, we will review and implement lambda functions.\n"
   ]
  },
  {
   "cell_type": "markdown",
   "id": "93174ccc",
   "metadata": {},
   "source": [
    "### References for this tutorial\n",
    "\n",
    "If you get stuck on any of the following problems please reference the cell below."
   ]
  },
  {
   "cell_type": "code",
   "execution_count": 15,
   "id": "7cc3ab40",
   "metadata": {},
   "outputs": [],
   "source": [
    "# Creating lists\n",
    "example_list = [1,2,3,4]\n",
    "\n",
    "# Appending Lists (adds a new entry, 5, to the list)\n",
    "example_list.append(5)\n",
    "\n",
    "# Iterating over a list\n",
    "for i in example_list:\n",
    "    print(i)\n",
    "\n",
    "# Creating arrays\n",
    "example_array = np.array([3,4,6,2,6,7]) \n",
    "\n",
    "# Sorting an array\n",
    "example_array.sort() # Will sort array elements from smallest to largest\n",
    "\n",
    "# Slice an array: values greater than 4\n",
    "example_array[example_array > 4]\n",
    "\n",
    "# Mathematical operations\n",
    "example_array.max() # maximum \n",
    "example_array.min() # minimum \n",
    "example_array.mean() # average (mean) \n",
    "example_array**2 # square (^2) every element \n",
    "\n",
    "# Slice then apply a mathematical operation\n",
    "example_array[example_array > 3].mean() # average of all values greater than 3\n",
    "\n",
    "# Number generator\n",
    "normal_generator_example = np.random.normal(loc = 0, scale = 1, size = 10) # Mean = 0, standard deviation = 1, size = 10\n",
    "\n",
    "# Creating a lambda function\n",
    "example_lambda = lambda x: x + 10 # takes input 'x' and returns x + 10"
   ]
  },
  {
   "cell_type": "markdown",
   "id": "930e7778",
   "metadata": {},
   "source": [
    "### (1)\n",
    "**Consider a list called \"TA_names\" that contains the names of Teaching Assistants for the class. Suppose a new TA, Jocelyn, joins the class. Add her name to the list of TAs**"
   ]
  },
  {
   "cell_type": "code",
   "execution_count": 1,
   "id": "bd601dab",
   "metadata": {},
   "outputs": [],
   "source": [
    "TA_names = [\"Collin\", \"Wei\", \"Cheng\", \"Tong\", \"Muhammad\", \"Katya\", \"Isabella\"]\n",
    "\n",
    "# Write your code below"
   ]
  },
  {
   "cell_type": "markdown",
   "id": "84447e64",
   "metadata": {},
   "source": [
    "### (2)\n",
    "**Suppose we want to determine which TAs have the letter 'a' in their name. Write a for loop that creates a new list called 'a_names' that contains the TA names with the letter 'a' in them. Print the new list.** \n",
    "\n",
    "**HINT:** You may want to consider the append function to add new names to the empty list"
   ]
  },
  {
   "cell_type": "code",
   "execution_count": 2,
   "id": "9e72a1c4",
   "metadata": {},
   "outputs": [],
   "source": [
    "a_names = [] \n",
    "\n",
    "# Write your code below"
   ]
  },
  {
   "cell_type": "markdown",
   "id": "5e27d2f2",
   "metadata": {},
   "source": [
    "### (3)\n",
    "**Assume there are 100 students in the class. Generate a Numpy array called \"heights\" from a normal distribution with mean 170 and standard deviation 12. Print the array.**\n",
    "\n",
    "**HINT:** in the relevant numpy function the following arguments will be needed:\n",
    "1. loc = mean\n",
    "2. scale = standard deviation\n",
    "3. size = amount of numbers to generate\n",
    "\n",
    "**NOTE:** We will use centimeters as the unit of measurement for the heights"
   ]
  },
  {
   "cell_type": "code",
   "execution_count": 5,
   "id": "83ac4513",
   "metadata": {},
   "outputs": [],
   "source": [
    "# Random seed so we all get the same answers\n",
    "np.random.seed(19970507)\n",
    "\n",
    "# Write your code below\n",
    "heights = "
   ]
  },
  {
   "cell_type": "markdown",
   "id": "783d78d3",
   "metadata": {},
   "source": [
    "### (4)\n",
    "**Sort the heights array and print it again, what are the heights of the shortest and tallest students in the class?**"
   ]
  },
  {
   "cell_type": "code",
   "execution_count": 6,
   "id": "49b2d974",
   "metadata": {
    "scrolled": true
   },
   "outputs": [],
   "source": [
    "# Write your code below"
   ]
  },
  {
   "cell_type": "markdown",
   "id": "2cf337f6",
   "metadata": {},
   "source": [
    "### (5)\n",
    "**Write code that returns the heights of the shortest and tallest students in the class WITHOUT sorting or printing the entire array**\n",
    "\n",
    "**HINT:** the tallest person will have the MAXIMUM height in the array and the shortest person will have the MINIMUM height "
   ]
  },
  {
   "cell_type": "code",
   "execution_count": 7,
   "id": "78d80265",
   "metadata": {
    "scrolled": true
   },
   "outputs": [],
   "source": [
    "# Write your code below"
   ]
  },
  {
   "cell_type": "markdown",
   "id": "9ecdc04a",
   "metadata": {},
   "source": [
    "### (6)\n",
    "**What is the average height of students in the class?**"
   ]
  },
  {
   "cell_type": "code",
   "execution_count": 8,
   "id": "0786bdbe",
   "metadata": {},
   "outputs": [],
   "source": [
    "# Write your code below"
   ]
  },
  {
   "cell_type": "markdown",
   "id": "4e96345b",
   "metadata": {},
   "source": [
    "### (7)\n",
    "**Create an array called \"heights_m\" that contains the heights of everyone in the class in meters. Print the average of the new array.**\n",
    "\n",
    "**HINT**: To get height in meters, divide height in cm by 100"
   ]
  },
  {
   "cell_type": "code",
   "execution_count": 10,
   "id": "817c2072",
   "metadata": {
    "scrolled": true
   },
   "outputs": [],
   "source": [
    "# Write your code below\n",
    "heights_m ="
   ]
  },
  {
   "cell_type": "markdown",
   "id": "8d2cb87a",
   "metadata": {},
   "source": [
    "### (8)\n",
    "**Lets generate the weights (unit of measurement: kilograms - kg) for students in the class from a normal distribution with mean 70kg and standard deviation 5kg.** \n",
    "\n",
    "**Write code that returns the weights of students who weigh more than 65kg**\n",
    "\n",
    "**HINT:** You need to SLICE the array "
   ]
  },
  {
   "cell_type": "code",
   "execution_count": 11,
   "id": "c5f71883",
   "metadata": {},
   "outputs": [],
   "source": [
    "# Random seed so we all get the same answers\n",
    "np.random.seed(19970507)\n",
    "\n",
    "# Generating weights\n",
    "weights = np.random.normal(loc = 70, scale = 5, size = 100)\n",
    "\n",
    "# Write your code below"
   ]
  },
  {
   "cell_type": "markdown",
   "id": "ba4817c8",
   "metadata": {},
   "source": [
    "### (9)\n",
    "**What is the average weight of students who weigh more than 65kg?**\n",
    "\n",
    "**HINT:** you can use .mean() after you slice an array\n"
   ]
  },
  {
   "cell_type": "code",
   "execution_count": 12,
   "id": "a0028dd5",
   "metadata": {
    "scrolled": true
   },
   "outputs": [],
   "source": [
    "# Write your code below"
   ]
  },
  {
   "cell_type": "markdown",
   "id": "35b63cb9",
   "metadata": {},
   "source": [
    "### (10)\n",
    "**Body Mass Index (BMI) is an estimate of the amount of body fat a person has. The formula for BMI is BMI =               weight / height^2 such that weight is measured in kg and height in meters. Please write code that does the following:** \n",
    "\n",
    "1. Creates an array called BMI that contains the BMI of everyone in the class.\n",
    "2. Prints the average, maximum, minimum, and standard deviation of the BMIs in the class.\n",
    "\n",
    "**HINT** Remember to use heights_m (which contains heights in meters)"
   ]
  },
  {
   "cell_type": "code",
   "execution_count": 13,
   "id": "3ba08f6f",
   "metadata": {},
   "outputs": [],
   "source": [
    "# Write your code below\n",
    "BMI = "
   ]
  },
  {
   "cell_type": "markdown",
   "id": "45310eb5",
   "metadata": {},
   "source": [
    "# Review of Lambda Functions"
   ]
  },
  {
   "cell_type": "markdown",
   "id": "9e524d30",
   "metadata": {},
   "source": [
    "We've previously seen how to create functions such as the one below:"
   ]
  },
  {
   "cell_type": "code",
   "execution_count": 25,
   "id": "829645f0",
   "metadata": {},
   "outputs": [],
   "source": [
    "def add_five(x):\n",
    "    \"\"\"This functions adds 5 to the input number\"\"\"\n",
    "    result = x + 5\n",
    "    return result"
   ]
  },
  {
   "cell_type": "markdown",
   "id": "aa1b6e90",
   "metadata": {},
   "source": [
    "But we can also define functions using lambda in a more concise way"
   ]
  },
  {
   "cell_type": "code",
   "execution_count": 26,
   "id": "4b1b90ee",
   "metadata": {},
   "outputs": [],
   "source": [
    "add_five_lambda = lambda x: x + 5"
   ]
  },
  {
   "cell_type": "markdown",
   "id": "d7485cf3",
   "metadata": {},
   "source": [
    " Note that both of these functions will return the same result"
   ]
  },
  {
   "cell_type": "code",
   "execution_count": 28,
   "id": "acc3d9d0",
   "metadata": {
    "scrolled": true
   },
   "outputs": [
    {
     "name": "stdout",
     "output_type": "stream",
     "text": [
      "14\n",
      "14\n"
     ]
    }
   ],
   "source": [
    "print(add_five(9))\n",
    "print(add_five_lambda(9))"
   ]
  },
  {
   "cell_type": "markdown",
   "id": "14589c66",
   "metadata": {},
   "source": [
    "Lambda functions can also take multiple arguments. For example, consider a function that calculates the sum of two inputs"
   ]
  },
  {
   "cell_type": "code",
   "execution_count": 16,
   "id": "f70b20d2",
   "metadata": {},
   "outputs": [
    {
     "data": {
      "text/plain": [
       "16"
      ]
     },
     "execution_count": 16,
     "metadata": {},
     "output_type": "execute_result"
    }
   ],
   "source": [
    "sum_lambda = lambda x, y: x + y \n",
    "\n",
    "sum_lambda(10, 6)"
   ]
  },
  {
   "cell_type": "markdown",
   "id": "ad313e36",
   "metadata": {},
   "source": [
    "## (11)\n",
    "**Lets create a function that takes a person's height (in meters) and weight (in kg) and returns their BMI using the standard function form**"
   ]
  },
  {
   "cell_type": "code",
   "execution_count": 30,
   "id": "f81e4255",
   "metadata": {},
   "outputs": [
    {
     "data": {
      "text/plain": [
       "22.99262444384723"
      ]
     },
     "execution_count": 30,
     "metadata": {},
     "output_type": "execute_result"
    }
   ],
   "source": [
    "def bmi_calculator(weight, height):\n",
    "    \"\"\"This function returns a person's BMI given their weight (in kg) and height (in meters)\"\"\"\n",
    "    bmi = weight/height**2\n",
    "    return bmi\n",
    "\n",
    "bmi_calculator(weight = 77, height = 1.83) # bmi_calculator(77, 1.83) works as well"
   ]
  },
  {
   "cell_type": "markdown",
   "id": "8bd5e869",
   "metadata": {},
   "source": [
    "**Re-create bmi_calculator using lambda formatting and calculate the BMI of a person with a weight of 77kg and a height of 1.83m**\n",
    "\n",
    "**HINT:** recall BMI = weight/height^2 such that weight is in kg and height is in meters. Your answer should be the same as the result from the bmi_calculator example above."
   ]
  },
  {
   "cell_type": "code",
   "execution_count": 14,
   "id": "e0b65d3a",
   "metadata": {},
   "outputs": [],
   "source": [
    "# Write your code below\n",
    "bmi_calculator_lambda = "
   ]
  }
 ],
 "metadata": {
  "kernelspec": {
   "display_name": "Python 3.10.4 ('2001')",
   "language": "python",
   "name": "python3"
  },
  "language_info": {
   "codemirror_mode": {
    "name": "ipython",
    "version": 3
   },
   "file_extension": ".py",
   "mimetype": "text/x-python",
   "name": "python",
   "nbconvert_exporter": "python",
   "pygments_lexer": "ipython3",
   "version": "3.10.4"
  },
  "vscode": {
   "interpreter": {
    "hash": "55eb91d003843ee0eabb6af411dc999514f7578b560f97084ebc6a83d429fc16"
   }
  }
 },
 "nbformat": 4,
 "nbformat_minor": 5
}
