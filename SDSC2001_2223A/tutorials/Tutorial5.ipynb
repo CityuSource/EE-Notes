{
 "cells": [
  {
   "cell_type": "markdown",
   "id": "f2d01c5e",
   "metadata": {},
   "source": [
    "# Tutorial 5: Pandas Data Structures: Series and DataFrames\n",
    "TA: ZHANG Wei\n",
    "\n",
    "E-mail: wzhang472-c@my.cityu.edu.hk\n",
    "\n",
    "### Introduction\n",
    "Pandas is an open source library providing high-performance, easy-to-use data structures and data analysis tools for the Python programming language.\n",
    "\n",
    "\n",
    "Series is a one-dimensional labeled array capable of holding any data type like integers, strings, floating point numbers, Python objects, etc.\n",
    "\n",
    "\n",
    "DataFrames is a data structure that organizes data into a two-dimensional table of rows and columns.\n",
    "\n",
    "### Install\n",
    "Use the command \"pip install pandas\" in your terminal to install pandas\n",
    "\n",
    "\n",
    "### What you can learn on this tutorial\n",
    "1.How to create series\n",
    "\n",
    "2.How to check the index of series\n",
    "\n",
    "3.How to compute the statistical information(mean,sum, etc.) of series\n",
    "\n",
    "4.How to select information you want in series\n",
    "\n",
    "5.How to creat DataFrames\n",
    "\n",
    "6.Basic operations about DataFrames\n",
    "\n",
    "### Background\n",
    "\n",
    "Where to eat? It is a question.\n",
    "\n",
    "Given information about the average spending(HKD), ratings(Ten-points system), walk time from library(Lib, minute) and dormitory (Dor, minute) of (part of) canteens  around CityU in the following table:\n",
    "\n",
    "\n",
    "| Canteens    | Price  | Rating  | Lib  | Dor| \n",
    "|-----------------|--------|-------- |------|----|\n",
    "| AC1         | 32    | 5     | 3   | 13 |\n",
    "| AC2         | 42    | 7     | 8   | 9  |\n",
    "| AC3         | 55    | 8     | 8   | 6  | \n",
    "| Mcdonald      | 45    | 7.5    | 5   | 18 | \n",
    "| Subway       | 44    | 6     | 6.5  | 10 | \n",
    "| Taste        | 50    | 8     | 7   | 20 | \n",
    "| FestivalFood   | 65    | 9     | 7   | 20 | \n",
    "| HomeyKitchen   | 35    | 4     |16   | 5  | \n",
    "|ChineseRestaurant| 90    | 9     | 7   | 15 |\n",
    "|KebabStation    | 45    | 7.5    | 3   | 13 |  \n",
    "\n",
    "FYI, catering at CityU: https://www.cityu.edu.hk/zh-hk/directories/catering"
   ]
  },
  {
   "cell_type": "code",
   "execution_count": null,
   "id": "7ae6332d",
   "metadata": {},
   "outputs": [],
   "source": [
    "# Hint: You may need to import the related packages first\n",
    "import pandas as pd "
   ]
  },
  {
   "cell_type": "markdown",
   "id": "3f8fb7c9",
   "metadata": {},
   "source": [
    "### Questions about Series "
   ]
  },
  {
   "cell_type": "markdown",
   "id": "6ea04a70",
   "metadata": {},
   "source": [
    "#### Question 1:\n",
    "Create series for Price, Rating, Lib, Dor separately using at least two different ways. Write you code and print your results.\n",
    "\n",
    "Hints 1:{\"AC1\":3, \"AC2\":8, \"AC3\":8, \"Mcdonald\":5, \"Subway\":6.5, \"Taste\":7, \"FestivalFood\":7, \"HomeyKitchen\":16, \"ChineseRestaurant\":7, \"KebabStation\":3}\n",
    "\n",
    "Hints 2: [\"AC1\", \"AC2\", \"AC3\", \"Mcdonald\", \"Subway\", \"Taste\", \"FestivalFood\", \"HomeyKitchen\", \"ChineseRestaurant\", \"KebabStation\"]\n",
    "\n",
    "| Canteens    | Price  | Rating  | Lib  | Dor| \n",
    "|-----------------|--------|-------- |------|----|\n",
    "| AC1         | 32    | 5     | 3   | 13 |\n",
    "| AC2         | 42    | 7     | 8   | 9  |\n",
    "| AC3         | 55    | 8     | 8   | 6  | \n",
    "| Mcdonald      | 45    | 7.5    | 5   | 18 | \n",
    "| Subway       | 44    | 6     | 6.5  | 10 | \n",
    "| Taste        | 50    | 8     | 7   | 20 | \n",
    "| FestivalFood   | 65    | 9     | 7   | 20 | \n",
    "| HomeyKitchen   | 35    | 4     |16   | 5  | \n",
    "|ChineseRestaurant| 90    | 9     | 7   | 15 |\n",
    "|KebabStation    | 45    | 7.5    | 3   | 13 |  "
   ]
  },
  {
   "cell_type": "code",
   "execution_count": null,
   "id": "74492fb1",
   "metadata": {},
   "outputs": [],
   "source": [
    "# price\n"
   ]
  },
  {
   "cell_type": "code",
   "execution_count": null,
   "id": "05d13c5e",
   "metadata": {},
   "outputs": [],
   "source": [
    "# Rating \n"
   ]
  },
  {
   "cell_type": "code",
   "execution_count": null,
   "id": "7cfc0a17",
   "metadata": {},
   "outputs": [],
   "source": [
    "# Dor\n"
   ]
  },
  {
   "cell_type": "code",
   "execution_count": null,
   "id": "033ff82c",
   "metadata": {},
   "outputs": [],
   "source": [
    "# Lib\n"
   ]
  },
  {
   "cell_type": "markdown",
   "id": "ebea8cc0",
   "metadata": {},
   "source": [
    "#### Question 2\n",
    "2.1 Suppose you want to query the average price of AC3, based on the series you created, write the code using explicit index 'AC1' and output your results.\n",
    "\n",
    "2.2 Suppose you want to query the walking time from the dormitory to AC1, based on the series you created, write the code using integer index and output your results.\n",
    "\n",
    "2.3 Suppose you want to visit all the canteens around CityU from library, based on the series you created, write the code and output the total time you need.\n",
    "\n",
    "Hint 1: the interger index is started from 0\n",
    "\n",
    "Hint 2: you may need  to use the function sum() to take the sum of series\n",
    "\n",
    "| Canteens    | Price  | Rating  | Lib  | Dor| \n",
    "|-----------------|--------|-------- |------|----|\n",
    "| AC1         | 32    | 5     | 3   | 13 |\n",
    "| AC2         | 42    | 7     | 8   | 9  |\n",
    "| AC3         | 55    | 8     | 8   | 6  | \n",
    "| Mcdonald      | 45    | 7.5    | 5   | 18 | \n",
    "| Subway       | 44    | 6     | 6.5  | 10 | \n",
    "| Taste        | 50    | 8     | 7   | 20 | \n",
    "| FestivalFood   | 65    | 9     | 7   | 20 | \n",
    "| HomeyKitchen   | 35    | 4     |16   | 5  | \n",
    "|ChineseRestaurant| 90    | 9     | 7   | 15 |\n",
    "|KebabStation    | 45    | 7.5    | 3   | 13 |  "
   ]
  },
  {
   "cell_type": "code",
   "execution_count": null,
   "id": "43839539",
   "metadata": {},
   "outputs": [],
   "source": [
    "# 2.1\n"
   ]
  },
  {
   "cell_type": "code",
   "execution_count": null,
   "id": "42839a5f",
   "metadata": {},
   "outputs": [],
   "source": [
    "# 2.2\n"
   ]
  },
  {
   "cell_type": "code",
   "execution_count": null,
   "id": "c683a888",
   "metadata": {},
   "outputs": [],
   "source": [
    "# 2.3\n"
   ]
  },
  {
   "cell_type": "markdown",
   "id": "9191b64d",
   "metadata": {},
   "source": [
    "#### Question 3\n",
    "3.1 Your parent asks you how much it costs to eat at CityU. To make it simple, you are going to tell them the average price of the school canteen. Based on the series you created, write the code and output the average price of canteens.\n",
    "\n",
    "3.2 If the time from Li building to each canteen is half the time from the dormitory and the library to each canteen, what is the walking time from Li building to each canteen? Based on the series you created, write the code and output the result.\n",
    "\n",
    "3.3 Suppose you want to go to the nearest canteen from the Li building, which canteens can you choose? Based on the series you created, write the code and output the result.\n",
    "\n",
    "Hint 1: you may need to use mean() to take the mean value of series\n",
    "\n",
    "Hint 2: you may need to use add() or \"+\"\n",
    "\n",
    "Hint 3: you may need to use idxmin(), return index label of the minimum values.\n",
    "\n",
    "| Canteens    | Price  | Rating  | Lib  | Dor| \n",
    "|-----------------|--------|-------- |------|----|\n",
    "| AC1         | 32    | 5     | 3   | 13 |\n",
    "| AC2         | 42    | 7     | 8   | 9  |\n",
    "| AC3         | 55    | 8     | 8   | 6  | \n",
    "| Mcdonald      | 45    | 7.5    | 5   | 18 | \n",
    "| Subway       | 44    | 6     | 6.5  | 10 | \n",
    "| Taste        | 50    | 8     | 7   | 20 | \n",
    "| FestivalFood   | 65    | 9     | 7   | 20 | \n",
    "| HomeyKitchen   | 35    | 4     |16   | 5  | \n",
    "|ChineseRestaurant| 90    | 9     | 7   | 15 |\n",
    "|KebabStation    | 45    | 7.5    | 3   | 13 |  "
   ]
  },
  {
   "cell_type": "code",
   "execution_count": null,
   "id": "695b2452",
   "metadata": {},
   "outputs": [],
   "source": [
    "#3.1\n"
   ]
  },
  {
   "cell_type": "code",
   "execution_count": null,
   "id": "41118ce9",
   "metadata": {},
   "outputs": [],
   "source": [
    "#3.2\n"
   ]
  },
  {
   "cell_type": "code",
   "execution_count": null,
   "id": "aaee4a1e",
   "metadata": {},
   "outputs": [],
   "source": [
    "#3.2\n"
   ]
  },
  {
   "cell_type": "code",
   "execution_count": null,
   "id": "d04a9b83",
   "metadata": {},
   "outputs": [],
   "source": [
    "# 3.3\n"
   ]
  },
  {
   "cell_type": "markdown",
   "id": "fab0046a",
   "metadata": {},
   "source": [
    "#### Question 4\n",
    "4.1 If your budget for lunch is 55 hkd, but you want to eat the highest rated canteens, how many options do you have? Based on the series you created, write the code and print the result.\n",
    "\n",
    "Hint 1: for question 4.1 you need to select the canteens with price <=  55 first, and get their index, then use the index to find the highest rating in the rating series you have built, finally count the number of canteens.\n",
    "\n",
    "Hint 2: you may need to use max() to take the maximum value of a series\n",
    "\n",
    "Hint 3: you may need to use len() to take the length of a series\n",
    "\n",
    "-- -- -- \n",
    "\n",
    "4.2 Suppose you are studying in the dormitory today, and your budget for lunch is 50 hkd. In order to set aside more time for study, you want to find the nearest canteens. Where do you decide to eat for the lunch? Based on the series you created, write the code and print the result.\n",
    "\n",
    "Hint 4: you may need to find a canteen which has price lower than 50, and then choose the nearest one.\n",
    "\n",
    "Hint 5: you may need to use idxmin() to find the label of the minimum value of series\n",
    "\n",
    "-- -- --\n",
    "\n",
    "4.3 (This subquestion is not required) If you plan to eat lunch and dinner near CityU today, and the budget is 82 hkd, you want to eat the canteens with the highest sum of ratings today, where do you decide to eat? Based on the series you created, write the code and print the result.\n",
    "\n",
    "Hint 6: you may need to use two loops to traverse the price_series\n",
    "\n",
    "Hint 7: you may need to use if arguement to select the canteens which price sum is lower than 82.\n",
    "\n",
    "| Canteens    | Price  | Rating  | Lib  | Dor| \n",
    "|-----------------|--------|-------- |------|----|\n",
    "| AC1         | 32    | 5     | 3   | 13 |\n",
    "| AC2         | 42    | 7     | 8   | 9  |\n",
    "| AC3         | 55    | 8     | 8   | 6  | \n",
    "| Mcdonald      | 45    | 7.5    | 5   | 18 | \n",
    "| Subway       | 44    | 6     | 6.5  | 10 | \n",
    "| Taste        | 50    | 8     | 7   | 20 | \n",
    "| FestivalFood   | 65    | 9     | 7   | 20 | \n",
    "| HomeyKitchen   | 35    | 4     |16   | 5  | \n",
    "|ChineseRestaurant| 90    | 9     | 7   | 15 |\n",
    "|KebabStation    | 45    | 7.5    | 3   | 13 |  "
   ]
  },
  {
   "cell_type": "code",
   "execution_count": null,
   "id": "977eb0ed",
   "metadata": {},
   "outputs": [],
   "source": [
    "# 4.1\n"
   ]
  },
  {
   "cell_type": "code",
   "execution_count": null,
   "id": "b8b154fa",
   "metadata": {},
   "outputs": [],
   "source": [
    "# 4.2 \n"
   ]
  },
  {
   "cell_type": "code",
   "execution_count": null,
   "id": "3948c867",
   "metadata": {},
   "outputs": [],
   "source": [
    "# 4.2\n"
   ]
  },
  {
   "cell_type": "code",
   "execution_count": null,
   "id": "cf07c7c6",
   "metadata": {},
   "outputs": [],
   "source": [
    "# 4.3\n"
   ]
  },
  {
   "cell_type": "markdown",
   "id": "6188df98",
   "metadata": {},
   "source": [
    "### Questions about DataFrames"
   ]
  },
  {
   "cell_type": "code",
   "execution_count": null,
   "id": "61e1de1f",
   "metadata": {},
   "outputs": [],
   "source": [
    "# you may need to use the following information first\n",
    "import pandas as pd \n",
    "# create series\n",
    "price_series = pd.Series((32,42,55,45,44,50,65,35,90,45),[\"AC1\", \"AC2\", \"AC3\", \"Mcdonald\", \"Subway\", \"Taste\", \"FestivalFood\", \"HomeyKitchen\", \"ChineseRestaurant\", \"KebabStation\"])\n",
    "rating_series = pd.Series((5,7,8,7.5,6,8,9,4,9,7.5),[\"AC1\", \"AC2\", \"AC3\", \"Mcdonald\", \"Subway\", \"Taste\", \"FestivalFood\", \"HomeyKitchen\", \"ChineseRestaurant\", \"KebabStation\"])\n",
    "Dor_series = pd.Series((13,9,6,18,10,20,20,5,15,13), index=[\"AC1\", \"AC2\", \"AC3\", \"Mcdonald\", \"Subway\", \"Taste\", \"FestivalFood\", \"HomeyKitchen\", \"ChineseRestaurant\", \"KebabStation\"])\n",
    "Lib_series = pd.Series({\"AC1\":3, \"AC2\":8, \"AC3\":8, \"Mcdonald\":5, \"Subway\":6.5, \"Taste\":7, \"FestivalFood\":7, \"HomeyKitchen\":16, \"ChineseRestaurant\":7, \"KebabStation\":3})\n"
   ]
  },
  {
   "cell_type": "markdown",
   "id": "b3772525",
   "metadata": {},
   "source": [
    "#### Question 5\n",
    "Create Dataframe structure using at least two different ways and print your dataframe\n",
    "\n",
    "| Canteens    | Price  | Rating  | Lib  | Dor| \n",
    "|-----------------|--------|-------- |------|----|\n",
    "| AC1         | 32    | 5     | 3   | 13 |\n",
    "| AC2         | 42    | 7     | 8   | 9  |\n",
    "| AC3         | 55    | 8     | 8   | 6  | \n",
    "| Mcdonald      | 45    | 7.5    | 5   | 18 | \n",
    "| Subway       | 44    | 6     | 6.5  | 10 | \n",
    "| Taste        | 50    | 8     | 7   | 20 | \n",
    "| FestivalFood   | 65    | 9     | 7   | 20 | \n",
    "| HomeyKitchen   | 35    | 4     |16   | 5  | \n",
    "|ChineseRestaurant| 90    | 9     | 7   | 15 |\n",
    "|KebabStation    | 45    | 7.5    | 3   | 13 |  "
   ]
  },
  {
   "cell_type": "code",
   "execution_count": null,
   "id": "26c99d45",
   "metadata": {},
   "outputs": [],
   "source": [
    "# use series create dataframe\n"
   ]
  },
  {
   "cell_type": "markdown",
   "id": "4ebf3168",
   "metadata": {},
   "source": [
    "#### Question 6\n",
    "6.1 select the first 5 rows in at least two ways based on the dataframe you created,write the code and print your results\n",
    "\n",
    "6.2 Select the price and rating columns in at least two ways based on the dataframe you created, write the code and print your results\n",
    "\n",
    "6.3 What canteens from the library with walking time < 10 and rating >7? Based on the dataframe you created, write the code and print the result.\n",
    "\n",
    "Hint 1: head()\n",
    "\n",
    "Hint 2: iloc[]\n",
    "\n",
    "Hint 3: loc[]\n",
    "\n",
    "| Canteens    | Price  | Rating  | Lib  | Dor| \n",
    "|-----------------|--------|-------- |------|----|\n",
    "| AC1         | 32    | 5     | 3   | 13 |\n",
    "| AC2         | 42    | 7     | 8   | 9  |\n",
    "| AC3         | 55    | 8     | 8   | 6  | \n",
    "| Mcdonald      | 45    | 7.5    | 5   | 18 | \n",
    "| Subway       | 44    | 6     | 6.5  | 10 | \n",
    "| Taste        | 50    | 8     | 7   | 20 | \n",
    "| FestivalFood   | 65    | 9     | 7   | 20 | \n",
    "| HomeyKitchen   | 35    | 4     |16   | 5  | \n",
    "|ChineseRestaurant| 90    | 9     | 7   | 15 |\n",
    "|KebabStation    | 45    | 7.5    | 3   | 13 |  "
   ]
  },
  {
   "cell_type": "code",
   "execution_count": null,
   "id": "a7a55fa7",
   "metadata": {},
   "outputs": [],
   "source": [
    "# 6.1\n"
   ]
  },
  {
   "cell_type": "code",
   "execution_count": null,
   "id": "53caa0a9",
   "metadata": {},
   "outputs": [],
   "source": [
    "# 6.2 \n"
   ]
  },
  {
   "cell_type": "code",
   "execution_count": null,
   "id": "a79ea90a",
   "metadata": {},
   "outputs": [],
   "source": [
    "# 6.3 \n"
   ]
  },
  {
   "cell_type": "markdown",
   "id": "648a3c28",
   "metadata": {},
   "source": [
    "#### Question 7\n",
    "You just woke up today, and you feel that it is too troublesome to consider where to eat based on price, walking time, and rating, so you decide to combine these three indicators to calculate your own indicator, and decide where to eat breakfast based on this indicator. \n",
    "\n",
    "7.1 Please compute your indicator based on this equation: score = Rating×0.1-Price×0.01 -Dor×0.1. Based on the dataframe you created, add a column name \"score\"  and print the canteens you want to go based on the maximum value of this score.\n",
    "\n",
    "7.2 You think your score is too subjective, so you want to delete this column in case someone else know your preference(you are a privacy-conscious person).Based on the dataframe you created, delete the column \"score\" and print new dataframe.\n",
    "\n",
    "Hint 1: you may need to use function insert() to add a new column\n",
    "\n",
    "Hint 2: you may need to use function  max() to compute the max value of one column\n",
    "\n",
    "Hint 3: you may need to use function drop() to delete a column\n",
    "\n",
    "| Canteens    | Price  | Rating  | Lib  | Dor| \n",
    "|-----------------|--------|-------- |------|----|\n",
    "| AC1         | 32    | 5     | 3   | 13 |\n",
    "| AC2         | 42    | 7     | 8   | 9  |\n",
    "| AC3         | 55    | 8     | 8   | 6  | \n",
    "| Mcdonald      | 45    | 7.5    | 5   | 18 | \n",
    "| Subway       | 44    | 6     | 6.5  | 10 | \n",
    "| Taste        | 50    | 8     | 7   | 20 | \n",
    "| FestivalFood   | 65    | 9     | 7   | 20 | \n",
    "| HomeyKitchen   | 35    | 4     |16   | 5  | \n",
    "|ChineseRestaurant| 90    | 9     | 7   | 15 |\n",
    "|KebabStation    | 45    | 7.5    | 3   | 13 |  "
   ]
  },
  {
   "cell_type": "code",
   "execution_count": null,
   "id": "9d5f3599",
   "metadata": {},
   "outputs": [],
   "source": [
    "# 7.1 \n"
   ]
  },
  {
   "cell_type": "code",
   "execution_count": null,
   "id": "b08b5dac",
   "metadata": {},
   "outputs": [],
   "source": [
    "# 7.2\n"
   ]
  },
  {
   "cell_type": "markdown",
   "id": "a16aedf4",
   "metadata": {},
   "source": [
    "#### Question 8\n",
    "\n",
    "There are activities in CityU canteens today. Show your student card in the canteens and you can get a meal coupon for this canteen, and you can consume any set meal. Sadly, these activities take place at the same time and you can only go to one canteen. Which canteens do you want to go ?(considering the rating first and then considering the price). Based on the dataframe you created, write your code and print your results.\n",
    "\n",
    "Hint 1: you may need to use the function sort_values() to sort the dataframe\n",
    "\n",
    "| Canteens    | Price  | Rating  | Lib  | Dor| \n",
    "|-----------------|--------|-------- |------|----|\n",
    "| AC1         | 32    | 5     | 3   | 13 |\n",
    "| AC2         | 42    | 7     | 8   | 9  |\n",
    "| AC3         | 55    | 8     | 8   | 6  | \n",
    "| Mcdonald      | 45    | 7.5    | 5   | 18 | \n",
    "| Subway       | 44    | 6     | 6.5  | 10 | \n",
    "| Taste        | 50    | 8     | 7   | 20 | \n",
    "| FestivalFood   | 65    | 9     | 7   | 20 | \n",
    "| HomeyKitchen   | 35    | 4     |16   | 5  | \n",
    "|ChineseRestaurant| 90    | 9     | 7   | 15 |\n",
    "|KebabStation    | 45    | 7.5    | 3   | 13 |  "
   ]
  },
  {
   "cell_type": "code",
   "execution_count": null,
   "id": "33290f2a",
   "metadata": {},
   "outputs": [],
   "source": [
    "# solution\n"
   ]
  }
 ],
 "metadata": {
  "kernelspec": {
   "display_name": "Python 3.10.4 ('2001')",
   "language": "python",
   "name": "python3"
  },
  "language_info": {
   "codemirror_mode": {
    "name": "ipython",
    "version": 3
   },
   "file_extension": ".py",
   "mimetype": "text/x-python",
   "name": "python",
   "nbconvert_exporter": "python",
   "pygments_lexer": "ipython3",
   "version": "3.10.4"
  },
  "vscode": {
   "interpreter": {
    "hash": "55eb91d003843ee0eabb6af411dc999514f7578b560f97084ebc6a83d429fc16"
   }
  }
 },
 "nbformat": 4,
 "nbformat_minor": 5
}
