{
 "cells": [
  {
   "cell_type": "markdown",
   "metadata": {},
   "source": [
    "# Pandas Series and DataFrames\n",
    "\n"
   ]
  },
  {
   "cell_type": "markdown",
   "metadata": {},
   "source": [
    "## Handling missing data"
   ]
  },
  {
   "cell_type": "markdown",
   "metadata": {},
   "source": [
    "## Q1 Based on the given DataFrame (Canteen)\n",
    "**The given DataFrame should NOT be changed after each sub-question. Change its copy instead. Namley, each sub-question will just work on a copy of the given DataFrame.**  \n",
    "\n",
    "**Sub_Q1**: *Print the number of missing values in each column*\n",
    "\n",
    "**Sub_Q2**: *Print the total amounts of purchases (purch_amt) excluding missing values*\n",
    "\n",
    "**Sub_Q3**: *Print the filtered data, where any a row is dropped if more than 20 % of values are missing*\n",
    "\n",
    "**Sub_Q4**: *Fill each missing value by propagating the last valid observation forward to the next valid (axis = 0)*\n",
    "\n",
    "**Sub_Q5**: *Fill the `NaN` of `payment` by the mean value, the `NaN` of `student_id` by `3000.0`, and the rest missing values by `method = ffill` in one line of code*\n",
    "\n",
    "###  the given DataFrame: Canteen\n",
    "|student_id|canteen_id|payment|ord_date|rate|\n",
    "|:----:|:----:|:----:|:------:|:----:|\n",
    "|3002|AC1|25|2012-10-5|2|\n",
    "|3001|NaN|27|2012-9-10|3|\n",
    "|3001|AC1|40|NaN|5|\n",
    "|3003|AC2|30|2012-8-17|NaN|\n",
    "|3002|NaN|45|2012-9-10|5|\n",
    "|3001|AC1|24|2012-7-27|5|\n",
    "|3001|NaN|55|20129-10|5|\n",
    "|3004|AC3|52|2012-10-10|NaN|\n",
    "|3003|AC3|35|2012-10-10|3|\n",
    "|3002|AC2|35|2012-6-27|2|\n",
    "|3001|NaN|45|2012-8-17|5|\n",
    "|3001|AC1|45|2012-4-25|NaN|\n",
    "|NaN|NaN|NaN|NaN|NaN|"
   ]
  },
  {
   "cell_type": "markdown",
   "metadata": {},
   "source": [
    "### Q1_solutions"
   ]
  },
  {
   "cell_type": "code",
   "execution_count": 1,
   "metadata": {},
   "outputs": [
    {
     "data": {
      "text/html": [
       "<div>\n",
       "<style scoped>\n",
       "    .dataframe tbody tr th:only-of-type {\n",
       "        vertical-align: middle;\n",
       "    }\n",
       "\n",
       "    .dataframe tbody tr th {\n",
       "        vertical-align: top;\n",
       "    }\n",
       "\n",
       "    .dataframe thead th {\n",
       "        text-align: right;\n",
       "    }\n",
       "</style>\n",
       "<table border=\"1\" class=\"dataframe\">\n",
       "  <thead>\n",
       "    <tr style=\"text-align: right;\">\n",
       "      <th></th>\n",
       "      <th>student_id</th>\n",
       "      <th>canteen_id</th>\n",
       "      <th>payment</th>\n",
       "      <th>ord_date</th>\n",
       "      <th>rate</th>\n",
       "    </tr>\n",
       "  </thead>\n",
       "  <tbody>\n",
       "    <tr>\n",
       "      <th>0</th>\n",
       "      <td>3002.0</td>\n",
       "      <td>AC1</td>\n",
       "      <td>25.0</td>\n",
       "      <td>2012-10-05</td>\n",
       "      <td>2.0</td>\n",
       "    </tr>\n",
       "    <tr>\n",
       "      <th>1</th>\n",
       "      <td>3001.0</td>\n",
       "      <td>NaN</td>\n",
       "      <td>27.0</td>\n",
       "      <td>2012-09-10</td>\n",
       "      <td>3.0</td>\n",
       "    </tr>\n",
       "    <tr>\n",
       "      <th>2</th>\n",
       "      <td>3001.0</td>\n",
       "      <td>AC1</td>\n",
       "      <td>40.0</td>\n",
       "      <td>NaN</td>\n",
       "      <td>5.0</td>\n",
       "    </tr>\n",
       "    <tr>\n",
       "      <th>3</th>\n",
       "      <td>3003.0</td>\n",
       "      <td>AC2</td>\n",
       "      <td>30.0</td>\n",
       "      <td>2012-08-17</td>\n",
       "      <td>NaN</td>\n",
       "    </tr>\n",
       "    <tr>\n",
       "      <th>4</th>\n",
       "      <td>3002.0</td>\n",
       "      <td>NaN</td>\n",
       "      <td>45.0</td>\n",
       "      <td>2012-09-10</td>\n",
       "      <td>5.0</td>\n",
       "    </tr>\n",
       "    <tr>\n",
       "      <th>5</th>\n",
       "      <td>3001.0</td>\n",
       "      <td>AC1</td>\n",
       "      <td>24.0</td>\n",
       "      <td>2012-07-27</td>\n",
       "      <td>5.0</td>\n",
       "    </tr>\n",
       "    <tr>\n",
       "      <th>6</th>\n",
       "      <td>3001.0</td>\n",
       "      <td>NaN</td>\n",
       "      <td>55.0</td>\n",
       "      <td>2012-09-10</td>\n",
       "      <td>5.0</td>\n",
       "    </tr>\n",
       "    <tr>\n",
       "      <th>7</th>\n",
       "      <td>3004.0</td>\n",
       "      <td>AC3</td>\n",
       "      <td>52.0</td>\n",
       "      <td>2012-10-10</td>\n",
       "      <td>NaN</td>\n",
       "    </tr>\n",
       "    <tr>\n",
       "      <th>8</th>\n",
       "      <td>3003.0</td>\n",
       "      <td>AC3</td>\n",
       "      <td>35.0</td>\n",
       "      <td>2012-10-10</td>\n",
       "      <td>3.0</td>\n",
       "    </tr>\n",
       "    <tr>\n",
       "      <th>9</th>\n",
       "      <td>3002.0</td>\n",
       "      <td>AC2</td>\n",
       "      <td>35.0</td>\n",
       "      <td>2012-06-27</td>\n",
       "      <td>2.0</td>\n",
       "    </tr>\n",
       "    <tr>\n",
       "      <th>10</th>\n",
       "      <td>3001.0</td>\n",
       "      <td>NaN</td>\n",
       "      <td>45.0</td>\n",
       "      <td>2012-08-17</td>\n",
       "      <td>5.0</td>\n",
       "    </tr>\n",
       "    <tr>\n",
       "      <th>11</th>\n",
       "      <td>3001.0</td>\n",
       "      <td>AC1</td>\n",
       "      <td>45.0</td>\n",
       "      <td>2012-04-25</td>\n",
       "      <td>NaN</td>\n",
       "    </tr>\n",
       "    <tr>\n",
       "      <th>12</th>\n",
       "      <td>NaN</td>\n",
       "      <td>NaN</td>\n",
       "      <td>NaN</td>\n",
       "      <td>NaN</td>\n",
       "      <td>NaN</td>\n",
       "    </tr>\n",
       "  </tbody>\n",
       "</table>\n",
       "</div>"
      ],
      "text/plain": [
       "    student_id canteen_id  payment    ord_date  rate\n",
       "0       3002.0        AC1     25.0  2012-10-05   2.0\n",
       "1       3001.0        NaN     27.0  2012-09-10   3.0\n",
       "2       3001.0        AC1     40.0         NaN   5.0\n",
       "3       3003.0        AC2     30.0  2012-08-17   NaN\n",
       "4       3002.0        NaN     45.0  2012-09-10   5.0\n",
       "5       3001.0        AC1     24.0  2012-07-27   5.0\n",
       "6       3001.0        NaN     55.0  2012-09-10   5.0\n",
       "7       3004.0        AC3     52.0  2012-10-10   NaN\n",
       "8       3003.0        AC3     35.0  2012-10-10   3.0\n",
       "9       3002.0        AC2     35.0  2012-06-27   2.0\n",
       "10      3001.0        NaN     45.0  2012-08-17   5.0\n",
       "11      3001.0        AC1     45.0  2012-04-25   NaN\n",
       "12         NaN        NaN      NaN         NaN   NaN"
      ]
     },
     "execution_count": 1,
     "metadata": {},
     "output_type": "execute_result"
    }
   ],
   "source": [
    "import pandas as pd\n",
    "import numpy as np\n",
    "\n",
    "\"\"\" Create DataFrame from Dictionary \"\"\"\n",
    "#Canteen = pd.DataFrame({\n",
    "# 'student_id':[3002,3001,3001,3003,3002,3001,3001,3004,3003,3002,3001,3001,np.nan],\n",
    "# 'canteen_id':['AC1',np.nan,'AC1','AC2',np.nan,'AC1',np.nan,'AC3','AC3','AC2',np.nan,'AC1',np.nan],\n",
    "# 'payment':[25,27,40,30,45,24,55,52,35,35,45,45,np.nan],\n",
    "# 'ord_date': ['2012-10-05','2012-09-10',np.nan,'2012-08-17','2012-09-10','2012-07-27',\n",
    "#             '2012-09-10','2012-10-10','2012-10-10','2012-06-27','2012-08-17','2012-04-25',np.nan],\n",
    "# 'rate':[2,3,5,np.nan,5,5,5,np.nan,3,2,5,np.nan,np.nan]})\n",
    "#Canteen.to_csv('canteen.csv', encoding='utf-8', index=False)\n",
    "\n",
    "Canteen = pd.read_csv('canteen.csv') # If you get an error, use the code above \n",
    "#print(\"Original Orders DataFrame:\")\n",
    "Canteen"
   ]
  },
  {
   "cell_type": "markdown",
   "metadata": {},
   "source": [
    "#### Sub_Q1\n",
    "*Print the number of missing values in each column*."
   ]
  },
  {
   "cell_type": "code",
   "execution_count": null,
   "metadata": {},
   "outputs": [],
   "source": [
    "\n"
   ]
  },
  {
   "cell_type": "markdown",
   "metadata": {},
   "source": [
    "#### Sub_Q2\n",
    "*Print the total amounts of purchases (purch_amt) excluding missing values*."
   ]
  },
  {
   "cell_type": "code",
   "execution_count": null,
   "metadata": {},
   "outputs": [],
   "source": []
  },
  {
   "cell_type": "markdown",
   "metadata": {},
   "source": [
    "#### Sub_Q3\n",
    "*Print the filtered data, where any a row is dropped if more than 20 % of values are missing*."
   ]
  },
  {
   "cell_type": "code",
   "execution_count": null,
   "metadata": {},
   "outputs": [],
   "source": []
  },
  {
   "cell_type": "markdown",
   "metadata": {},
   "source": [
    "#### Sub_Q4\n",
    "*Fill each missing value by propagating the last valid observation forward to the next valid (axis = 0)*."
   ]
  },
  {
   "cell_type": "code",
   "execution_count": null,
   "metadata": {
    "scrolled": true
   },
   "outputs": [],
   "source": []
  },
  {
   "cell_type": "markdown",
   "metadata": {},
   "source": [
    "#### Sub_Q5\n",
    "*Fill the `NaN` of `payment` by the mean value, the `NaN` of `student_id` by `3000.0`, and the rest missing values by `method = ffill` in one line of code*."
   ]
  },
  {
   "cell_type": "code",
   "execution_count": null,
   "metadata": {},
   "outputs": [],
   "source": []
  },
  {
   "cell_type": "markdown",
   "metadata": {},
   "source": [
    "## Indexing / Multi-indices / Sorting / Stacking / Data aggregation"
   ]
  },
  {
   "cell_type": "markdown",
   "metadata": {},
   "source": [
    "### Q2 Based on the given DataFrame (Canteen_full)\n",
    "\n",
    "**Sub_Q1**: *Create `Canteen_all_s1` from `Canteen_all` by building a MultiIndex from the column values of `student_id` and `canteen`*. \n",
    "\n",
    "**Sub_Q2**: *Create `Canteen_all_s2` by sorting all levels of indices of `Canteen_all_s1` , and see the difference between the two*\n",
    "\n",
    "**Sub_Q3**: *Create `Canteen_all_s3` from `Canteen_all_s2` by selecting the data of June, July, August, and September*\n",
    "\n",
    "**Sub_Q4**: *Based on `Canteen_all_s3`, which student bought the most and which canteen sold the most in terms of `payment`*\n",
    "\n",
    "**Sub_Q5**: *Which one will raise an error and why,   \n",
    "1)`Canteen_all_s2.stack().unstack()`,\n",
    "or 2）`Canteen_all_s2.reset_index().stack().unstack()`*\n",
    "\n",
    "**Sub_Q6**: *Based on `Canteen_all`,  calculate the mean, min and max values of `payment` for each `canteen_id`*\n",
    "\n",
    "###  the DataFrame: Canteen_all\n",
    "```\n",
    "# Canteen_all can be just created from Canteen\n",
    "Canteen_all = Canteen.dropna(how='all').fillna(axis= 0, method='ffill')\n",
    "```\n",
    "\n",
    "|student_id|canteen_id|payment|ord_date|rate|\n",
    "|:----|:----|:----|:----|:----|\n",
    "|3002|AC1|25|2012-10-5|2|\n",
    "|3001|AC1|27|2012-9-10|3|\n",
    "|3001|AC1|40|2012-9-10|5|\n",
    "|3003|AC2|30|2012-8-17|5|\n",
    "|3002|AC2|45|2012-9-10|5|\n",
    "|3001|AC1|24|2012-7-27|5|\n",
    "|3001|AC1|55|2012-9-10|5|\n",
    "|3004|AC3|52|2012-10-10|5|\n",
    "|3003|AC3|35|2012-10-10|3|\n",
    "|3002|AC2|35|2012-6-27|2|\n",
    "|3001|AC2|45|2012-8-17|5|\n",
    "|3001|AC1|45|2012-4-25|5|"
   ]
  },
  {
   "cell_type": "markdown",
   "metadata": {},
   "source": [
    "### Q2_solutions"
   ]
  },
  {
   "cell_type": "code",
   "execution_count": null,
   "metadata": {},
   "outputs": [],
   "source": [
    "# Canteen_all can be just created from Canteen\n",
    "Canteen_all = Canteen.dropna(how='all').fillna(axis= 0, method='ffill')\n",
    "Canteen_all"
   ]
  },
  {
   "cell_type": "markdown",
   "metadata": {},
   "source": [
    "#### Sub_Q1\n",
    "*Create `Canteen_all_s1` from `Canteen_all` by building a MultiIndex from the column values of `student_id` and `canteen`*. "
   ]
  },
  {
   "cell_type": "code",
   "execution_count": null,
   "metadata": {},
   "outputs": [],
   "source": []
  },
  {
   "cell_type": "markdown",
   "metadata": {},
   "source": [
    "#### Sub_Q2\n",
    "*Create `Canteen_all_s2` by sorting all levels of indices of `Canteen_all_s1` , and see the difference between the two*."
   ]
  },
  {
   "cell_type": "code",
   "execution_count": null,
   "metadata": {},
   "outputs": [],
   "source": []
  },
  {
   "cell_type": "markdown",
   "metadata": {},
   "source": [
    "#### Sub_Q3\n",
    "*Create `Canteen_all_s3` from `Canteen_all_s2` by selecting the data of June, July, August, and September*."
   ]
  },
  {
   "cell_type": "code",
   "execution_count": null,
   "metadata": {},
   "outputs": [],
   "source": []
  },
  {
   "cell_type": "markdown",
   "metadata": {},
   "source": [
    "#### Sub_Q4\n",
    "*Based on `Canteen_all_s3`, which student bought the most and which canteen sold the most in terms of `payment`*"
   ]
  },
  {
   "cell_type": "code",
   "execution_count": null,
   "metadata": {},
   "outputs": [],
   "source": []
  },
  {
   "cell_type": "markdown",
   "metadata": {},
   "source": [
    "#### Sub_Q5\n",
    "*Which one will raise an error and why,   \n",
    "1)`Canteen_all_s2.stack().unstack()`,\n",
    "or 2）`Canteen_all_s2.reset_index().stack().unstack()`*"
   ]
  },
  {
   "cell_type": "code",
   "execution_count": null,
   "metadata": {},
   "outputs": [],
   "source": []
  },
  {
   "cell_type": "markdown",
   "metadata": {},
   "source": [
    "#### Sub_Q6\n",
    "*Based on `Canteen_all`,  calculate the mean, min and max values of `payment` for each `canteen_id`*."
   ]
  },
  {
   "cell_type": "code",
   "execution_count": null,
   "metadata": {},
   "outputs": [],
   "source": []
  },
  {
   "cell_type": "markdown",
   "metadata": {},
   "source": [
    "## Additional Questions "
   ]
  },
  {
   "cell_type": "markdown",
   "metadata": {},
   "source": [
    "### Q3"
   ]
  },
  {
   "cell_type": "markdown",
   "metadata": {},
   "source": [
    "#### Sub_Q1 \n",
    "\n",
    "Given the lists `letters = ['A', 'B', 'C']` and `numbers = list(range(10))`, construct a MultiIndex object from the product of the two lists. Use it to index a Series of random numbers. Call this Series `s`."
   ]
  },
  {
   "cell_type": "code",
   "execution_count": 16,
   "metadata": {},
   "outputs": [
    {
     "data": {
      "text/plain": [
       "A  0    0.543405\n",
       "   1    0.278369\n",
       "   2    0.424518\n",
       "   3    0.844776\n",
       "   4    0.004719\n",
       "   5    0.121569\n",
       "   6    0.670749\n",
       "   7    0.825853\n",
       "   8    0.136707\n",
       "   9    0.575093\n",
       "B  0    0.891322\n",
       "   1    0.209202\n",
       "   2    0.185328\n",
       "   3    0.108377\n",
       "   4    0.219697\n",
       "   5    0.978624\n",
       "   6    0.811683\n",
       "   7    0.171941\n",
       "   8    0.816225\n",
       "   9    0.274074\n",
       "C  0    0.431704\n",
       "   1    0.940030\n",
       "   2    0.817649\n",
       "   3    0.336112\n",
       "   4    0.175410\n",
       "   5    0.372832\n",
       "   6    0.005689\n",
       "   7    0.252426\n",
       "   8    0.795663\n",
       "   9    0.015255\n",
       "dtype: float64"
      ]
     },
     "execution_count": 16,
     "metadata": {},
     "output_type": "execute_result"
    }
   ],
   "source": []
  },
  {
   "cell_type": "markdown",
   "metadata": {
    "heading_collapsed": true
   },
   "source": [
    "#### Sub_Q2\n",
    "\n",
    "Select the labels `1`, `3` and `6` from the second level of the MultiIndexed Series."
   ]
  },
  {
   "cell_type": "code",
   "execution_count": 17,
   "metadata": {
    "hidden": true
   },
   "outputs": [
    {
     "data": {
      "text/plain": [
       "A  1    0.278369\n",
       "   3    0.844776\n",
       "   6    0.670749\n",
       "B  1    0.209202\n",
       "   3    0.108377\n",
       "   6    0.811683\n",
       "C  1    0.940030\n",
       "   3    0.336112\n",
       "   6    0.005689\n",
       "dtype: float64"
      ]
     },
     "execution_count": 17,
     "metadata": {},
     "output_type": "execute_result"
    }
   ],
   "source": [
    "s.loc[:, [1, 3, 6]]"
   ]
  },
  {
   "cell_type": "markdown",
   "metadata": {
    "heading_collapsed": true
   },
   "source": [
    "### Q4 "
   ]
  },
  {
   "cell_type": "markdown",
   "metadata": {
    "hidden": true
   },
   "source": [
    "Given a DataFrame as follows:\n",
    "```python\n",
    "df = pd.DataFrame(np.array([[1 2],\n",
    "                           [3 4]])) \n",
    "```\n",
    "\n",
    "how do you subtract the row mean from each element in the row?"
   ]
  },
  {
   "cell_type": "code",
   "execution_count": 18,
   "metadata": {
    "hidden": true
   },
   "outputs": [
    {
     "data": {
      "text/html": [
       "<div>\n",
       "<style scoped>\n",
       "    .dataframe tbody tr th:only-of-type {\n",
       "        vertical-align: middle;\n",
       "    }\n",
       "\n",
       "    .dataframe tbody tr th {\n",
       "        vertical-align: top;\n",
       "    }\n",
       "\n",
       "    .dataframe thead th {\n",
       "        text-align: right;\n",
       "    }\n",
       "</style>\n",
       "<table border=\"1\" class=\"dataframe\">\n",
       "  <thead>\n",
       "    <tr style=\"text-align: right;\">\n",
       "      <th></th>\n",
       "      <th>0</th>\n",
       "      <th>1</th>\n",
       "    </tr>\n",
       "  </thead>\n",
       "  <tbody>\n",
       "    <tr>\n",
       "      <th>0</th>\n",
       "      <td>-0.5</td>\n",
       "      <td>0.5</td>\n",
       "    </tr>\n",
       "    <tr>\n",
       "      <th>1</th>\n",
       "      <td>-0.5</td>\n",
       "      <td>0.5</td>\n",
       "    </tr>\n",
       "  </tbody>\n",
       "</table>\n",
       "</div>"
      ],
      "text/plain": [
       "     0    1\n",
       "0 -0.5  0.5\n",
       "1 -0.5  0.5"
      ]
     },
     "execution_count": 18,
     "metadata": {},
     "output_type": "execute_result"
    }
   ],
   "source": [
    "df = pd.DataFrame(np.array([[1, 2],\n",
    "                           [3, 4]]))\n",
    "\n",
    "df.sub(df.mean(axis=1), axis=0)\n",
    "\n",
    "# mean(axis = 0) # Average over/along the row for each colunm, (column mean)\n",
    "# mean(axis = 1) # Average over/along the colunm for each row, (row mean)\n",
    "# sub(axis = 0) # subtract along the row \n",
    "\n",
    "# e.g., df.mean(axis=1) gives : \n",
    "# 0: 1.5 = (1 + 2 ) / 2\n",
    "# 1: 3.5 = (3 + 4) / 2 "
   ]
  },
  {
   "cell_type": "markdown",
   "metadata": {
    "heading_collapsed": true
   },
   "source": [
    "### Q5"
   ]
  },
  {
   "cell_type": "markdown",
   "metadata": {
    "hidden": true
   },
   "source": [
    "Consider the following Python dictionary `data` and Python list `labels`:\n",
    "\n",
    "``` python\n",
    "data = {'animal': ['cat', 'cat', 'snake', 'dog', 'dog', 'cat', 'snake', 'cat', 'dog', 'dog'],\n",
    "        'age': [2.5, 3, 0.5, np.nan, 5, 2, 4.5, np.nan, 7, 3],\n",
    "        'visits': [1, 3, 2, 3, 2, 3, 1, 1, 2, 1],\n",
    "        'priority': ['yes', 'yes', 'no', 'yes', 'no', 'no', 'no', 'yes', 'no', 'no']}\n",
    "\n",
    "labels = ['a', 'b', 'c', 'd', 'e', 'f', 'g', 'h', 'i', 'j']\n",
    "```"
   ]
  },
  {
   "cell_type": "markdown",
   "metadata": {
    "heading_collapsed": true,
    "hidden": true
   },
   "source": [
    "#### Sub_Q1\n",
    "Create a DataFrame `df` from this dictionary `data` which has the index `labels`."
   ]
  },
  {
   "cell_type": "code",
   "execution_count": 19,
   "metadata": {
    "hidden": true
   },
   "outputs": [
    {
     "data": {
      "text/html": [
       "<div>\n",
       "<style scoped>\n",
       "    .dataframe tbody tr th:only-of-type {\n",
       "        vertical-align: middle;\n",
       "    }\n",
       "\n",
       "    .dataframe tbody tr th {\n",
       "        vertical-align: top;\n",
       "    }\n",
       "\n",
       "    .dataframe thead th {\n",
       "        text-align: right;\n",
       "    }\n",
       "</style>\n",
       "<table border=\"1\" class=\"dataframe\">\n",
       "  <thead>\n",
       "    <tr style=\"text-align: right;\">\n",
       "      <th></th>\n",
       "      <th>animal</th>\n",
       "      <th>age</th>\n",
       "      <th>visits</th>\n",
       "      <th>priority</th>\n",
       "    </tr>\n",
       "  </thead>\n",
       "  <tbody>\n",
       "    <tr>\n",
       "      <th>a</th>\n",
       "      <td>cat</td>\n",
       "      <td>2.5</td>\n",
       "      <td>1</td>\n",
       "      <td>yes</td>\n",
       "    </tr>\n",
       "    <tr>\n",
       "      <th>b</th>\n",
       "      <td>cat</td>\n",
       "      <td>3.0</td>\n",
       "      <td>3</td>\n",
       "      <td>yes</td>\n",
       "    </tr>\n",
       "    <tr>\n",
       "      <th>c</th>\n",
       "      <td>snake</td>\n",
       "      <td>0.5</td>\n",
       "      <td>2</td>\n",
       "      <td>no</td>\n",
       "    </tr>\n",
       "    <tr>\n",
       "      <th>d</th>\n",
       "      <td>dog</td>\n",
       "      <td>NaN</td>\n",
       "      <td>3</td>\n",
       "      <td>yes</td>\n",
       "    </tr>\n",
       "    <tr>\n",
       "      <th>e</th>\n",
       "      <td>dog</td>\n",
       "      <td>5.0</td>\n",
       "      <td>2</td>\n",
       "      <td>no</td>\n",
       "    </tr>\n",
       "    <tr>\n",
       "      <th>f</th>\n",
       "      <td>cat</td>\n",
       "      <td>2.0</td>\n",
       "      <td>3</td>\n",
       "      <td>no</td>\n",
       "    </tr>\n",
       "    <tr>\n",
       "      <th>g</th>\n",
       "      <td>snake</td>\n",
       "      <td>4.5</td>\n",
       "      <td>1</td>\n",
       "      <td>no</td>\n",
       "    </tr>\n",
       "    <tr>\n",
       "      <th>h</th>\n",
       "      <td>cat</td>\n",
       "      <td>NaN</td>\n",
       "      <td>1</td>\n",
       "      <td>yes</td>\n",
       "    </tr>\n",
       "    <tr>\n",
       "      <th>i</th>\n",
       "      <td>dog</td>\n",
       "      <td>7.0</td>\n",
       "      <td>2</td>\n",
       "      <td>no</td>\n",
       "    </tr>\n",
       "    <tr>\n",
       "      <th>j</th>\n",
       "      <td>dog</td>\n",
       "      <td>3.0</td>\n",
       "      <td>1</td>\n",
       "      <td>no</td>\n",
       "    </tr>\n",
       "  </tbody>\n",
       "</table>\n",
       "</div>"
      ],
      "text/plain": [
       "  animal  age  visits priority\n",
       "a    cat  2.5       1      yes\n",
       "b    cat  3.0       3      yes\n",
       "c  snake  0.5       2       no\n",
       "d    dog  NaN       3      yes\n",
       "e    dog  5.0       2       no\n",
       "f    cat  2.0       3       no\n",
       "g  snake  4.5       1       no\n",
       "h    cat  NaN       1      yes\n",
       "i    dog  7.0       2       no\n",
       "j    dog  3.0       1       no"
      ]
     },
     "execution_count": 19,
     "metadata": {},
     "output_type": "execute_result"
    }
   ],
   "source": [
    "data = {'animal': ['cat', 'cat', 'snake', 'dog', 'dog', 'cat', 'snake', 'cat', 'dog', 'dog'],\n",
    "        'age': [2.5, 3, 0.5, np.nan, 5, 2, 4.5, np.nan, 7, 3],\n",
    "        'visits': [1, 3, 2, 3, 2, 3, 1, 1, 2, 1],\n",
    "        'priority': ['yes', 'yes', 'no', 'yes', 'no', 'no', 'no', 'yes', 'no', 'no']}\n",
    "\n",
    "labels = ['a', 'b', 'c', 'd', 'e', 'f', 'g', 'h', 'i', 'j']\n",
    "\n",
    "df = pd.DataFrame(data = data, index= labels )\n",
    "df "
   ]
  },
  {
   "cell_type": "markdown",
   "metadata": {
    "heading_collapsed": true,
    "hidden": true
   },
   "source": [
    "#### Sub_Q2\n",
    "Select just the 'animal' and 'age' columns and slice the rows from 'a' to 'b' based on the DataFrame `df`."
   ]
  },
  {
   "cell_type": "code",
   "execution_count": 20,
   "metadata": {
    "hidden": true
   },
   "outputs": [
    {
     "data": {
      "text/html": [
       "<div>\n",
       "<style scoped>\n",
       "    .dataframe tbody tr th:only-of-type {\n",
       "        vertical-align: middle;\n",
       "    }\n",
       "\n",
       "    .dataframe tbody tr th {\n",
       "        vertical-align: top;\n",
       "    }\n",
       "\n",
       "    .dataframe thead th {\n",
       "        text-align: right;\n",
       "    }\n",
       "</style>\n",
       "<table border=\"1\" class=\"dataframe\">\n",
       "  <thead>\n",
       "    <tr style=\"text-align: right;\">\n",
       "      <th></th>\n",
       "      <th>animal</th>\n",
       "      <th>age</th>\n",
       "    </tr>\n",
       "  </thead>\n",
       "  <tbody>\n",
       "    <tr>\n",
       "      <th>a</th>\n",
       "      <td>cat</td>\n",
       "      <td>2.5</td>\n",
       "    </tr>\n",
       "    <tr>\n",
       "      <th>b</th>\n",
       "      <td>cat</td>\n",
       "      <td>3.0</td>\n",
       "    </tr>\n",
       "  </tbody>\n",
       "</table>\n",
       "</div>"
      ],
      "text/plain": [
       "  animal  age\n",
       "a    cat  2.5\n",
       "b    cat  3.0"
      ]
     },
     "execution_count": 20,
     "metadata": {},
     "output_type": "execute_result"
    }
   ],
   "source": [
    "df.loc['a':'b',['animal', 'age']]\n",
    "\n",
    "############# or\n",
    "\n",
    "# df[['animal', 'age']]"
   ]
  },
  {
   "cell_type": "markdown",
   "metadata": {
    "heading_collapsed": true,
    "hidden": true
   },
   "source": [
    "#### Sub_Q3\n",
    "In the 'animal' column, change the 'snake' entries to 'python'."
   ]
  },
  {
   "cell_type": "code",
   "execution_count": 50,
   "metadata": {
    "hidden": true
   },
   "outputs": [
    {
     "data": {
      "text/html": [
       "<div>\n",
       "<style scoped>\n",
       "    .dataframe tbody tr th:only-of-type {\n",
       "        vertical-align: middle;\n",
       "    }\n",
       "\n",
       "    .dataframe tbody tr th {\n",
       "        vertical-align: top;\n",
       "    }\n",
       "\n",
       "    .dataframe thead th {\n",
       "        text-align: right;\n",
       "    }\n",
       "</style>\n",
       "<table border=\"1\" class=\"dataframe\">\n",
       "  <thead>\n",
       "    <tr style=\"text-align: right;\">\n",
       "      <th></th>\n",
       "      <th>animal</th>\n",
       "      <th>age</th>\n",
       "      <th>visits</th>\n",
       "      <th>priority</th>\n",
       "    </tr>\n",
       "  </thead>\n",
       "  <tbody>\n",
       "    <tr>\n",
       "      <th>a</th>\n",
       "      <td>cat</td>\n",
       "      <td>2.5</td>\n",
       "      <td>1</td>\n",
       "      <td>yes</td>\n",
       "    </tr>\n",
       "    <tr>\n",
       "      <th>b</th>\n",
       "      <td>cat</td>\n",
       "      <td>3.0</td>\n",
       "      <td>3</td>\n",
       "      <td>yes</td>\n",
       "    </tr>\n",
       "    <tr>\n",
       "      <th>c</th>\n",
       "      <td>python</td>\n",
       "      <td>0.5</td>\n",
       "      <td>2</td>\n",
       "      <td>no</td>\n",
       "    </tr>\n",
       "    <tr>\n",
       "      <th>d</th>\n",
       "      <td>dog</td>\n",
       "      <td>NaN</td>\n",
       "      <td>3</td>\n",
       "      <td>yes</td>\n",
       "    </tr>\n",
       "    <tr>\n",
       "      <th>e</th>\n",
       "      <td>dog</td>\n",
       "      <td>5.0</td>\n",
       "      <td>2</td>\n",
       "      <td>no</td>\n",
       "    </tr>\n",
       "    <tr>\n",
       "      <th>f</th>\n",
       "      <td>cat</td>\n",
       "      <td>2.0</td>\n",
       "      <td>3</td>\n",
       "      <td>no</td>\n",
       "    </tr>\n",
       "    <tr>\n",
       "      <th>g</th>\n",
       "      <td>python</td>\n",
       "      <td>4.5</td>\n",
       "      <td>1</td>\n",
       "      <td>no</td>\n",
       "    </tr>\n",
       "    <tr>\n",
       "      <th>h</th>\n",
       "      <td>cat</td>\n",
       "      <td>NaN</td>\n",
       "      <td>1</td>\n",
       "      <td>yes</td>\n",
       "    </tr>\n",
       "    <tr>\n",
       "      <th>i</th>\n",
       "      <td>dog</td>\n",
       "      <td>7.0</td>\n",
       "      <td>2</td>\n",
       "      <td>no</td>\n",
       "    </tr>\n",
       "    <tr>\n",
       "      <th>j</th>\n",
       "      <td>dog</td>\n",
       "      <td>3.0</td>\n",
       "      <td>1</td>\n",
       "      <td>no</td>\n",
       "    </tr>\n",
       "  </tbody>\n",
       "</table>\n",
       "</div>"
      ],
      "text/plain": [
       "   animal  age  visits priority\n",
       "a     cat  2.5       1      yes\n",
       "b     cat  3.0       3      yes\n",
       "c  python  0.5       2       no\n",
       "d     dog  NaN       3      yes\n",
       "e     dog  5.0       2       no\n",
       "f     cat  2.0       3       no\n",
       "g  python  4.5       1       no\n",
       "h     cat  NaN       1      yes\n",
       "i     dog  7.0       2       no\n",
       "j     dog  3.0       1       no"
      ]
     },
     "execution_count": 50,
     "metadata": {},
     "output_type": "execute_result"
    }
   ],
   "source": [
    "df['animal'].replace('snake', 'python', inplace = True)\n",
    "df"
   ]
  }
 ],
 "metadata": {
  "kernelspec": {
   "display_name": "Python 3",
   "language": "python",
   "name": "python3"
  },
  "language_info": {
   "codemirror_mode": {
    "name": "ipython",
    "version": 3
   },
   "file_extension": ".py",
   "mimetype": "text/x-python",
   "name": "python",
   "nbconvert_exporter": "python",
   "pygments_lexer": "ipython3",
   "version": "3.8.3"
  },
  "toc": {
   "base_numbering": 1,
   "nav_menu": {},
   "number_sections": true,
   "sideBar": true,
   "skip_h1_title": false,
   "title_cell": "Table of Contents",
   "title_sidebar": "Contents",
   "toc_cell": false,
   "toc_position": {
    "height": "397.323px",
    "left": "289.99px",
    "top": "95px",
    "width": "242px"
   },
   "toc_section_display": true,
   "toc_window_display": true
  },
  "varInspector": {
   "cols": {
    "lenName": 16,
    "lenType": 16,
    "lenVar": 40
   },
   "kernels_config": {
    "python": {
     "delete_cmd_postfix": "",
     "delete_cmd_prefix": "del ",
     "library": "var_list.py",
     "varRefreshCmd": "print(var_dic_list())"
    },
    "r": {
     "delete_cmd_postfix": ") ",
     "delete_cmd_prefix": "rm(",
     "library": "var_list.r",
     "varRefreshCmd": "cat(var_dic_list()) "
    }
   },
   "types_to_exclude": [
    "module",
    "function",
    "builtin_function_or_method",
    "instance",
    "_Feature"
   ],
   "window_display": false
  }
 },
 "nbformat": 4,
 "nbformat_minor": 4
}
