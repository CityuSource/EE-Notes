{
 "cells": [
  {
   "cell_type": "markdown",
   "id": "c6e99578",
   "metadata": {},
   "source": [
    "# Tutorial 7: Pandas with real world data"
   ]
  },
  {
   "cell_type": "markdown",
   "id": "d7af7ee4",
   "metadata": {},
   "source": [
    "### Diamond dataset\n",
    "Diamond dataset contains the prices and other attributes of almost 54,000 diamonds.\n",
    "\n",
    "Data source can be found at https://github.com/mwaskom/seaborn-data or you can also download the data at https://raw.githubusercontent.com/mwaskom/seaborn-data/master/diamonds.csv. \n",
    "\n",
    "\n",
    "\n",
    "1 Find the data type of each column and summarize only 'object' columns of the diamonds Dataframe.\n",
    "\n",
    "2 Sort the 'price' Series in descending order of diamonds Dataframe.\n",
    "\n",
    "3 Sort the entire diamonds DataFrame by the 'carat' Series in descending order.\n",
    "\n",
    "4  Filter the DataFrame rows to only show carat weight at least 0.3.\n",
    "\n",
    "5 Create a histogram of the 'carat' Series (distribution of a numerical variable) of diamonds DataFrame.\n",
    "\n",
    "Hint 1: dtypes\n",
    "\n",
    "Hint 2: describe()\n",
    "\n",
    "Hint 3: sort_values()\n",
    "\n",
    "Hint 4: query()\n",
    "\n",
    "Hint 5: plot(kind='hist')"
   ]
  },
  {
   "cell_type": "code",
   "execution_count": null,
   "id": "38acc512",
   "metadata": {},
   "outputs": [],
   "source": [
    "import pandas as pd\n",
    "#read the dataset\n",
    "diamonds = pd.read_csv('https://raw.githubusercontent.com/mwaskom/seaborn-data/master/diamonds.csv')\n",
    "diamonds.head()"
   ]
  },
  {
   "cell_type": "code",
   "execution_count": null,
   "id": "f24186e8",
   "metadata": {},
   "outputs": [],
   "source": [
    "# 1 Find the data type of each column and summarize only 'object' columns of the diamonds Dataframe.\n"
   ]
  },
  {
   "cell_type": "code",
   "execution_count": null,
   "id": "71324760",
   "metadata": {},
   "outputs": [],
   "source": [
    "# 1 Find the data type of each column and summarize only 'object' columns of the diamonds Dataframe.\n"
   ]
  },
  {
   "cell_type": "code",
   "execution_count": null,
   "id": "d5d76c0e",
   "metadata": {},
   "outputs": [],
   "source": [
    "# 2 Sort the 'price' Series in descending order of diamonds Dataframe.\n"
   ]
  },
  {
   "cell_type": "code",
   "execution_count": null,
   "id": "8f45b0ca",
   "metadata": {},
   "outputs": [],
   "source": [
    "# 3 Sort the entire diamonds DataFrame by the 'carat' Series in descending order.\n"
   ]
  },
  {
   "cell_type": "code",
   "execution_count": null,
   "id": "36b601e1",
   "metadata": {},
   "outputs": [],
   "source": [
    "# 4  Filter the DataFrame rows to only show carat weight at least 0.3.\n"
   ]
  },
  {
   "cell_type": "code",
   "execution_count": null,
   "id": "c5ddf175",
   "metadata": {},
   "outputs": [],
   "source": [
    "# 5 Create a histogram of the 'carat' Series (distribution of a numerical variable) of diamonds DataFrame.\n"
   ]
  }
 ],
 "metadata": {
  "kernelspec": {
   "display_name": "Python 3 (ipykernel)",
   "language": "python",
   "name": "python3"
  },
  "language_info": {
   "codemirror_mode": {
    "name": "ipython",
    "version": 3
   },
   "file_extension": ".py",
   "mimetype": "text/x-python",
   "name": "python",
   "nbconvert_exporter": "python",
   "pygments_lexer": "ipython3",
   "version": "3.9.7"
  }
 },
 "nbformat": 4,
 "nbformat_minor": 5
}
