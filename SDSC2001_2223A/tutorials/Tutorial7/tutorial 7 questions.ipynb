{
 "cells": [
  {
   "cell_type": "markdown",
   "id": "c6e99578",
   "metadata": {},
   "source": [
    "# Tutorial 7: Pandas with real world data\n",
    "TA: ZHANG Wei\n",
    "\n",
    "E-mail: wzhang472-c@my.cityu.edu.hk\n",
    "\n",
    "### Introduction\n",
    "This tutorial will show you pandas operations using the real world dataset.\n"
   ]
  },
  {
   "cell_type": "markdown",
   "id": "d4f5ddf4",
   "metadata": {},
   "source": [
    "### Example 1: the US States Dataset\n",
    "1.The US States Dataset (\"state-abbrevs.csv\", \"state-areas.csv\" and \"state-population.csv\") can be downloaded at https://github.com/jakevdp/data-USstates/, please download these csv files and put them in the same directory as this tutorial jupyter file before runing the next cell.\n",
    "\n",
    "\n",
    "\"state-abbrevs.csv\" contains the relationship between the names of states and their abbrevations (examples are shown below).\n",
    "\n",
    "|       | state    | abbreviation  | \n",
    "|----------|-----------|---------------|\n",
    "|0      |Alabama    |AL     | \n",
    "|1      |Alaska     |AK    | \n",
    "|2      |Arizona    |AZ    | \n",
    "|3      |Arkansas   |AR    |\n",
    "|4      |California  |CA  |\n",
    "\n",
    "\"state-areas.csv\" contains the information about the area of each state, with states' names as indicators (examples are shown below).\n",
    "\n",
    "|       | state/region| ages  | year\t|population| \n",
    "|----------|-------------|-------|------|----------| \n",
    "|0      |AL       |under18   |2012 |1117489.0|\n",
    "|1      |AL       |total     |2012|4817528.0|\n",
    "|2      |AL       |under18   |2010|1130966.0|\n",
    "|3      |AL       |total     |2010|4785570.0|\n",
    "|4      |AL       |under18    |2011|1125763.0|\n",
    "\n",
    "\"state-population.csv\" contains the information about the population of each state, with states' abbreviation names as indicators. Also, for each state in each year, it records the population for people under18 and in total respectively (examples are shown below).\n",
    "\n",
    "|       | state    | area (sq. mi)  | \n",
    "|----------|-----------|---------------|\n",
    "|0      |Alabama    |52423     | \n",
    "|1      |Alaska     |656425    | \n",
    "|2      |Arizona    |114006    | \n",
    "|3      |Arkansas   |53182   |\n",
    "|4      |California  |163707  |\n"
   ]
  },
  {
   "cell_type": "code",
   "execution_count": null,
   "id": "06d66aba",
   "metadata": {},
   "outputs": [],
   "source": [
    "# import the pandas package first \n",
    "import pandas as pd"
   ]
  },
  {
   "cell_type": "markdown",
   "id": "ec5d2df3",
   "metadata": {},
   "source": [
    "### Question 1\n",
    "\n",
    "1.1 read the \"state-abbrevs.csv\", \"state-areas.csv\" and \"state-population.csv\" respectively\n",
    "\n",
    "1.2 print the first 5 rows of the three csv respectively using at least two different ways\n",
    "\n",
    "1.3 query the information about the 2010 population in total for each state from the dataframe you built, and print the first 5 rows.\n",
    "\n",
    "Hint: query()"
   ]
  },
  {
   "cell_type": "code",
   "execution_count": null,
   "id": "d6f64397",
   "metadata": {},
   "outputs": [],
   "source": [
    "# 1.1 read the csv\n"
   ]
  },
  {
   "cell_type": "code",
   "execution_count": null,
   "id": "0243964a",
   "metadata": {},
   "outputs": [],
   "source": [
    "# 1.2 first 5 rows of state-abbrevs.csv\n"
   ]
  },
  {
   "cell_type": "code",
   "execution_count": null,
   "id": "1ddef96b",
   "metadata": {},
   "outputs": [],
   "source": [
    "# 1.2 first 5 rows of state-population.csv\n"
   ]
  },
  {
   "cell_type": "code",
   "execution_count": null,
   "id": "f836f73b",
   "metadata": {},
   "outputs": [],
   "source": [
    "# 1.2 first 5 rows of state-areas.csv\n"
   ]
  },
  {
   "cell_type": "code",
   "execution_count": null,
   "id": "a717fc15",
   "metadata": {},
   "outputs": [],
   "source": [
    "# 1.3 query the information about the 2010 population in total for each state from the dataframe you built, and print the first 5 rows.\n"
   ]
  },
  {
   "cell_type": "markdown",
   "id": "490d1bbe",
   "metadata": {},
   "source": [
    "### Question 2\n",
    "\n",
    "Compute the 2010 population density of each state and print the top 5 states in descending order.\n",
    "\n",
    "Hint 1: population density = population/area\n",
    "\n",
    "Hint 2: information of population and area are in different dataframe, you may need to merge the population and area dataframes\n",
    "\n",
    "Hint 3: population and area dataframe have different keys, you may need to find the mapping bewteen population and area dataframe by abbreviation\n",
    "\n",
    "Hint 4: merge()\n",
    "\n",
    "Hint 5: sort_values()"
   ]
  },
  {
   "cell_type": "code",
   "execution_count": null,
   "id": "2286d4f7",
   "metadata": {},
   "outputs": [],
   "source": [
    "# step 1: select the information of 2010 population\n"
   ]
  },
  {
   "cell_type": "code",
   "execution_count": null,
   "id": "1828ca85",
   "metadata": {},
   "outputs": [],
   "source": [
    "# step 2: merge area and the abbreviation\n"
   ]
  },
  {
   "cell_type": "code",
   "execution_count": null,
   "id": "191b1a39",
   "metadata": {},
   "outputs": [],
   "source": [
    "# step 3: check the index in area and population to decide the merge key\n"
   ]
  },
  {
   "cell_type": "code",
   "execution_count": null,
   "id": "7d3c8e00",
   "metadata": {},
   "outputs": [],
   "source": [
    "# step 4: merge area and population by the key\n"
   ]
  },
  {
   "cell_type": "code",
   "execution_count": null,
   "id": "20b25244",
   "metadata": {},
   "outputs": [],
   "source": [
    "# step 5: check the key in the merged dataframe\n"
   ]
  },
  {
   "cell_type": "code",
   "execution_count": null,
   "id": "de451a81",
   "metadata": {},
   "outputs": [],
   "source": [
    "# step 6: compute the population density by the population and area, and add a new column 'density'\n"
   ]
  },
  {
   "cell_type": "code",
   "execution_count": null,
   "id": "0f1bf831",
   "metadata": {},
   "outputs": [],
   "source": [
    "# step 7: sort the density and print the top 5 states\n"
   ]
  },
  {
   "cell_type": "markdown",
   "id": "016b6bbc",
   "metadata": {},
   "source": [
    "### Example 2: Planets dataset\n",
    "\n",
    "Planets dataset contains the information about the planets beyond our solar system(from 1989-2014), it is released by NASA.\n",
    "\n",
    "Data source can be found at https://github.com/mwaskom/seaborn-data\n",
    "\n",
    "This dataset can be directly loaded by the python package seaborn. Before running the next cells, please make sure that your computer have installed the seaborn package(you can use command \"pip install seaborn\" to install seaborn in your terminal)."
   ]
  },
  {
   "cell_type": "code",
   "execution_count": null,
   "id": "731e6801",
   "metadata": {},
   "outputs": [],
   "source": [
    "# loading the planets dataset and print\n",
    "import seaborn as sns\n",
    "planets = sns.load_dataset('planets')\n",
    "planets.head()\n",
    "# method: detection method\n",
    "# orbital_period: days\n",
    "# mass: equal to how many Earths\n",
    "# distance: light-years from earth\n",
    "# year: discovery date"
   ]
  },
  {
   "cell_type": "markdown",
   "id": "8daeb0e2",
   "metadata": {},
   "source": [
    "### Question 3\n",
    "\n",
    "3.1 Count discovered planets by \"method\"\n",
    "\n",
    "3.2 Add a new colunm \"decade\", eg. turn 2001,2002,…2009 into 2000\n",
    "\n",
    "3.3 Change the int type to string type in colunm \"decade\", eg. \"2000\"->\"2000s\"\n",
    "\n",
    "3.4 Count discovered planets by \"decade\"\n",
    "\n",
    "3.5 Group the dataframe by 'method' and 'year' and turn it into a 2-dim table.\n",
    "\n",
    "3.6 Replace the NaN in question 3.5 into 0\n",
    "\n",
    "Hint 1: groupby()\n",
    "\n",
    "Hint 2: count()\n",
    "\n",
    "Hint 3: turn 2001,2002,…2009 into 2000 by /10 and *10\n",
    "\n",
    "Hint 4: lamda operation\n",
    "\n",
    "Hint 5: unstack()\n",
    "\n",
    "Hint 6: fillna(0)\n"
   ]
  },
  {
   "cell_type": "code",
   "execution_count": null,
   "id": "2e9af0de",
   "metadata": {},
   "outputs": [],
   "source": [
    "# 3.1 count the number by method\n"
   ]
  },
  {
   "cell_type": "code",
   "execution_count": null,
   "id": "b848befe",
   "metadata": {},
   "outputs": [],
   "source": [
    "#3.1 Count discovered planets by \"method\"\n"
   ]
  },
  {
   "cell_type": "code",
   "execution_count": null,
   "id": "f56f3cd3",
   "metadata": {},
   "outputs": [],
   "source": [
    "# 3.1 Count discovered planets by \"method\"\n"
   ]
  },
  {
   "cell_type": "code",
   "execution_count": null,
   "id": "4a6fd14a",
   "metadata": {},
   "outputs": [],
   "source": [
    "# 3.2 add a new column \"decade\"\n"
   ]
  },
  {
   "cell_type": "code",
   "execution_count": null,
   "id": "5cbd3300",
   "metadata": {},
   "outputs": [],
   "source": [
    "# 3.3 Change the int type to string type in colunm \"decade\", eg. \"2000\"->\"2000s\"\n"
   ]
  },
  {
   "cell_type": "code",
   "execution_count": null,
   "id": "21336f0a",
   "metadata": {},
   "outputs": [],
   "source": [
    "# 3.4 Count discovered planets by \"decade\"\n"
   ]
  },
  {
   "cell_type": "code",
   "execution_count": null,
   "id": "6df8b6a8",
   "metadata": {},
   "outputs": [],
   "source": [
    "# 3.5 Group the dataframe by 'method' and 'year' and turn it into a 2-dim table.\n"
   ]
  },
  {
   "cell_type": "code",
   "execution_count": null,
   "id": "44d6ac11",
   "metadata": {},
   "outputs": [],
   "source": [
    "# 3.6 Replace the NaN in question 3.5 into 0\n"
   ]
  },
  {
   "cell_type": "markdown",
   "id": "07a1964c",
   "metadata": {},
   "source": [
    "### Example 3: Birthrate dataset\n",
    "\n",
    "Birthrate dataset is drawn from the USA Centers for Disease Control and Prevention. It contains the number of births of male and female from 1969 to 2008.\n",
    "\n",
    "Data source: https://github.com/jakevdp/data-CDCbirths/\n",
    "\n",
    "### Question 4\n",
    "\n",
    "4.1 Add a new colunm \"decade\", eg. turn 2001,2002,…2009 into 2000, and then change the int type to string type in colunm \"decade\", eg. \"2000\"->\"2000s\".\n",
    "\n",
    "4.2 Count number of births by \"gender\" and \"decade\".\n",
    "\n",
    "4.3 Group the dataframe by \"gender\" and \"decade\" and turn it into a 2-dim table.\n",
    "\n",
    "4.4 Plot the 2-dim table in question 4.3\n",
    "\n",
    "Hint 1: \".T.plot()\".\n",
    "\n",
    "4.5 Compute the day of week according to the year-month-day data, and add a new colunm \"dayofweek\".\n",
    "\n",
    "Hint 2: \".dt.dayofweek\" or \"lambda x: x.dayofweek\" \n",
    "\n",
    "4.6 Group the dataframe by \"dayofweek\" and \"decade\" and turn it into a 2-dim table.\n",
    "\n",
    "4.7 Plot the 2-dim table in question 4.3\n",
    "\n",
    "Hint 3:  \".plot()\"."
   ]
  },
  {
   "cell_type": "code",
   "execution_count": null,
   "id": "96f5bcf6",
   "metadata": {},
   "outputs": [],
   "source": [
    "# read the births dataset from the Internet and print\n",
    "births = pd.read_csv('https://raw.githubusercontent.com/jakevdp/data-CDCbirths/master/births.csv')\n",
    "births.head()"
   ]
  },
  {
   "cell_type": "code",
   "execution_count": null,
   "id": "68d5c486",
   "metadata": {},
   "outputs": [],
   "source": [
    "# 4.1 Add a new colunm \"decade\", eg. turn 2001,2002,…2009 into 2000\n",
    "# 4.1 and then change the int type to string type in colunm \"decade\", eg. \"2000\"->\"2000s\".\n"
   ]
  },
  {
   "cell_type": "code",
   "execution_count": null,
   "id": "5838633f",
   "metadata": {},
   "outputs": [],
   "source": [
    "# 4.2 Count number of births by \"gender\" and \"decade\".\n"
   ]
  },
  {
   "cell_type": "code",
   "execution_count": null,
   "id": "d8855542",
   "metadata": {},
   "outputs": [],
   "source": [
    "# 4.3 Group the dataframe by \"gender\" and \"decade\" and turn it into a 2-dim table.\n"
   ]
  },
  {
   "cell_type": "code",
   "execution_count": null,
   "id": "9a854bc8",
   "metadata": {},
   "outputs": [],
   "source": [
    "# 4.4 Plot the 2-dim table in question 4.3\n"
   ]
  },
  {
   "cell_type": "code",
   "execution_count": null,
   "id": "a639fc2c",
   "metadata": {},
   "outputs": [],
   "source": [
    "# 4.5  Compute the day of week according to the year-month-day data, and add a new colunm \"dayofweek\".\n",
    "import numpy as np\n",
    "# remove outliers via robust sigma-clipping，e.g. mis-reported data like June 31st, etc.\n",
    "# reference: https://github.com/jakevdp/data-CDCbirths\n",
    "quartiles = np.percentile(births['births'], [25, 50, 75])\n",
    "mu = quartiles[1]\n",
    "sig = 0.74 * (quartiles[2] - quartiles[0])\n",
    "births = births.query('(births > @mu - 5 * @sig) & (births < @mu + 5 * @sig)')\n",
    "\n"
   ]
  },
  {
   "cell_type": "code",
   "execution_count": null,
   "id": "02379df5",
   "metadata": {},
   "outputs": [],
   "source": [
    "# 4.5 Compute the day of week according to the year-month-day data, and add a new colunm \"dayofweek\".\n"
   ]
  },
  {
   "cell_type": "code",
   "execution_count": null,
   "id": "dc9a524b",
   "metadata": {},
   "outputs": [],
   "source": [
    "# 4.6 Group the dataframe by \"dayofweek\" and \"decade\" and turn it into a 2-dim table.\n"
   ]
  },
  {
   "cell_type": "code",
   "execution_count": null,
   "id": "fd7a0488",
   "metadata": {},
   "outputs": [],
   "source": [
    "# 4.7 Plot the 2-dim table in question 4.3\n"
   ]
  },
  {
   "cell_type": "markdown",
   "id": "d1cc0bff",
   "metadata": {},
   "source": [
    "# Additional exercises"
   ]
  },
  {
   "cell_type": "markdown",
   "id": "12f16a45",
   "metadata": {},
   "source": [
    "### Example 4: UFO dataset\n",
    "\n",
    "This dataset contains over 80,000 records of UFO sightings dating back as far as 1949.\n",
    "\n",
    "Content\n",
    "\n",
    "- Date_time - standardized date and time of sighting\n",
    "\n",
    "- city - location of UFO sighting\n",
    "\n",
    "- state/province - the US state or Canadian province, appears blank for other locations\n",
    "\n",
    "- country - Country of UFO sighting\n",
    "\n",
    "- UFO_shape - a one word description of the \"spacecraft\"\n",
    "\n",
    "- lengthofencounter_seconds - standardized to seconds, length of the observation of the UFO\n",
    "\n",
    "- described_duration _of_encounter - raw description of the length of the encounter (shows uncertainty to previous column)\n",
    "\n",
    "- description - text description of the UFO encounter. Warning column is messy, with some curation it could lend itself to some natural language processing and sentiment analysis.\n",
    "\n",
    "- date_documented - when was the UFO sighting reported\n",
    "\n",
    "- latitude - latitude\n",
    "\n",
    "- longitude - longitude\n",
    "\n",
    "Data source can be found at https://www.kaggle.com/camnugent/ufo-sightings-around-the-world. You need to download the \"ufo_sighting_data.csv\" in the directory of this jupyter file before running the next cell.\n",
    "\n",
    "### Question 5 \n",
    "\n",
    "5.1 Print the data types of each column.\n",
    "\n",
    "5.2 Convert \"date_documented\" and \"Date_time\" columns into datetime type.\n",
    "\n",
    "5.3 Fix the \"ParserError: hour must be in 0..23: 10/11/2006 24:00\" error in 6.2 when convert \"Date_time\" column into datetime type.\n",
    "\n",
    "Hint 1: Find the index of the rows where 'Date_time' have '24:00' and drop them then convert the column into datetime type.\n",
    "\n",
    "5.4 get the difference (in days) between 'Date_time' and 'date_documented'e of UFO and add a new colunm \"Difference\"\n",
    "\n",
    "5.5 Use the 'Date_time' column as dates to add a new column named 'year'.\n",
    "\n",
    "5.6 Create a plot to present the number of UFO reports per year (use'Date_time' and 'year').\n",
    "\n",
    "\n",
    "Hint 1: dtypes\n",
    "\n",
    "Hint 2: astype('datetime64[ns]')\n",
    "\n",
    "Hint 3: dt.days\n",
    "\n",
    "Hint 4: dt.year\n",
    "\n",
    "Hint 5: plot()"
   ]
  },
  {
   "cell_type": "code",
   "execution_count": null,
   "id": "b6060278",
   "metadata": {},
   "outputs": [],
   "source": [
    "# read and print the ufo dataset\n",
    "import pandas as pd\n",
    "ufo=pd.read_csv('ufo_sighting_data.csv')\n",
    "ufo.head(1)"
   ]
  },
  {
   "cell_type": "code",
   "execution_count": null,
   "id": "d814d908",
   "metadata": {},
   "outputs": [],
   "source": [
    "# 5.1 Print the data types of each column\n"
   ]
  },
  {
   "cell_type": "code",
   "execution_count": null,
   "id": "676c2510",
   "metadata": {},
   "outputs": [],
   "source": [
    "# 5.2 Convert \"date_documented\" column into datetime type.\n"
   ]
  },
  {
   "cell_type": "code",
   "execution_count": null,
   "id": "03be1081",
   "metadata": {},
   "outputs": [],
   "source": [
    "# 5.2 Convert \"Date_time\" column into datetime type.\n"
   ]
  },
  {
   "cell_type": "code",
   "execution_count": null,
   "id": "008c5dcf",
   "metadata": {},
   "outputs": [],
   "source": [
    "# 5.3 fix the \"ParserError: hour must be in 0..23: 10/11/2006 24:00\" error in 6.2 when convert \"Date_time\" column into datetime type.\n"
   ]
  },
  {
   "cell_type": "code",
   "execution_count": null,
   "id": "3daedeaf",
   "metadata": {},
   "outputs": [],
   "source": [
    "# 5.4 get the difference (in days) between 'Date_time' and 'date_documented'e of UFO and add a new colunm \"Difference\"\n"
   ]
  },
  {
   "cell_type": "code",
   "execution_count": null,
   "id": "3048eacd",
   "metadata": {},
   "outputs": [],
   "source": [
    "# 5.5 Use the 'Date_time' column as dates to add a new column named 'year'.\n"
   ]
  },
  {
   "cell_type": "code",
   "execution_count": 1,
   "id": "2003e560",
   "metadata": {},
   "outputs": [],
   "source": [
    "# 5.6 Create a plot to present the number of UFO reports per year (use'Date_time' and 'year').\n"
   ]
  },
  {
   "cell_type": "code",
   "execution_count": null,
   "id": "cf29ce42",
   "metadata": {},
   "outputs": [],
   "source": []
  },
  {
   "cell_type": "code",
   "execution_count": null,
   "id": "55c7babb",
   "metadata": {},
   "outputs": [],
   "source": []
  }
 ],
 "metadata": {
  "kernelspec": {
   "display_name": "Python 3 (ipykernel)",
   "language": "python",
   "name": "python3"
  },
  "language_info": {
   "codemirror_mode": {
    "name": "ipython",
    "version": 3
   },
   "file_extension": ".py",
   "mimetype": "text/x-python",
   "name": "python",
   "nbconvert_exporter": "python",
   "pygments_lexer": "ipython3",
   "version": "3.9.7"
  }
 },
 "nbformat": 4,
 "nbformat_minor": 5
}
