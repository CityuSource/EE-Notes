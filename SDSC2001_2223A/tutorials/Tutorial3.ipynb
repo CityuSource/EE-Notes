{
 "cells": [
  {
   "cell_type": "markdown",
   "metadata": {},
   "source": [
    "# Introduction"
   ]
  },
  {
   "cell_type": "raw",
   "metadata": {},
   "source": [
    "TA: Cheng Cao\n",
    "Email:chengcao3-c@my.cityu.edu.hk\n",
    "\n",
    "There are five exercises in total, which are designed based on Lecture 3. In each exercise, there are two parts, namely, Part I and Part II. I will mainly walk you through Part I of each exercise during the tutorial session on Friday (Sep. 16th, from 11:00 am to 11:50 am). Part II may be a bit more challenging than Part I for the beginners. So, Part II is mainly targeted on those who want to explore more. During the tutorial, you will be first given a few minutes, e.g., 3 min, to read and think of the questions. Then, I will explain each line of code in detail. After the tutorial, I still recommend you try Part II on your own, discuss with your classmates, or use google to search for the relevant solutions. Yet, if you do not want to work on Part II. It is perfectly fine. Finally, if you have any questions, feel free to contact me via email or approach me during the TA office hours."
   ]
  },
  {
   "cell_type": "markdown",
   "metadata": {},
   "source": [
    "# Types and Sequences_List"
   ]
  },
  {
   "cell_type": "markdown",
   "metadata": {},
   "source": [
    "## Exercise 1"
   ]
  },
  {
   "cell_type": "raw",
   "metadata": {},
   "source": [
    "Exercise 1: \n",
    "Part I: # ------------------------------------------------------------------#\n",
    "    Given a list as \n",
    "        list_A = [1, 1.0, 'A','_',('^_^', 'X_X'), ['A_X'], 'x', {'id':123}, {'11','haha'}] \n",
    "    1) concatenate list_A with itself to create list_B;\n",
    "    2) repeat list_B two times to obtain list_C; and\n",
    "    print the lengths of list_A, list_B, and list_C \n",
    "    \n",
    "    Based on list_C, write a loop to achieve the followings:\n",
    "    # you may use: if type(object) is 'type', or if isinstance(object, type)\n",
    "        3) store each element of str type to a new list named list_D; \n",
    "        4) replace each element 'A' with 'a', and each 'x' with 'X' in list_C. (Do not do the replacements for the tuple or list elements)\n",
    "\n",
    "    Finally, print list_D and list_C to check the results\n",
    "    \n",
    "Part II: # ------------------------------------------------------------------#    \n",
    "    Additional questions/tasks for those who want to learn more: \n",
    "        5) Unpack only the first element of each tuple in list_C and print it at each iteration;\n",
    "        6) Can we use list to store functions and instances of class ? \n",
    "        7) What are the differences between type() and isinstance()?\n",
    "        8) Play with other methods of list such as extend, copy, insert, remove, pop, index, etc. \n",
    "        9) How to copy a list or a dictionary ( differences among =, copy(), deepcopy() ) ? "
   ]
  },
  {
   "cell_type": "markdown",
   "metadata": {},
   "source": [
    "# Types and Sequences_String"
   ]
  },
  {
   "cell_type": "markdown",
   "metadata": {},
   "source": [
    "## Exercise 2"
   ]
  },
  {
   "cell_type": "raw",
   "metadata": {},
   "source": [
    "Exercise 2\n",
    "Part I: # ------------------------------------------------------------------#\n",
    "    Given: \n",
    "        str_A = 'This is a string'   \n",
    "        str_B = ' worth HKD100. '\n",
    " \n",
    "    1) Create str_C by concatenating str_A and str_B and then repeating the concatenated string 3 times. Print the result.\n",
    "    \n",
    "    2) Based on str_C, create str_D by replacing all occurrences of 'string' with 'python tutorial', and replacing the second occurrence of 'HKD' with '$'.\n",
    "   \n",
    "Part II: # ------------------------------------------------------------------# \n",
    "Additional questions/tasks for those who want to learn more: \n",
    "     3) Based on str_D, create str_E by swapping the first sentence and the second sentence, and ending the first two sentences with semicolons instead of periods. Print the result. \n",
    "     4) how to remove any leading (spaces at the beginning) and trailing (spaces at the end) characters in a string?\n",
    "     5) how to remove all whitespace/ or certain characters in the string?\n",
    "     6) how to convert string into lower/upper case\n",
    "     7) how to use replace, translate, re.sub, re.subn?\n",
    "     8) check other methods related to string and have fun :-)"
   ]
  },
  {
   "cell_type": "markdown",
   "metadata": {},
   "source": [
    "# Types and Sequences_Dictionary"
   ]
  },
  {
   "cell_type": "markdown",
   "metadata": {},
   "source": [
    "## Exercise 3"
   ]
  },
  {
   "cell_type": "raw",
   "metadata": {},
   "source": [
    "Exercise 3:\n",
    "Part I: # ------------------------------------------------------------------#\n",
    "    1) Create a dictionary named dict_types containing at least the following types of values: \n",
    "        NoneType, int, float, bool, complex, tuple, set, str, list, dict\n",
    "    print the keys and the types of the values in the dictionary to check the result. \n",
    "        \n",
    "    2) Create a dictionary named dict_numeric having only the built-in numeric types of values from dict_types. Iterate over all values of dict_numeric to print the result. \n",
    "    \n",
    "Part II: # ------------------------------------------------------------------#  \n",
    "Additional questions/ tasks for those who want to learn more:\n",
    "    3) Create a dictionary named dict_sequence having only the built-in sequence types of values from dict_types. Print a list of the keys in dict_sequence. Create a list of tuples, where for each tuple, the first value is, in turn, the value from dict_sequence, and the second is the string specifying the types of the first value. \n",
    "    4) How to copy a list or a dictionary ( differences among =, copy(), deepcopy() ) ? \n",
    "    5) Check out the python built-in types at https://docs.python.org/3/library/stdtypes.html\n",
    "    6) Check out other methods related to dictionary and have fun!\n"
   ]
  },
  {
   "cell_type": "markdown",
   "metadata": {},
   "source": [
    "# Classes and Functions_Classes"
   ]
  },
  {
   "cell_type": "markdown",
   "metadata": {},
   "source": [
    "## Exercise 4"
   ]
  },
  {
   "cell_type": "raw",
   "metadata": {},
   "source": [
    "Exercise 4:\n",
    "Part I: # ------------------------------------------------------------------#\n",
    "Define a class named CityU_Student that has the followings:  \n",
    "    Instance variables:\n",
    "        name      # student name\n",
    "        ad_date   # admission date, i.e., the instantiation date of the class if not specified. \n",
    "        stID      # student ID (unique) formated \n",
    "                  # e.g. 202109010000 for the first student with the admission date 2021-09-01\n",
    "    Methods:\n",
    "        __init__()    # initialize the class and set default ad_date, name, and ID\n",
    "        set_days()    # set the admission date\n",
    "        set_info()    # set the student's name and ID \n",
    "        get_days()    # get the days between today and the admission date \n",
    "                      # (refer to 'days of stay')\n",
    "                      \n",
    "    The class can \n",
    "        set up student info., namely, set name, ad_date, and stID; and\n",
    "        calculate the days between today and the admission date. \n",
    "        \n",
    "1) Instantiate the class for Wei, Collin, and Cheng and store them in a dictionary. Iterate over the dictionary and print the name and the corresponding IDs. \n",
    "\n",
    "2) How many days have Wei, Collin, and Cheng stayed at CityU since admission date, i.e.,\n",
    "2021-12-01,2022-06-01, 2023-09-01, respectively? \n",
    "(days of stay = today - admission date )\n",
    "\n",
    "Part II: # ------------------------------------------------------------------#\n",
    "Additional questions/ tasks for those who want to learn more:\n",
    "3) What are the roles of different usages of underscore in python? \n",
    "4) Inherit CityU_Student to define classes for undergraduate, master, Ph.D. students and create new attribute i.e., email_address, for them, where different kinds of students have different email domains, e.g., @us.cityu.edu.hk, @ms.cityu.edu.hk, and @ps.cityu.edu.hk. \n",
    "5) override get_days() so that it can raise a warning if the results exceed 1 year, 2 years, and 4 years, respectively for undergraduate, master, and Ph.D. students. \n"
   ]
  },
  {
   "cell_type": "markdown",
   "metadata": {},
   "source": [
    "# Classes and Functions_Functions"
   ]
  },
  {
   "cell_type": "markdown",
   "metadata": {},
   "source": [
    "## Exercise 5"
   ]
  },
  {
   "cell_type": "raw",
   "metadata": {},
   "source": [
    "Exercise 5: \n",
    "Part I: # ------------------------------------------------------------------#\n",
    "    Given a dictionary with sub-dictionaries containing students' information as follows : \n",
    "        sdt_dict={0:{'name':'Wei','ID':'000','days': '377' },  # 'days' means 'days of stay'\n",
    "                  1:{'name':'Collin','ID':'001','days': '286' }, \n",
    "                  2:{'name':'Cheng','ID':'002','days': '742'}\n",
    "                  # we call the values of sdt_dict as sub-dictionaries for simplicty. \n",
    "    define a function named analysis, which uses sdt_dict as an input and can realize the followings.\n",
    "    1) By default, it returns the sub-dictionary with the largest value of 'days'. \n",
    "    2) Given the input 'min', it returns sub-dictionary with the smallest value of 'days'. \n",
    "    3) Given a number (int type), it returns all the sub-dictionaries with values of 'days' exceeding the given number.\n",
    "    4) Given the admission date tuple, e.g., (2021, 9, 12), it returns a list of strings containing the calculated departure dates of the students.  (days of stay = date of depature - admission date )\n",
    "    \n",
    "Part II: # ------------------------------------------------------------------#   \n",
    "Additional questions/ tasks for those who want to learn more:\n",
    "5) When given a list of admission date tuples,e.g., [(2021, 12, 1), (2022, 6, 1), (2023, 9, 1)], it returns a list of tuples containing values of 'name', 'ID', and the calculated departure dates of the students \n",
    "6) what are positional arguments, optional arguments, keyword arguments, and required arguments?\n",
    "7) Try the python library,i.e., functools, and play some of the tools such as the partial function. \n",
    "8) Try some other python built-in functions such as eval(), iter(), input(), etc. \n"
   ]
  }
 ],
 "metadata": {
  "kernelspec": {
   "display_name": "Python 3.10.4 ('2001')",
   "language": "python",
   "name": "python3"
  },
  "language_info": {
   "codemirror_mode": {
    "name": "ipython",
    "version": 3
   },
   "file_extension": ".py",
   "mimetype": "text/x-python",
   "name": "python",
   "nbconvert_exporter": "python",
   "pygments_lexer": "ipython3",
   "version": "3.10.4"
  },
  "toc": {
   "base_numbering": 1,
   "nav_menu": {},
   "number_sections": true,
   "sideBar": true,
   "skip_h1_title": false,
   "title_cell": "Table of Contents",
   "title_sidebar": "Contents",
   "toc_cell": false,
   "toc_position": {
    "height": "434.491px",
    "left": "118px",
    "top": "124.9px",
    "width": "284.433px"
   },
   "toc_section_display": true,
   "toc_window_display": true
  },
  "varInspector": {
   "cols": {
    "lenName": 16,
    "lenType": 16,
    "lenVar": 40
   },
   "kernels_config": {
    "python": {
     "delete_cmd_postfix": "",
     "delete_cmd_prefix": "del ",
     "library": "var_list.py",
     "varRefreshCmd": "print(var_dic_list())"
    },
    "r": {
     "delete_cmd_postfix": ") ",
     "delete_cmd_prefix": "rm(",
     "library": "var_list.r",
     "varRefreshCmd": "cat(var_dic_list()) "
    }
   },
   "position": {
    "height": "456.181px",
    "left": "900.56px",
    "right": "20px",
    "top": "15.9838px",
    "width": "487.975px"
   },
   "types_to_exclude": [
    "module",
    "function",
    "builtin_function_or_method",
    "instance",
    "_Feature"
   ],
   "window_display": false
  },
  "vscode": {
   "interpreter": {
    "hash": "55eb91d003843ee0eabb6af411dc999514f7578b560f97084ebc6a83d429fc16"
   }
  }
 },
 "nbformat": 4,
 "nbformat_minor": 4
}
