{
 "cells": [
  {
   "cell_type": "markdown",
   "id": "f2d01c5e",
   "metadata": {},
   "source": [
    "# Tutorial 5: Pandas Data Structures: Series and DataFrames\n",
    "TA: ZHANG Wei\n",
    "\n",
    "E-mail: wzhang472-c@my.cityu.edu.hk\n",
    "\n",
    "### Introduction\n",
    "Pandas is an open source library providing high-performance, easy-to-use data structures and data analysis tools for the Python programming language.\n",
    "\n",
    "\n",
    "Series is a one-dimensional labeled array capable of holding any data type like integers, strings, floating point numbers, Python objects, etc.\n",
    "\n",
    "\n",
    "DataFrames is a data structure that organizes data into a two-dimensional table of rows and columns.\n",
    "\n",
    "### Install\n",
    "Use the command \"pip install pandas\" in your terminal to install pandas\n",
    "\n",
    "\n",
    "### What you can learn on this tutorial\n",
    "1.How to create series\n",
    "\n",
    "2.How to check the index of series\n",
    "\n",
    "3.How to compute the statistical information(mean,sum, etc.) of series\n",
    "\n",
    "4.How to select information you want in series\n",
    "\n",
    "5.How to creat DataFrames\n",
    "\n",
    "6.Basic operations about DataFrames\n",
    "\n",
    "### Background\n",
    "\n",
    "Where to eat? It is a question.\n",
    "\n",
    "Given information about the average spending(HKD), ratings(Ten-points system), walk time from library(Lib, minute) and dormitory (Dor, minute) of (part of) canteens  around CityU in the following table:\n",
    "\n",
    "\n",
    "| Canteens    | Price  | Rating  | Lib  | Dor| \n",
    "|-----------------|--------|-------- |------|----|\n",
    "| AC1         | 32    | 5     | 3   | 13 |\n",
    "| AC2         | 42    | 7     | 8   | 9  |\n",
    "| AC3         | 55    | 8     | 8   | 6  | \n",
    "| Mcdonald      | 45    | 7.5    | 5   | 18 | \n",
    "| Subway       | 44    | 6     | 6.5  | 10 | \n",
    "| Taste        | 50    | 8     | 7   | 20 | \n",
    "| FestivalFood   | 65    | 9     | 7   | 20 | \n",
    "| HomeyKitchen   | 35    | 4     |16   | 5  | \n",
    "|ChineseRestaurant| 90    | 9     | 7   | 15 |\n",
    "|KebabStation    | 45    | 7.5    | 3   | 13 |  \n",
    "\n",
    "FYI, catering at CityU: https://www.cityu.edu.hk/zh-hk/directories/catering"
   ]
  },
  {
   "cell_type": "code",
   "execution_count": 1,
   "id": "7ae6332d",
   "metadata": {},
   "outputs": [],
   "source": [
    "# Hint: You may need to import the related packages first\n",
    "import pandas as pd "
   ]
  },
  {
   "cell_type": "markdown",
   "id": "3f8fb7c9",
   "metadata": {},
   "source": [
    "### Questions about Series "
   ]
  },
  {
   "cell_type": "markdown",
   "id": "6ea04a70",
   "metadata": {},
   "source": [
    "#### Question 1:\n",
    "Create series for Price, Rating, Lib, Dor separately using at least two different ways. Write you code and print your results.\n",
    "\n",
    "Hints 1:{\"AC1\":3, \"AC2\":8, \"AC3\":8, \"Mcdonald\":5, \"Subway\":6.5, \"Taste\":7, \"FestivalFood\":7, \"HomeyKitchen\":16, \"ChineseRestaurant\":7, \"KebabStation\":3}\n",
    "\n",
    "Hints 2: [\"AC1\", \"AC2\", \"AC3\", \"Mcdonald\", \"Subway\", \"Taste\", \"FestivalFood\", \"HomeyKitchen\", \"ChineseRestaurant\", \"KebabStation\"]\n",
    "\n",
    "| Canteens    | Price  | Rating  | Lib  | Dor| \n",
    "|-----------------|--------|-------- |------|----|\n",
    "| AC1         | 32    | 5     | 3   | 13 |\n",
    "| AC2         | 42    | 7     | 8   | 9  |\n",
    "| AC3         | 55    | 8     | 8   | 6  | \n",
    "| Mcdonald      | 45    | 7.5    | 5   | 18 | \n",
    "| Subway       | 44    | 6     | 6.5  | 10 | \n",
    "| Taste        | 50    | 8     | 7   | 20 | \n",
    "| FestivalFood   | 65    | 9     | 7   | 20 | \n",
    "| HomeyKitchen   | 35    | 4     |16   | 5  | \n",
    "|ChineseRestaurant| 90    | 9     | 7   | 15 |\n",
    "|KebabStation    | 45    | 7.5    | 3   | 13 |  "
   ]
  },
  {
   "cell_type": "code",
   "execution_count": 2,
   "id": "74492fb1",
   "metadata": {},
   "outputs": [
    {
     "data": {
      "text/plain": [
       "AC1                  32\n",
       "AC2                  42\n",
       "AC3                  55\n",
       "Mcdonald             45\n",
       "Subway               44\n",
       "Taste                50\n",
       "FestivalFood         65\n",
       "HomeyKitchen         35\n",
       "ChineseRestaurant    90\n",
       "KebabStation         45\n",
       "dtype: int64"
      ]
     },
     "execution_count": 2,
     "metadata": {},
     "output_type": "execute_result"
    }
   ],
   "source": [
    "# price\n",
    "price = (32,42,55,45,44,50,65,35,90,45)\n",
    "index=[\"AC1\", \"AC2\", \"AC3\", \"Mcdonald\", \"Subway\", \"Taste\", \"FestivalFood\", \"HomeyKitchen\", \"ChineseRestaurant\", \"KebabStation\"]\n",
    "price_series = pd.Series(price,index)\n",
    "price_series"
   ]
  },
  {
   "cell_type": "code",
   "execution_count": 3,
   "id": "05d13c5e",
   "metadata": {},
   "outputs": [
    {
     "name": "stdout",
     "output_type": "stream",
     "text": [
      "before adding index\n",
      " 0    5.0\n",
      "1    7.0\n",
      "2    8.0\n",
      "3    7.5\n",
      "4    6.0\n",
      "5    8.0\n",
      "6    9.0\n",
      "7    4.0\n",
      "8    9.0\n",
      "9    7.5\n",
      "dtype: float64\n",
      "----------------------------\n",
      "after adding index\n",
      " AC1                  5.0\n",
      "AC2                  7.0\n",
      "AC3                  8.0\n",
      "Mcdonald             7.5\n",
      "Subway               6.0\n",
      "Taste                8.0\n",
      "FestivalFood         9.0\n",
      "HomeyKitchen         4.0\n",
      "ChineseRestaurant    9.0\n",
      "KebabStation         7.5\n",
      "dtype: float64\n"
     ]
    }
   ],
   "source": [
    "# Rating \n",
    "rating = (5,7,8,7.5,6,8,9,4,9,7.5)\n",
    "rating_series = pd.Series(rating)\n",
    "print(\"before adding index\\n\",rating_series)\n",
    "rating_series.index = [\"AC1\", \"AC2\", \"AC3\", \"Mcdonald\", \"Subway\", \"Taste\", \"FestivalFood\", \"HomeyKitchen\", \"ChineseRestaurant\", \"KebabStation\"]\n",
    "print(\"----------------------------\\nafter adding index\\n\",rating_series)"
   ]
  },
  {
   "cell_type": "code",
   "execution_count": 4,
   "id": "7cfc0a17",
   "metadata": {},
   "outputs": [
    {
     "data": {
      "text/plain": [
       "AC1                  13\n",
       "AC2                   9\n",
       "AC3                   6\n",
       "Mcdonald             18\n",
       "Subway               10\n",
       "Taste                20\n",
       "FestivalFood         20\n",
       "HomeyKitchen          5\n",
       "ChineseRestaurant    15\n",
       "KebabStation         13\n",
       "dtype: int64"
      ]
     },
     "execution_count": 4,
     "metadata": {},
     "output_type": "execute_result"
    }
   ],
   "source": [
    "# Dor\n",
    "Dor_series = pd.Series((13,9,6,18,10,20,20,5,15,13), index=[\"AC1\", \"AC2\", \"AC3\", \"Mcdonald\", \"Subway\", \"Taste\", \"FestivalFood\", \"HomeyKitchen\", \"ChineseRestaurant\", \"KebabStation\"])\n",
    "Dor_series"
   ]
  },
  {
   "cell_type": "code",
   "execution_count": 5,
   "id": "033ff82c",
   "metadata": {},
   "outputs": [
    {
     "data": {
      "text/plain": [
       "AC1                   3.0\n",
       "AC2                   8.0\n",
       "AC3                   8.0\n",
       "Mcdonald              5.0\n",
       "Subway                6.5\n",
       "Taste                 7.0\n",
       "FestivalFood          7.0\n",
       "HomeyKitchen         16.0\n",
       "ChineseRestaurant     7.0\n",
       "KebabStation          3.0\n",
       "dtype: float64"
      ]
     },
     "execution_count": 5,
     "metadata": {},
     "output_type": "execute_result"
    }
   ],
   "source": [
    "# Lib\n",
    "Lib = {\"AC1\":3, \"AC2\":8, \"AC3\":8, \"Mcdonald\":5, \"Subway\":6.5, \"Taste\":7, \"FestivalFood\":7, \"HomeyKitchen\":16, \"ChineseRestaurant\":7, \"KebabStation\":3}\n",
    "Lib_series = pd.Series(Lib)\n",
    "Lib_series"
   ]
  },
  {
   "cell_type": "markdown",
   "id": "ebea8cc0",
   "metadata": {},
   "source": [
    "#### Question 2\n",
    "2.1 Suppose you want to query the average price of AC1, based on the series you created, write the code using explicit index 'AC1' and output your results.\n",
    "\n",
    "2.2 Suppose you want to query the walking time from the dormitory to AC3, based on the series you created, write the code using integer index and output your results.\n",
    "\n",
    "2.3 Suppose you want to visit all the canteens around CityU from library, based on the series you created, write the code and output the total time you need.\n",
    "\n",
    "Hint 1: the interger index is started from 0\n",
    "\n",
    "Hint 2: you may need  to use the function sum() to take the sum of series\n",
    "\n",
    "| Canteens    | Price  | Rating  | Lib  | Dor| \n",
    "|-----------------|--------|-------- |------|----|\n",
    "| AC1         | 32    | 5     | 3   | 13 |\n",
    "| AC2         | 42    | 7     | 8   | 9  |\n",
    "| AC3         | 55    | 8     | 8   | 6  | \n",
    "| Mcdonald      | 45    | 7.5    | 5   | 18 | \n",
    "| Subway       | 44    | 6     | 6.5  | 10 | \n",
    "| Taste        | 50    | 8     | 7   | 20 | \n",
    "| FestivalFood   | 65    | 9     | 7   | 20 | \n",
    "| HomeyKitchen   | 35    | 4     |16   | 5  | \n",
    "|ChineseRestaurant| 90    | 9     | 7   | 15 |\n",
    "|KebabStation    | 45    | 7.5    | 3   | 13 |  "
   ]
  },
  {
   "cell_type": "code",
   "execution_count": 6,
   "id": "43839539",
   "metadata": {},
   "outputs": [
    {
     "data": {
      "text/plain": [
       "32"
      ]
     },
     "execution_count": 6,
     "metadata": {},
     "output_type": "execute_result"
    }
   ],
   "source": [
    "# 2.1\n",
    "price_series['AC1']"
   ]
  },
  {
   "cell_type": "code",
   "execution_count": 7,
   "id": "42839a5f",
   "metadata": {},
   "outputs": [
    {
     "data": {
      "text/plain": [
       "6"
      ]
     },
     "execution_count": 7,
     "metadata": {},
     "output_type": "execute_result"
    }
   ],
   "source": [
    "# 2.2\n",
    "Dor_series[2]"
   ]
  },
  {
   "cell_type": "code",
   "execution_count": 8,
   "id": "c683a888",
   "metadata": {},
   "outputs": [
    {
     "data": {
      "text/plain": [
       "70.5"
      ]
     },
     "execution_count": 8,
     "metadata": {},
     "output_type": "execute_result"
    }
   ],
   "source": [
    "# 2.3\n",
    "Lib_series.sum()"
   ]
  },
  {
   "cell_type": "markdown",
   "id": "9191b64d",
   "metadata": {},
   "source": [
    "#### Question 3\n",
    "3.1 Your parent asks you how much it costs to eat at CityU. To make it simple, you are going to tell them the average price of the school canteen. Based on the series you created, write the code and output the average price of canteens.\n",
    "\n",
    "3.2 If the time from Li building to each canteen is half the time from the dormitory and the library to each canteen, what is the walking time from Li building to each canteen? Based on the series you created, write the code and output the result.\n",
    "\n",
    "3.3 Suppose you want to go to the nearest canteen from the Li building, which canteens can you choose? Based on the series you created, write the code and output the result.\n",
    "\n",
    "Hint 1: you may need to use mean() to take the mean value of series\n",
    "\n",
    "Hint 2: you may need to use add() or \"+\"\n",
    "\n",
    "Hint 3: you may need to use idxmin(), return index label of the minimum values.\n",
    "\n",
    "| Canteens    | Price  | Rating  | Lib  | Dor| \n",
    "|-----------------|--------|-------- |------|----|\n",
    "| AC1         | 32    | 5     | 3   | 13 |\n",
    "| AC2         | 42    | 7     | 8   | 9  |\n",
    "| AC3         | 55    | 8     | 8   | 6  | \n",
    "| Mcdonald      | 45    | 7.5    | 5   | 18 | \n",
    "| Subway       | 44    | 6     | 6.5  | 10 | \n",
    "| Taste        | 50    | 8     | 7   | 20 | \n",
    "| FestivalFood   | 65    | 9     | 7   | 20 | \n",
    "| HomeyKitchen   | 35    | 4     |16   | 5  | \n",
    "|ChineseRestaurant| 90    | 9     | 7   | 15 |\n",
    "|KebabStation    | 45    | 7.5    | 3   | 13 |  "
   ]
  },
  {
   "cell_type": "code",
   "execution_count": 9,
   "id": "695b2452",
   "metadata": {},
   "outputs": [
    {
     "data": {
      "text/plain": [
       "50.3"
      ]
     },
     "execution_count": 9,
     "metadata": {},
     "output_type": "execute_result"
    }
   ],
   "source": [
    "#3.1\n",
    "price_series.mean()"
   ]
  },
  {
   "cell_type": "code",
   "execution_count": 10,
   "id": "41118ce9",
   "metadata": {},
   "outputs": [
    {
     "data": {
      "text/plain": [
       "AC1                   8.00\n",
       "AC2                   8.50\n",
       "AC3                   7.00\n",
       "Mcdonald             11.50\n",
       "Subway                8.25\n",
       "Taste                13.50\n",
       "FestivalFood         13.50\n",
       "HomeyKitchen         10.50\n",
       "ChineseRestaurant    11.00\n",
       "KebabStation          8.00\n",
       "dtype: float64"
      ]
     },
     "execution_count": 10,
     "metadata": {},
     "output_type": "execute_result"
    }
   ],
   "source": [
    "#3.2\n",
    "(Dor_series+Lib_series)/2"
   ]
  },
  {
   "cell_type": "code",
   "execution_count": 11,
   "id": "aaee4a1e",
   "metadata": {},
   "outputs": [
    {
     "data": {
      "text/plain": [
       "AC1                   8.00\n",
       "AC2                   8.50\n",
       "AC3                   7.00\n",
       "Mcdonald             11.50\n",
       "Subway                8.25\n",
       "Taste                13.50\n",
       "FestivalFood         13.50\n",
       "HomeyKitchen         10.50\n",
       "ChineseRestaurant    11.00\n",
       "KebabStation          8.00\n",
       "dtype: float64"
      ]
     },
     "execution_count": 11,
     "metadata": {},
     "output_type": "execute_result"
    }
   ],
   "source": [
    "#3.2\n",
    "Li_series = Dor_series\n",
    "Li_series = Li_series.add(Lib_series)/2\n",
    "Li_series"
   ]
  },
  {
   "cell_type": "code",
   "execution_count": 12,
   "id": "d04a9b83",
   "metadata": {},
   "outputs": [
    {
     "data": {
      "text/plain": [
       "'AC3'"
      ]
     },
     "execution_count": 12,
     "metadata": {},
     "output_type": "execute_result"
    }
   ],
   "source": [
    "# 3.3\n",
    "Li_series.idxmin()"
   ]
  },
  {
   "cell_type": "markdown",
   "id": "fab0046a",
   "metadata": {},
   "source": [
    "#### Question 4\n",
    "4.1 If your budget for lunch is 55 hkd, but you want to eat the highest rated canteens, how many options do you have? Based on the series you created, write the code and print the result.\n",
    "\n",
    "Hint 1: for question 4.1 you need to select the canteens with price <=  55 first, and get their index, then use the index to find the highest rating in the rating series you have built, finally count the number of canteens.\n",
    "\n",
    "Hint 2: you may need to use max() to take the maximum value of a series\n",
    "\n",
    "Hint 3: you may need to use len() to take the length of a series\n",
    "\n",
    "-- -- -- \n",
    "\n",
    "4.2 Suppose you are studying in the dormitory today, and your budget for lunch is 50 hkd. In order to set aside more time for study, you want to find the nearest canteens. Where do you decide to eat for the lunch? Based on the series you created, write the code and print the result.\n",
    "\n",
    "Hint 4: you may need to find a canteen which has price lower than 50, and then choose the nearest one.\n",
    "\n",
    "Hint 5: you may need to use idxmin() to find the label of the minimum value of series\n",
    "\n",
    "-- -- --\n",
    "\n",
    "4.3 (This subquestion is not required) If you plan to eat lunch and dinner near CityU today, and the budget is 82 hkd, you want to eat the canteens with the highest sum of ratings today, where do you decide to eat? Based on the series you created, write the code and print the result.\n",
    "\n",
    "Hint 6: you may need to use two loops to traverse the price_series\n",
    "\n",
    "Hint 7: you may need to use if arguement to select the canteens which price sum is lower than 82.\n",
    "\n",
    "| Canteens    | Price  | Rating  | Lib  | Dor| \n",
    "|-----------------|--------|-------- |------|----|\n",
    "| AC1         | 32    | 5     | 3   | 13 |\n",
    "| AC2         | 42    | 7     | 8   | 9  |\n",
    "| AC3         | 55    | 8     | 8   | 6  | \n",
    "| Mcdonald      | 45    | 7.5    | 5   | 18 | \n",
    "| Subway       | 44    | 6     | 6.5  | 10 | \n",
    "| Taste        | 50    | 8     | 7   | 20 | \n",
    "| FestivalFood   | 65    | 9     | 7   | 20 | \n",
    "| HomeyKitchen   | 35    | 4     |16   | 5  | \n",
    "|ChineseRestaurant| 90    | 9     | 7   | 15 |\n",
    "|KebabStation    | 45    | 7.5    | 3   | 13 |  "
   ]
  },
  {
   "cell_type": "code",
   "execution_count": 13,
   "id": "977eb0ed",
   "metadata": {},
   "outputs": [
    {
     "data": {
      "text/plain": [
       "2"
      ]
     },
     "execution_count": 13,
     "metadata": {},
     "output_type": "execute_result"
    }
   ],
   "source": [
    "# 4.1\n",
    "sub_price = price_series[price_series <= 55]  # find the canteens with price <=  55\n",
    "price_index = sub_price.index                 # index of the sub_price\n",
    "\n",
    "highest_rating = rating_series[price_index].max()                       # find the highest rating\n",
    "number_of_options = len(rating_series[rating_series == highest_rating]) # compute the number of options\n",
    "number_of_options"
   ]
  },
  {
   "cell_type": "code",
   "execution_count": 14,
   "id": "b8b154fa",
   "metadata": {},
   "outputs": [
    {
     "data": {
      "text/plain": [
       "'HomeyKitchen'"
      ]
     },
     "execution_count": 14,
     "metadata": {},
     "output_type": "execute_result"
    }
   ],
   "source": [
    "# 4.2 \n",
    "less_than_50_canteens = price_series[price_series <= 50]# select canteens prices <= 50\n",
    "less_than_50_index = less_than_50_canteens.index        # take the index of canteens\n",
    "Dor_series[less_than_50_index].idxmin()                 # choose the label of the minimum value of the Dor_series"
   ]
  },
  {
   "cell_type": "code",
   "execution_count": 15,
   "id": "3948c867",
   "metadata": {},
   "outputs": [
    {
     "data": {
      "text/plain": [
       "'HomeyKitchen'"
      ]
     },
     "execution_count": 15,
     "metadata": {},
     "output_type": "execute_result"
    }
   ],
   "source": [
    "# 4.2\n",
    "Dor_series[price_series <= 50].idxmin() "
   ]
  },
  {
   "cell_type": "code",
   "execution_count": 16,
   "id": "cf07c7c6",
   "metadata": {},
   "outputs": [
    {
     "name": "stdout",
     "output_type": "stream",
     "text": [
      "Taste\n",
      "AC1\n"
     ]
    }
   ],
   "source": [
    "# 4.3\n",
    "rating_max = 0            #initialize the maximum rating sum\n",
    "canteen_lunch = []        #initialize the lunch place\n",
    "canteen_dinner = []       #initialize the dinner place\n",
    "for lunch in price_series.index:       # loop for lunch\n",
    "    for dinner in price_series.index:  # loop for dinner\n",
    "        if(price_series[lunch]+price_series[dinner]<=82): # choose two canteens whose price sum is lower than 82\n",
    "            if(rating_series[lunch]+rating_series[dinner]>=rating_max): \n",
    "                rating_max = rating_series[lunch]+rating_series[dinner] # record the maximum rating sum\n",
    "                canteen_lunch = lunch                                   # record the lunch place\n",
    "                canteen_dinner = dinner                                 # record the dinner place\n",
    "\n",
    "print(canteen_lunch)  #print your result\n",
    "print(canteen_dinner)"
   ]
  },
  {
   "cell_type": "code",
   "execution_count": 17,
   "id": "b745e378",
   "metadata": {},
   "outputs": [
    {
     "data": {
      "text/plain": [
       "Index(['AC1', 'AC2', 'AC3', 'Mcdonald', 'Subway', 'Taste', 'FestivalFood',\n",
       "       'HomeyKitchen', 'ChineseRestaurant', 'KebabStation'],\n",
       "      dtype='object')"
      ]
     },
     "execution_count": 17,
     "metadata": {},
     "output_type": "execute_result"
    }
   ],
   "source": [
    "price_series.index"
   ]
  },
  {
   "cell_type": "code",
   "execution_count": 18,
   "id": "43789bce",
   "metadata": {},
   "outputs": [
    {
     "name": "stdout",
     "output_type": "stream",
     "text": [
      "AC1\n",
      "AC2\n",
      "AC3\n",
      "Mcdonald\n",
      "Subway\n",
      "Taste\n",
      "FestivalFood\n",
      "HomeyKitchen\n",
      "ChineseRestaurant\n",
      "KebabStation\n"
     ]
    }
   ],
   "source": [
    "for lunch in price_series.index: \n",
    "    print(lunch)"
   ]
  },
  {
   "cell_type": "markdown",
   "id": "6188df98",
   "metadata": {},
   "source": [
    "### Questions about DataFrames"
   ]
  },
  {
   "cell_type": "code",
   "execution_count": 19,
   "id": "61e1de1f",
   "metadata": {},
   "outputs": [],
   "source": [
    "# you may need to use the following information first\n",
    "import pandas as pd \n",
    "# create series\n",
    "price_series = pd.Series((32,42,55,45,44,50,65,35,90,45),[\"AC1\", \"AC2\", \"AC3\", \"Mcdonald\", \"Subway\", \"Taste\", \"FestivalFood\", \"HomeyKitchen\", \"ChineseRestaurant\", \"KebabStation\"])\n",
    "rating_series = pd.Series((5,7,8,7.5,6,8,9,4,9,7.5),[\"AC1\", \"AC2\", \"AC3\", \"Mcdonald\", \"Subway\", \"Taste\", \"FestivalFood\", \"HomeyKitchen\", \"ChineseRestaurant\", \"KebabStation\"])\n",
    "Dor_series = pd.Series((13,9,6,18,10,20,20,5,15,13), index=[\"AC1\", \"AC2\", \"AC3\", \"Mcdonald\", \"Subway\", \"Taste\", \"FestivalFood\", \"HomeyKitchen\", \"ChineseRestaurant\", \"KebabStation\"])\n",
    "Lib_series = pd.Series({\"AC1\":3, \"AC2\":8, \"AC3\":8, \"Mcdonald\":5, \"Subway\":6.5, \"Taste\":7, \"FestivalFood\":7, \"HomeyKitchen\":16, \"ChineseRestaurant\":7, \"KebabStation\":3})\n"
   ]
  },
  {
   "cell_type": "markdown",
   "id": "b3772525",
   "metadata": {},
   "source": [
    "#### Question 5\n",
    "Create Dataframe structure using at least two different ways and print your dataframe\n",
    "\n",
    "| Canteens    | Price  | Rating  | Lib  | Dor| \n",
    "|-----------------|--------|-------- |------|----|\n",
    "| AC1         | 32    | 5     | 3   | 13 |\n",
    "| AC2         | 42    | 7     | 8   | 9  |\n",
    "| AC3         | 55    | 8     | 8   | 6  | \n",
    "| Mcdonald      | 45    | 7.5    | 5   | 18 | \n",
    "| Subway       | 44    | 6     | 6.5  | 10 | \n",
    "| Taste        | 50    | 8     | 7   | 20 | \n",
    "| FestivalFood   | 65    | 9     | 7   | 20 | \n",
    "| HomeyKitchen   | 35    | 4     |16   | 5  | \n",
    "|ChineseRestaurant| 90    | 9     | 7   | 15 |\n",
    "|KebabStation    | 45    | 7.5    | 3   | 13 |  "
   ]
  },
  {
   "cell_type": "code",
   "execution_count": 20,
   "id": "26c99d45",
   "metadata": {},
   "outputs": [
    {
     "data": {
      "text/html": [
       "<div>\n",
       "<style scoped>\n",
       "    .dataframe tbody tr th:only-of-type {\n",
       "        vertical-align: middle;\n",
       "    }\n",
       "\n",
       "    .dataframe tbody tr th {\n",
       "        vertical-align: top;\n",
       "    }\n",
       "\n",
       "    .dataframe thead th {\n",
       "        text-align: right;\n",
       "    }\n",
       "</style>\n",
       "<table border=\"1\" class=\"dataframe\">\n",
       "  <thead>\n",
       "    <tr style=\"text-align: right;\">\n",
       "      <th></th>\n",
       "      <th>price</th>\n",
       "      <th>rating</th>\n",
       "      <th>Dor</th>\n",
       "      <th>Lib</th>\n",
       "    </tr>\n",
       "  </thead>\n",
       "  <tbody>\n",
       "    <tr>\n",
       "      <th>AC1</th>\n",
       "      <td>32</td>\n",
       "      <td>5.0</td>\n",
       "      <td>13</td>\n",
       "      <td>3.0</td>\n",
       "    </tr>\n",
       "    <tr>\n",
       "      <th>AC2</th>\n",
       "      <td>42</td>\n",
       "      <td>7.0</td>\n",
       "      <td>9</td>\n",
       "      <td>8.0</td>\n",
       "    </tr>\n",
       "    <tr>\n",
       "      <th>AC3</th>\n",
       "      <td>55</td>\n",
       "      <td>8.0</td>\n",
       "      <td>6</td>\n",
       "      <td>8.0</td>\n",
       "    </tr>\n",
       "    <tr>\n",
       "      <th>Mcdonald</th>\n",
       "      <td>45</td>\n",
       "      <td>7.5</td>\n",
       "      <td>18</td>\n",
       "      <td>5.0</td>\n",
       "    </tr>\n",
       "    <tr>\n",
       "      <th>Subway</th>\n",
       "      <td>44</td>\n",
       "      <td>6.0</td>\n",
       "      <td>10</td>\n",
       "      <td>6.5</td>\n",
       "    </tr>\n",
       "    <tr>\n",
       "      <th>Taste</th>\n",
       "      <td>50</td>\n",
       "      <td>8.0</td>\n",
       "      <td>20</td>\n",
       "      <td>7.0</td>\n",
       "    </tr>\n",
       "    <tr>\n",
       "      <th>FestivalFood</th>\n",
       "      <td>65</td>\n",
       "      <td>9.0</td>\n",
       "      <td>20</td>\n",
       "      <td>7.0</td>\n",
       "    </tr>\n",
       "    <tr>\n",
       "      <th>HomeyKitchen</th>\n",
       "      <td>35</td>\n",
       "      <td>4.0</td>\n",
       "      <td>5</td>\n",
       "      <td>16.0</td>\n",
       "    </tr>\n",
       "    <tr>\n",
       "      <th>ChineseRestaurant</th>\n",
       "      <td>90</td>\n",
       "      <td>9.0</td>\n",
       "      <td>15</td>\n",
       "      <td>7.0</td>\n",
       "    </tr>\n",
       "    <tr>\n",
       "      <th>KebabStation</th>\n",
       "      <td>45</td>\n",
       "      <td>7.5</td>\n",
       "      <td>13</td>\n",
       "      <td>3.0</td>\n",
       "    </tr>\n",
       "  </tbody>\n",
       "</table>\n",
       "</div>"
      ],
      "text/plain": [
       "                   price  rating  Dor   Lib\n",
       "AC1                   32     5.0   13   3.0\n",
       "AC2                   42     7.0    9   8.0\n",
       "AC3                   55     8.0    6   8.0\n",
       "Mcdonald              45     7.5   18   5.0\n",
       "Subway                44     6.0   10   6.5\n",
       "Taste                 50     8.0   20   7.0\n",
       "FestivalFood          65     9.0   20   7.0\n",
       "HomeyKitchen          35     4.0    5  16.0\n",
       "ChineseRestaurant     90     9.0   15   7.0\n",
       "KebabStation          45     7.5   13   3.0"
      ]
     },
     "execution_count": 20,
     "metadata": {},
     "output_type": "execute_result"
    }
   ],
   "source": [
    "# use series create dataframe\n",
    "CityU_Canteens = pd.DataFrame({'price':price_series,'rating':rating_series,'Dor': Dor_series,'Lib':Lib_series})\n",
    "CityU_Canteens"
   ]
  },
  {
   "cell_type": "code",
   "execution_count": 21,
   "id": "1fa8fb75",
   "metadata": {},
   "outputs": [
    {
     "data": {
      "text/html": [
       "<div>\n",
       "<style scoped>\n",
       "    .dataframe tbody tr th:only-of-type {\n",
       "        vertical-align: middle;\n",
       "    }\n",
       "\n",
       "    .dataframe tbody tr th {\n",
       "        vertical-align: top;\n",
       "    }\n",
       "\n",
       "    .dataframe thead th {\n",
       "        text-align: right;\n",
       "    }\n",
       "</style>\n",
       "<table border=\"1\" class=\"dataframe\">\n",
       "  <thead>\n",
       "    <tr style=\"text-align: right;\">\n",
       "      <th></th>\n",
       "      <th>price</th>\n",
       "      <th>rating</th>\n",
       "      <th>Dor</th>\n",
       "      <th>Lib</th>\n",
       "    </tr>\n",
       "  </thead>\n",
       "  <tbody>\n",
       "    <tr>\n",
       "      <th>AC1</th>\n",
       "      <td>32</td>\n",
       "      <td>5.0</td>\n",
       "      <td>13</td>\n",
       "      <td>3.0</td>\n",
       "    </tr>\n",
       "    <tr>\n",
       "      <th>AC2</th>\n",
       "      <td>42</td>\n",
       "      <td>7.0</td>\n",
       "      <td>9</td>\n",
       "      <td>8.0</td>\n",
       "    </tr>\n",
       "    <tr>\n",
       "      <th>AC3</th>\n",
       "      <td>55</td>\n",
       "      <td>8.0</td>\n",
       "      <td>6</td>\n",
       "      <td>9.0</td>\n",
       "    </tr>\n",
       "    <tr>\n",
       "      <th>Mcdonald</th>\n",
       "      <td>45</td>\n",
       "      <td>7.5</td>\n",
       "      <td>18</td>\n",
       "      <td>5.0</td>\n",
       "    </tr>\n",
       "    <tr>\n",
       "      <th>Subway</th>\n",
       "      <td>44</td>\n",
       "      <td>6.0</td>\n",
       "      <td>10</td>\n",
       "      <td>6.5</td>\n",
       "    </tr>\n",
       "    <tr>\n",
       "      <th>Taste</th>\n",
       "      <td>50</td>\n",
       "      <td>8.0</td>\n",
       "      <td>20</td>\n",
       "      <td>7.0</td>\n",
       "    </tr>\n",
       "    <tr>\n",
       "      <th>FestivalFood</th>\n",
       "      <td>65</td>\n",
       "      <td>9.0</td>\n",
       "      <td>20</td>\n",
       "      <td>7.0</td>\n",
       "    </tr>\n",
       "    <tr>\n",
       "      <th>HomeyKitchen</th>\n",
       "      <td>35</td>\n",
       "      <td>4.0</td>\n",
       "      <td>5</td>\n",
       "      <td>16.0</td>\n",
       "    </tr>\n",
       "    <tr>\n",
       "      <th>ChineseRestaurant</th>\n",
       "      <td>90</td>\n",
       "      <td>9.0</td>\n",
       "      <td>15</td>\n",
       "      <td>7.0</td>\n",
       "    </tr>\n",
       "    <tr>\n",
       "      <th>KebabStation</th>\n",
       "      <td>45</td>\n",
       "      <td>7.5</td>\n",
       "      <td>13</td>\n",
       "      <td>3.0</td>\n",
       "    </tr>\n",
       "  </tbody>\n",
       "</table>\n",
       "</div>"
      ],
      "text/plain": [
       "                   price  rating  Dor   Lib\n",
       "AC1                   32     5.0   13   3.0\n",
       "AC2                   42     7.0    9   8.0\n",
       "AC3                   55     8.0    6   9.0\n",
       "Mcdonald              45     7.5   18   5.0\n",
       "Subway                44     6.0   10   6.5\n",
       "Taste                 50     8.0   20   7.0\n",
       "FestivalFood          65     9.0   20   7.0\n",
       "HomeyKitchen          35     4.0    5  16.0\n",
       "ChineseRestaurant     90     9.0   15   7.0\n",
       "KebabStation          45     7.5   13   3.0"
      ]
     },
     "execution_count": 21,
     "metadata": {},
     "output_type": "execute_result"
    }
   ],
   "source": [
    "CityU_Canteens = pd.DataFrame(\n",
    "    {   \"price\": (32,42,55,45,44,50,65,35,90,45),\n",
    "        \"rating\": (5,7,8,7.5,6,8,9,4,9,7.5),\n",
    "        \"Dor\": (13,9,6,18,10,20,20,5,15,13),\n",
    "        \"Lib\": (3,8,9,5,6.5,7,7,16,7,3),\n",
    "    })\n",
    "CityU_Canteens.index=[\"AC1\", \"AC2\", \"AC3\", \"Mcdonald\", \"Subway\", \"Taste\", \"FestivalFood\", \"HomeyKitchen\", \"ChineseRestaurant\", \"KebabStation\"]\n",
    "CityU_Canteens"
   ]
  },
  {
   "cell_type": "code",
   "execution_count": 22,
   "id": "54ee4115",
   "metadata": {},
   "outputs": [
    {
     "data": {
      "text/html": [
       "<div>\n",
       "<style scoped>\n",
       "    .dataframe tbody tr th:only-of-type {\n",
       "        vertical-align: middle;\n",
       "    }\n",
       "\n",
       "    .dataframe tbody tr th {\n",
       "        vertical-align: top;\n",
       "    }\n",
       "\n",
       "    .dataframe thead th {\n",
       "        text-align: right;\n",
       "    }\n",
       "</style>\n",
       "<table border=\"1\" class=\"dataframe\">\n",
       "  <thead>\n",
       "    <tr style=\"text-align: right;\">\n",
       "      <th></th>\n",
       "      <th>price</th>\n",
       "      <th>rating</th>\n",
       "      <th>Dor</th>\n",
       "      <th>Lib</th>\n",
       "    </tr>\n",
       "  </thead>\n",
       "  <tbody>\n",
       "    <tr>\n",
       "      <th>AC1</th>\n",
       "      <td>32</td>\n",
       "      <td>5.0</td>\n",
       "      <td>13</td>\n",
       "      <td>3.0</td>\n",
       "    </tr>\n",
       "    <tr>\n",
       "      <th>AC2</th>\n",
       "      <td>42</td>\n",
       "      <td>7.0</td>\n",
       "      <td>9</td>\n",
       "      <td>8.0</td>\n",
       "    </tr>\n",
       "    <tr>\n",
       "      <th>AC3</th>\n",
       "      <td>55</td>\n",
       "      <td>8.0</td>\n",
       "      <td>6</td>\n",
       "      <td>9.0</td>\n",
       "    </tr>\n",
       "    <tr>\n",
       "      <th>Mcdonald</th>\n",
       "      <td>45</td>\n",
       "      <td>7.5</td>\n",
       "      <td>18</td>\n",
       "      <td>5.0</td>\n",
       "    </tr>\n",
       "    <tr>\n",
       "      <th>Subway</th>\n",
       "      <td>44</td>\n",
       "      <td>6.0</td>\n",
       "      <td>10</td>\n",
       "      <td>6.5</td>\n",
       "    </tr>\n",
       "    <tr>\n",
       "      <th>Taste</th>\n",
       "      <td>50</td>\n",
       "      <td>8.0</td>\n",
       "      <td>20</td>\n",
       "      <td>7.0</td>\n",
       "    </tr>\n",
       "    <tr>\n",
       "      <th>FestivalFood</th>\n",
       "      <td>65</td>\n",
       "      <td>9.0</td>\n",
       "      <td>20</td>\n",
       "      <td>7.0</td>\n",
       "    </tr>\n",
       "    <tr>\n",
       "      <th>HomeyKitchen</th>\n",
       "      <td>35</td>\n",
       "      <td>4.0</td>\n",
       "      <td>5</td>\n",
       "      <td>16.0</td>\n",
       "    </tr>\n",
       "    <tr>\n",
       "      <th>ChineseRestaurant</th>\n",
       "      <td>90</td>\n",
       "      <td>9.0</td>\n",
       "      <td>15</td>\n",
       "      <td>7.0</td>\n",
       "    </tr>\n",
       "    <tr>\n",
       "      <th>KebabStation</th>\n",
       "      <td>45</td>\n",
       "      <td>7.5</td>\n",
       "      <td>13</td>\n",
       "      <td>3.0</td>\n",
       "    </tr>\n",
       "  </tbody>\n",
       "</table>\n",
       "</div>"
      ],
      "text/plain": [
       "                   price  rating  Dor   Lib\n",
       "AC1                   32     5.0   13   3.0\n",
       "AC2                   42     7.0    9   8.0\n",
       "AC3                   55     8.0    6   9.0\n",
       "Mcdonald              45     7.5   18   5.0\n",
       "Subway                44     6.0   10   6.5\n",
       "Taste                 50     8.0   20   7.0\n",
       "FestivalFood          65     9.0   20   7.0\n",
       "HomeyKitchen          35     4.0    5  16.0\n",
       "ChineseRestaurant     90     9.0   15   7.0\n",
       "KebabStation          45     7.5   13   3.0"
      ]
     },
     "execution_count": 22,
     "metadata": {},
     "output_type": "execute_result"
    }
   ],
   "source": [
    "CityU_Canteens  = pd.DataFrame({'price':(32,42,55,45,44,50,65,35,90,45)})\n",
    "CityU_Canteens['rating'] = [5,7,8,7.5,6,8,9,4,9,7.5]\n",
    "CityU_Canteens['Dor'] = [13,9,6,18,10,20,20,5,15,13]\n",
    "CityU_Canteens['Lib'] = [3,8,9,5,6.5,7,7,16,7,3]\n",
    "CityU_Canteens.index = [\"AC1\", \"AC2\", \"AC3\", \"Mcdonald\", \"Subway\", \"Taste\", \"FestivalFood\", \"HomeyKitchen\", \"ChineseRestaurant\", \"KebabStation\"]\n",
    "\n",
    "CityU_Canteens"
   ]
  },
  {
   "cell_type": "markdown",
   "id": "4ebf3168",
   "metadata": {},
   "source": [
    "#### Question 6\n",
    "6.1 select the first 5 rows in at least two ways based on the dataframe you created,write the code and print your results\n",
    "\n",
    "6.2 Select the price and rating columns in at least two ways based on the dataframe you created, write the code and print your results\n",
    "\n",
    "6.3 What canteens from the library with walking time < 10 and rating >7? Based on the dataframe you created, write the code and print the result.\n",
    "\n",
    "Hint 1: head()\n",
    "\n",
    "Hint 2: iloc[]\n",
    "\n",
    "Hint 3: loc[]\n",
    "\n",
    "| Canteens    | Price  | Rating  | Lib  | Dor| \n",
    "|-----------------|--------|-------- |------|----|\n",
    "| AC1         | 32    | 5     | 3   | 13 |\n",
    "| AC2         | 42    | 7     | 8   | 9  |\n",
    "| AC3         | 55    | 8     | 8   | 6  | \n",
    "| Mcdonald      | 45    | 7.5    | 5   | 18 | \n",
    "| Subway       | 44    | 6     | 6.5  | 10 | \n",
    "| Taste        | 50    | 8     | 7   | 20 | \n",
    "| FestivalFood   | 65    | 9     | 7   | 20 | \n",
    "| HomeyKitchen   | 35    | 4     |16   | 5  | \n",
    "|ChineseRestaurant| 90    | 9     | 7   | 15 |\n",
    "|KebabStation    | 45    | 7.5    | 3   | 13 |  "
   ]
  },
  {
   "cell_type": "code",
   "execution_count": 23,
   "id": "a7a55fa7",
   "metadata": {},
   "outputs": [
    {
     "data": {
      "text/html": [
       "<div>\n",
       "<style scoped>\n",
       "    .dataframe tbody tr th:only-of-type {\n",
       "        vertical-align: middle;\n",
       "    }\n",
       "\n",
       "    .dataframe tbody tr th {\n",
       "        vertical-align: top;\n",
       "    }\n",
       "\n",
       "    .dataframe thead th {\n",
       "        text-align: right;\n",
       "    }\n",
       "</style>\n",
       "<table border=\"1\" class=\"dataframe\">\n",
       "  <thead>\n",
       "    <tr style=\"text-align: right;\">\n",
       "      <th></th>\n",
       "      <th>price</th>\n",
       "      <th>rating</th>\n",
       "      <th>Dor</th>\n",
       "      <th>Lib</th>\n",
       "    </tr>\n",
       "  </thead>\n",
       "  <tbody>\n",
       "    <tr>\n",
       "      <th>AC1</th>\n",
       "      <td>32</td>\n",
       "      <td>5.0</td>\n",
       "      <td>13</td>\n",
       "      <td>3.0</td>\n",
       "    </tr>\n",
       "    <tr>\n",
       "      <th>AC2</th>\n",
       "      <td>42</td>\n",
       "      <td>7.0</td>\n",
       "      <td>9</td>\n",
       "      <td>8.0</td>\n",
       "    </tr>\n",
       "    <tr>\n",
       "      <th>AC3</th>\n",
       "      <td>55</td>\n",
       "      <td>8.0</td>\n",
       "      <td>6</td>\n",
       "      <td>9.0</td>\n",
       "    </tr>\n",
       "    <tr>\n",
       "      <th>Mcdonald</th>\n",
       "      <td>45</td>\n",
       "      <td>7.5</td>\n",
       "      <td>18</td>\n",
       "      <td>5.0</td>\n",
       "    </tr>\n",
       "    <tr>\n",
       "      <th>Subway</th>\n",
       "      <td>44</td>\n",
       "      <td>6.0</td>\n",
       "      <td>10</td>\n",
       "      <td>6.5</td>\n",
       "    </tr>\n",
       "  </tbody>\n",
       "</table>\n",
       "</div>"
      ],
      "text/plain": [
       "          price  rating  Dor  Lib\n",
       "AC1          32     5.0   13  3.0\n",
       "AC2          42     7.0    9  8.0\n",
       "AC3          55     8.0    6  9.0\n",
       "Mcdonald     45     7.5   18  5.0\n",
       "Subway       44     6.0   10  6.5"
      ]
     },
     "execution_count": 23,
     "metadata": {},
     "output_type": "execute_result"
    }
   ],
   "source": [
    "# 6.1\n",
    "CityU_Canteens.head(5)\n",
    "CityU_Canteens.iloc[:5]            # implicitly uses the index, only integer\n",
    "CityU_Canteens.loc['AC1':'Subway'] # explicitly uses the index"
   ]
  },
  {
   "cell_type": "code",
   "execution_count": 24,
   "id": "53caa0a9",
   "metadata": {},
   "outputs": [
    {
     "data": {
      "text/html": [
       "<div>\n",
       "<style scoped>\n",
       "    .dataframe tbody tr th:only-of-type {\n",
       "        vertical-align: middle;\n",
       "    }\n",
       "\n",
       "    .dataframe tbody tr th {\n",
       "        vertical-align: top;\n",
       "    }\n",
       "\n",
       "    .dataframe thead th {\n",
       "        text-align: right;\n",
       "    }\n",
       "</style>\n",
       "<table border=\"1\" class=\"dataframe\">\n",
       "  <thead>\n",
       "    <tr style=\"text-align: right;\">\n",
       "      <th></th>\n",
       "      <th>price</th>\n",
       "      <th>rating</th>\n",
       "    </tr>\n",
       "  </thead>\n",
       "  <tbody>\n",
       "    <tr>\n",
       "      <th>AC1</th>\n",
       "      <td>32</td>\n",
       "      <td>5.0</td>\n",
       "    </tr>\n",
       "    <tr>\n",
       "      <th>AC2</th>\n",
       "      <td>42</td>\n",
       "      <td>7.0</td>\n",
       "    </tr>\n",
       "    <tr>\n",
       "      <th>AC3</th>\n",
       "      <td>55</td>\n",
       "      <td>8.0</td>\n",
       "    </tr>\n",
       "    <tr>\n",
       "      <th>Mcdonald</th>\n",
       "      <td>45</td>\n",
       "      <td>7.5</td>\n",
       "    </tr>\n",
       "    <tr>\n",
       "      <th>Subway</th>\n",
       "      <td>44</td>\n",
       "      <td>6.0</td>\n",
       "    </tr>\n",
       "    <tr>\n",
       "      <th>Taste</th>\n",
       "      <td>50</td>\n",
       "      <td>8.0</td>\n",
       "    </tr>\n",
       "    <tr>\n",
       "      <th>FestivalFood</th>\n",
       "      <td>65</td>\n",
       "      <td>9.0</td>\n",
       "    </tr>\n",
       "    <tr>\n",
       "      <th>HomeyKitchen</th>\n",
       "      <td>35</td>\n",
       "      <td>4.0</td>\n",
       "    </tr>\n",
       "    <tr>\n",
       "      <th>ChineseRestaurant</th>\n",
       "      <td>90</td>\n",
       "      <td>9.0</td>\n",
       "    </tr>\n",
       "    <tr>\n",
       "      <th>KebabStation</th>\n",
       "      <td>45</td>\n",
       "      <td>7.5</td>\n",
       "    </tr>\n",
       "  </tbody>\n",
       "</table>\n",
       "</div>"
      ],
      "text/plain": [
       "                   price  rating\n",
       "AC1                   32     5.0\n",
       "AC2                   42     7.0\n",
       "AC3                   55     8.0\n",
       "Mcdonald              45     7.5\n",
       "Subway                44     6.0\n",
       "Taste                 50     8.0\n",
       "FestivalFood          65     9.0\n",
       "HomeyKitchen          35     4.0\n",
       "ChineseRestaurant     90     9.0\n",
       "KebabStation          45     7.5"
      ]
     },
     "execution_count": 24,
     "metadata": {},
     "output_type": "execute_result"
    }
   ],
   "source": [
    "# 6.2 \n",
    "CityU_Canteens.iloc[:,[0, 1]]             # implicitly uses the index\n",
    "CityU_Canteens.loc[:,[\"price\", \"rating\"]] # explicitly uses the index\n",
    "CityU_Canteens[['price', 'rating']]       # dict"
   ]
  },
  {
   "cell_type": "code",
   "execution_count": 25,
   "id": "a79ea90a",
   "metadata": {},
   "outputs": [
    {
     "data": {
      "text/html": [
       "<div>\n",
       "<style scoped>\n",
       "    .dataframe tbody tr th:only-of-type {\n",
       "        vertical-align: middle;\n",
       "    }\n",
       "\n",
       "    .dataframe tbody tr th {\n",
       "        vertical-align: top;\n",
       "    }\n",
       "\n",
       "    .dataframe thead th {\n",
       "        text-align: right;\n",
       "    }\n",
       "</style>\n",
       "<table border=\"1\" class=\"dataframe\">\n",
       "  <thead>\n",
       "    <tr style=\"text-align: right;\">\n",
       "      <th></th>\n",
       "      <th>price</th>\n",
       "      <th>rating</th>\n",
       "      <th>Dor</th>\n",
       "      <th>Lib</th>\n",
       "    </tr>\n",
       "  </thead>\n",
       "  <tbody>\n",
       "    <tr>\n",
       "      <th>AC3</th>\n",
       "      <td>55</td>\n",
       "      <td>8.0</td>\n",
       "      <td>6</td>\n",
       "      <td>9.0</td>\n",
       "    </tr>\n",
       "    <tr>\n",
       "      <th>Mcdonald</th>\n",
       "      <td>45</td>\n",
       "      <td>7.5</td>\n",
       "      <td>18</td>\n",
       "      <td>5.0</td>\n",
       "    </tr>\n",
       "    <tr>\n",
       "      <th>Taste</th>\n",
       "      <td>50</td>\n",
       "      <td>8.0</td>\n",
       "      <td>20</td>\n",
       "      <td>7.0</td>\n",
       "    </tr>\n",
       "    <tr>\n",
       "      <th>FestivalFood</th>\n",
       "      <td>65</td>\n",
       "      <td>9.0</td>\n",
       "      <td>20</td>\n",
       "      <td>7.0</td>\n",
       "    </tr>\n",
       "    <tr>\n",
       "      <th>ChineseRestaurant</th>\n",
       "      <td>90</td>\n",
       "      <td>9.0</td>\n",
       "      <td>15</td>\n",
       "      <td>7.0</td>\n",
       "    </tr>\n",
       "    <tr>\n",
       "      <th>KebabStation</th>\n",
       "      <td>45</td>\n",
       "      <td>7.5</td>\n",
       "      <td>13</td>\n",
       "      <td>3.0</td>\n",
       "    </tr>\n",
       "  </tbody>\n",
       "</table>\n",
       "</div>"
      ],
      "text/plain": [
       "                   price  rating  Dor  Lib\n",
       "AC3                   55     8.0    6  9.0\n",
       "Mcdonald              45     7.5   18  5.0\n",
       "Taste                 50     8.0   20  7.0\n",
       "FestivalFood          65     9.0   20  7.0\n",
       "ChineseRestaurant     90     9.0   15  7.0\n",
       "KebabStation          45     7.5   13  3.0"
      ]
     },
     "execution_count": 25,
     "metadata": {},
     "output_type": "execute_result"
    }
   ],
   "source": [
    "# 6.3 \n",
    "CityU_Canteens[(CityU_Canteens['Lib']<10) & (CityU_Canteens[\"rating\"]>7)] "
   ]
  },
  {
   "cell_type": "markdown",
   "id": "648a3c28",
   "metadata": {},
   "source": [
    "#### Question 7\n",
    "You just woke up today, and you feel that it is too troublesome to consider where to eat based on price, walking time, and rating, so you decide to combine these three indicators to calculate your own indicator, and decide where to eat breakfast based on this indicator. \n",
    "\n",
    "7.1 Please compute your indicator based on this equation: score = Rating×0.5-Price×0.02 -Dor×0.05. Based on the dataframe you created, add a column name \"score\"  and print the canteens you want to go based on the maximum value of this score.\n",
    "\n",
    "7.2 You think your score is too subjective, so you want to delete this column in case someone else know your preference(you are a privacy-conscious person).Based on the dataframe you created, delete the column \"score\" and print new dataframe.\n",
    "\n",
    "Hint 1: you may need to use function insert() to add a new column\n",
    "\n",
    "Hint 2: you may need to use function  max() to compute the max value of one column\n",
    "\n",
    "Hint 3: you may need to use function drop() to delete a column\n",
    "\n",
    "| Canteens    | Price  | Rating  | Lib  | Dor| \n",
    "|-----------------|--------|-------- |------|----|\n",
    "| AC1         | 32    | 5     | 3   | 13 |\n",
    "| AC2         | 42    | 7     | 8   | 9  |\n",
    "| AC3         | 55    | 8     | 8   | 6  | \n",
    "| Mcdonald      | 45    | 7.5    | 5   | 18 | \n",
    "| Subway       | 44    | 6     | 6.5  | 10 | \n",
    "| Taste        | 50    | 8     | 7   | 20 | \n",
    "| FestivalFood   | 65    | 9     | 7   | 20 | \n",
    "| HomeyKitchen   | 35    | 4     |16   | 5  | \n",
    "|ChineseRestaurant| 90    | 9     | 7   | 15 |\n",
    "|KebabStation    | 45    | 7.5    | 3   | 13 |  "
   ]
  },
  {
   "cell_type": "code",
   "execution_count": 26,
   "id": "9d5f3599",
   "metadata": {},
   "outputs": [
    {
     "data": {
      "text/plain": [
       "Index(['AC3'], dtype='object')"
      ]
     },
     "execution_count": 26,
     "metadata": {},
     "output_type": "execute_result"
    }
   ],
   "source": [
    "# 7.1 \n",
    "score = CityU_Canteens[\"rating\"]*0.5-CityU_Canteens[\"price\"]*0.02-CityU_Canteens[\"Dor\"]*0.05 # compute the score\n",
    "CityU_Canteens.insert(4,\"score\",score)                     # insert the score column\n",
    "max_score = CityU_Canteens[\"score\"].max()                  # take the max value of the score\n",
    "CityU_Canteens[CityU_Canteens[\"score\"]==max_score].index   # find the Canteen with the max score"
   ]
  },
  {
   "cell_type": "code",
   "execution_count": 27,
   "id": "7b64806e",
   "metadata": {},
   "outputs": [
    {
     "data": {
      "text/html": [
       "<div>\n",
       "<style scoped>\n",
       "    .dataframe tbody tr th:only-of-type {\n",
       "        vertical-align: middle;\n",
       "    }\n",
       "\n",
       "    .dataframe tbody tr th {\n",
       "        vertical-align: top;\n",
       "    }\n",
       "\n",
       "    .dataframe thead th {\n",
       "        text-align: right;\n",
       "    }\n",
       "</style>\n",
       "<table border=\"1\" class=\"dataframe\">\n",
       "  <thead>\n",
       "    <tr style=\"text-align: right;\">\n",
       "      <th></th>\n",
       "      <th>price</th>\n",
       "      <th>rating</th>\n",
       "      <th>Dor</th>\n",
       "      <th>Lib</th>\n",
       "      <th>score</th>\n",
       "    </tr>\n",
       "  </thead>\n",
       "  <tbody>\n",
       "    <tr>\n",
       "      <th>AC1</th>\n",
       "      <td>32</td>\n",
       "      <td>5.0</td>\n",
       "      <td>13</td>\n",
       "      <td>3.0</td>\n",
       "      <td>1.21</td>\n",
       "    </tr>\n",
       "    <tr>\n",
       "      <th>AC2</th>\n",
       "      <td>42</td>\n",
       "      <td>7.0</td>\n",
       "      <td>9</td>\n",
       "      <td>8.0</td>\n",
       "      <td>2.21</td>\n",
       "    </tr>\n",
       "    <tr>\n",
       "      <th>AC3</th>\n",
       "      <td>55</td>\n",
       "      <td>8.0</td>\n",
       "      <td>6</td>\n",
       "      <td>9.0</td>\n",
       "      <td>2.60</td>\n",
       "    </tr>\n",
       "    <tr>\n",
       "      <th>Mcdonald</th>\n",
       "      <td>45</td>\n",
       "      <td>7.5</td>\n",
       "      <td>18</td>\n",
       "      <td>5.0</td>\n",
       "      <td>1.95</td>\n",
       "    </tr>\n",
       "    <tr>\n",
       "      <th>Subway</th>\n",
       "      <td>44</td>\n",
       "      <td>6.0</td>\n",
       "      <td>10</td>\n",
       "      <td>6.5</td>\n",
       "      <td>1.62</td>\n",
       "    </tr>\n",
       "    <tr>\n",
       "      <th>Taste</th>\n",
       "      <td>50</td>\n",
       "      <td>8.0</td>\n",
       "      <td>20</td>\n",
       "      <td>7.0</td>\n",
       "      <td>2.00</td>\n",
       "    </tr>\n",
       "    <tr>\n",
       "      <th>FestivalFood</th>\n",
       "      <td>65</td>\n",
       "      <td>9.0</td>\n",
       "      <td>20</td>\n",
       "      <td>7.0</td>\n",
       "      <td>2.20</td>\n",
       "    </tr>\n",
       "    <tr>\n",
       "      <th>HomeyKitchen</th>\n",
       "      <td>35</td>\n",
       "      <td>4.0</td>\n",
       "      <td>5</td>\n",
       "      <td>16.0</td>\n",
       "      <td>1.05</td>\n",
       "    </tr>\n",
       "    <tr>\n",
       "      <th>ChineseRestaurant</th>\n",
       "      <td>90</td>\n",
       "      <td>9.0</td>\n",
       "      <td>15</td>\n",
       "      <td>7.0</td>\n",
       "      <td>1.95</td>\n",
       "    </tr>\n",
       "    <tr>\n",
       "      <th>KebabStation</th>\n",
       "      <td>45</td>\n",
       "      <td>7.5</td>\n",
       "      <td>13</td>\n",
       "      <td>3.0</td>\n",
       "      <td>2.20</td>\n",
       "    </tr>\n",
       "  </tbody>\n",
       "</table>\n",
       "</div>"
      ],
      "text/plain": [
       "                   price  rating  Dor   Lib  score\n",
       "AC1                   32     5.0   13   3.0   1.21\n",
       "AC2                   42     7.0    9   8.0   2.21\n",
       "AC3                   55     8.0    6   9.0   2.60\n",
       "Mcdonald              45     7.5   18   5.0   1.95\n",
       "Subway                44     6.0   10   6.5   1.62\n",
       "Taste                 50     8.0   20   7.0   2.00\n",
       "FestivalFood          65     9.0   20   7.0   2.20\n",
       "HomeyKitchen          35     4.0    5  16.0   1.05\n",
       "ChineseRestaurant     90     9.0   15   7.0   1.95\n",
       "KebabStation          45     7.5   13   3.0   2.20"
      ]
     },
     "execution_count": 27,
     "metadata": {},
     "output_type": "execute_result"
    }
   ],
   "source": [
    "CityU_Canteens"
   ]
  },
  {
   "cell_type": "code",
   "execution_count": 28,
   "id": "b08b5dac",
   "metadata": {},
   "outputs": [
    {
     "name": "stdout",
     "output_type": "stream",
     "text": [
      "before deleting score\n",
      "                    price  rating  Dor   Lib  score\n",
      "AC1                   32     5.0   13   3.0   1.21\n",
      "AC2                   42     7.0    9   8.0   2.21\n",
      "AC3                   55     8.0    6   9.0   2.60\n",
      "Mcdonald              45     7.5   18   5.0   1.95\n",
      "Subway                44     6.0   10   6.5   1.62\n",
      "Taste                 50     8.0   20   7.0   2.00\n",
      "FestivalFood          65     9.0   20   7.0   2.20\n",
      "HomeyKitchen          35     4.0    5  16.0   1.05\n",
      "ChineseRestaurant     90     9.0   15   7.0   1.95\n",
      "KebabStation          45     7.5   13   3.0   2.20\n",
      "\n",
      "---------------------------\n",
      "after deleting score\n",
      "                    price  rating  Dor   Lib\n",
      "AC1                   32     5.0   13   3.0\n",
      "AC2                   42     7.0    9   8.0\n",
      "AC3                   55     8.0    6   9.0\n",
      "Mcdonald              45     7.5   18   5.0\n",
      "Subway                44     6.0   10   6.5\n",
      "Taste                 50     8.0   20   7.0\n",
      "FestivalFood          65     9.0   20   7.0\n",
      "HomeyKitchen          35     4.0    5  16.0\n",
      "ChineseRestaurant     90     9.0   15   7.0\n",
      "KebabStation          45     7.5   13   3.0\n"
     ]
    }
   ],
   "source": [
    "# 7.2\n",
    "print(\"before deleting score\\n\",CityU_Canteens)\n",
    "CityU_Canteens = CityU_Canteens.drop(\"score\", axis=1)\n",
    "print(\"\\n---------------------------\\nafter deleting score\\n\",CityU_Canteens)"
   ]
  },
  {
   "cell_type": "markdown",
   "id": "a16aedf4",
   "metadata": {},
   "source": [
    "#### Question 8\n",
    "\n",
    "There are activities in CityU canteens today. Show your student card in the canteens and you can get a meal coupon for this canteen, and you can consume any set meal. Sadly, these activities take place at the same time and you can only go to one canteen. Which canteens do you want to go ?(considering the rating first and then considering the price). Based on the dataframe you created, write your code and print your results.\n",
    "\n",
    "Hint 1: you may need to use the function sort_values() to sort the dataframe\n",
    "\n",
    "| Canteens    | Price  | Rating  | Lib  | Dor| \n",
    "|-----------------|--------|-------- |------|----|\n",
    "| AC1         | 32    | 5     | 3   | 13 |\n",
    "| AC2         | 42    | 7     | 8   | 9  |\n",
    "| AC3         | 55    | 8     | 8   | 6  | \n",
    "| Mcdonald      | 45    | 7.5    | 5   | 18 | \n",
    "| Subway       | 44    | 6     | 6.5  | 10 | \n",
    "| Taste        | 50    | 8     | 7   | 20 | \n",
    "| FestivalFood   | 65    | 9     | 7   | 20 | \n",
    "| HomeyKitchen   | 35    | 4     |16   | 5  | \n",
    "|ChineseRestaurant| 90    | 9     | 7   | 15 |\n",
    "|KebabStation    | 45    | 7.5    | 3   | 13 |  "
   ]
  },
  {
   "cell_type": "code",
   "execution_count": 29,
   "id": "33290f2a",
   "metadata": {},
   "outputs": [
    {
     "data": {
      "text/plain": [
       "'ChineseRestaurant'"
      ]
     },
     "execution_count": 29,
     "metadata": {},
     "output_type": "execute_result"
    }
   ],
   "source": [
    "sorted_rating = CityU_Canteens.sort_values(by=\"rating\",ascending=False) #sort the rating list by descending order\n",
    "sorted_price = CityU_Canteens.sort_values(by=\"price\",ascending=False) #sort the price list by descending order\n",
    "sorted_price.index[0] #print the canteen you want to go"
   ]
  },
  {
   "cell_type": "code",
   "execution_count": null,
   "id": "8e4efc97",
   "metadata": {},
   "outputs": [],
   "source": []
  }
 ],
 "metadata": {
  "kernelspec": {
   "display_name": "Python 3 (ipykernel)",
   "language": "python",
   "name": "python3"
  },
  "language_info": {
   "codemirror_mode": {
    "name": "ipython",
    "version": 3
   },
   "file_extension": ".py",
   "mimetype": "text/x-python",
   "name": "python",
   "nbconvert_exporter": "python",
   "pygments_lexer": "ipython3",
   "version": "3.9.7"
  }
 },
 "nbformat": 4,
 "nbformat_minor": 5
}
