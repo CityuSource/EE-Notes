{
 "cells": [
  {
   "cell_type": "markdown",
   "id": "0b8a6f59",
   "metadata": {},
   "source": [
    "# Tutorial 4 - List Comprehension, Numpy, and Lambda Functions\n",
    "\n",
    "### Fun Fact: Numpy stands for Numerical Python\n",
    "\n",
    "#### TA: Collin Sakal"
   ]
  },
  {
   "cell_type": "code",
   "execution_count": 7,
   "id": "51b62ced",
   "metadata": {},
   "outputs": [],
   "source": [
    "# Import Numpy\n",
    "import numpy as np"
   ]
  },
  {
   "cell_type": "markdown",
   "id": "43f9c079",
   "metadata": {},
   "source": [
    "# Tutorial Overview\n",
    "\n",
    "In this tutorial we will generate data on a pretend class of students and analyze the data using list comprehension techniques and numpy functions. Lastly, we will review and implement lambda functions.\n"
   ]
  },
  {
   "cell_type": "markdown",
   "id": "93174ccc",
   "metadata": {},
   "source": [
    "### Reference table for this tutorial\n",
    "\n",
    "If you get stuck on any of the following problems please reference the cell below."
   ]
  },
  {
   "cell_type": "code",
   "execution_count": 8,
   "id": "7cc3ab40",
   "metadata": {},
   "outputs": [
    {
     "name": "stdout",
     "output_type": "stream",
     "text": [
      "1\n",
      "2\n",
      "3\n",
      "4\n",
      "5\n"
     ]
    }
   ],
   "source": [
    "# Creating lists\n",
    "example_list = [1,2,3,4]\n",
    "\n",
    "# Appending Lists\n",
    "example_list.append(5)\n",
    "\n",
    "# Iterating over a list\n",
    "for i in example_list:\n",
    "    print(i)\n",
    "\n",
    "# Creating arrays\n",
    "example_array = np.array([3,4,6,2,6,7]) \n",
    "\n",
    "# Sorting an array\n",
    "example_array.sort() # Will sort elements from smallest to largest\n",
    "\n",
    "# Slice an array: values greater than 4\n",
    "example_array[example_array > 4]\n",
    "\n",
    "# Mathematical operations\n",
    "example_array.max() # maximum \n",
    "example_array.min() # minimum \n",
    "example_array.mean() # average (mean) \n",
    "example_array.std() # standard deviation\n",
    "example_array**2 # square (^2) every element \n",
    "\n",
    "# Slice then apply a mathematical operation\n",
    "example_array[example_array > 3].mean() # average of all values greater than 3\n",
    "\n",
    "# Number generator\n",
    "normal_generator_example = np.random.normal(loc = 0, scale = 1, size = 10) # Mean = 0, standard deviation = 1, size = 10\n",
    "\n",
    "# Creating a lambda function\n",
    "example_lambda = lambda x: x + 10 # takes input 'x' and returns x + 10"
   ]
  },
  {
   "cell_type": "markdown",
   "id": "930e7778",
   "metadata": {},
   "source": [
    "### (1)\n",
    "**Consider a list called \"TA_names\" that contains the names of Teaching Assistants for the class. Suppose a new TA, Jocelyn, joins the class. Add her name to the list of TAs**"
   ]
  },
  {
   "cell_type": "code",
   "execution_count": 9,
   "id": "bd601dab",
   "metadata": {},
   "outputs": [
    {
     "name": "stdout",
     "output_type": "stream",
     "text": [
      "['Collin', 'Wei', 'Cheng', 'Tong', 'Muhammad', 'Katya', 'Isabella', 'Jocelyn']\n"
     ]
    }
   ],
   "source": [
    "TA_names = [\"Collin\", \"Wei\", \"Cheng\", \"Tong\", \"Muhammad\", \"Katya\", \"Isabella\"]\n",
    "\n",
    "# Write your code below\n",
    "TA_names.append(\"Jocelyn\")\n",
    "print(TA_names)"
   ]
  },
  {
   "cell_type": "markdown",
   "id": "84447e64",
   "metadata": {},
   "source": [
    "### (2)\n",
    "**Suppose we want to determine which TAs have the letter 'a' in their name. Write a for loop that creates a new list called 'a_names' that contains the TA names with the letter 'a' in them. Print the new list.** \n",
    "\n",
    "**HINT:** You may want to consider the append function to add new names to the empty list"
   ]
  },
  {
   "cell_type": "code",
   "execution_count": 10,
   "id": "9e72a1c4",
   "metadata": {},
   "outputs": [
    {
     "name": "stdout",
     "output_type": "stream",
     "text": [
      "['Muhammad', 'Katya', 'Isabella']\n",
      "['Muhammad', 'Katya', 'Isabella']\n"
     ]
    }
   ],
   "source": [
    "a_names = []\n",
    "\n",
    "# Write your code below\n",
    "\n",
    "# For loop method\n",
    "for name in TA_names:\n",
    "    if 'a' in name:\n",
    "        a_names.append(name)\n",
    "        \n",
    "print(a_names)\n",
    "\n",
    "# List comprehension method\n",
    "a_names = [name for name in TA_names if 'a' in name]\n",
    "\n",
    "print(a_names)"
   ]
  },
  {
   "cell_type": "markdown",
   "id": "5e27d2f2",
   "metadata": {},
   "source": [
    "### (3)\n",
    "**Assume there are 100 students in the class. Generate a Numpy array called \"heights\" from a normal distribution with mean 170 and standard deviation 12. Print the array.**\n",
    "\n",
    "**HINT:** in the relevant numpy function the following arguments will be needed:\n",
    "1. loc = mean\n",
    "2. scale = standard deviation\n",
    "3. size = amount of numbers to generate\n",
    "\n",
    "**NOTE:** We will use centimeters as the unit of measurement for the heights"
   ]
  },
  {
   "cell_type": "code",
   "execution_count": 11,
   "id": "83ac4513",
   "metadata": {},
   "outputs": [
    {
     "name": "stdout",
     "output_type": "stream",
     "text": [
      "[167.2303896  187.1420392  156.79588463 155.98277818 155.65260912\n",
      " 159.89924123 169.45720057 166.4671893  179.35740101 150.16062687\n",
      " 156.24863105 176.54273944 199.90881932 174.47111553 162.12169265\n",
      " 166.37594491 179.1024735  175.15318454 185.71592343 169.85308486\n",
      " 156.06650799 173.61071872 162.13448903 158.54626666 171.71140755\n",
      " 152.18528936 166.24255601 157.00377355 169.99504994 152.00595681\n",
      " 176.98321157 155.90816159 162.61692041 172.61156684 178.81057012\n",
      " 188.66154772 161.41881177 171.47009684 156.49621242 174.69908346\n",
      " 163.19659788 147.70317112 162.48620239 147.08107189 180.31734379\n",
      " 155.42298112 191.80774392 180.4211941  164.47577193 179.54686845\n",
      " 184.42679522 168.44857812 194.19282069 179.73869958 177.4359035\n",
      " 174.98235714 154.34814084 168.56156784 175.49955899 181.18946635\n",
      " 155.48572514 191.97856411 165.79060367 172.06013624 172.22005823\n",
      " 178.63158886 167.40159563 152.08883216 160.31891696 163.30096553\n",
      " 182.12257507 159.01223709 162.96487557 173.67484232 162.85311016\n",
      " 159.49225166 165.36257772 173.22479187 187.80718164 179.37326466\n",
      " 168.61226388 178.19375473 185.9586404  193.47476503 186.34934325\n",
      " 159.67263669 165.19691188 170.40112398 178.14146563 183.81580297\n",
      " 166.8718303  150.48713077 175.35952758 161.52554736 172.75146998\n",
      " 179.58794974 167.27047413 171.41589424 156.1339395  165.55183626]\n"
     ]
    }
   ],
   "source": [
    "# Random seed so we all get the same answers\n",
    "np.random.seed(19970507)\n",
    "\n",
    "# Write your code below\n",
    "heights = np.random.normal(loc = 170, scale = 12, size = 100)\n",
    "print(heights)"
   ]
  },
  {
   "cell_type": "markdown",
   "id": "783d78d3",
   "metadata": {},
   "source": [
    "### (4)\n",
    "**Sort the heights array and print it again, what are the heights of the shortest and tallest students in the class?**"
   ]
  },
  {
   "cell_type": "code",
   "execution_count": 12,
   "id": "49b2d974",
   "metadata": {
    "scrolled": true
   },
   "outputs": [
    {
     "name": "stdout",
     "output_type": "stream",
     "text": [
      "[147.08107189 147.70317112 150.16062687 150.48713077 152.00595681\n",
      " 152.08883216 152.18528936 154.34814084 155.42298112 155.48572514\n",
      " 155.65260912 155.90816159 155.98277818 156.06650799 156.1339395\n",
      " 156.24863105 156.49621242 156.79588463 157.00377355 158.54626666\n",
      " 159.01223709 159.49225166 159.67263669 159.89924123 160.31891696\n",
      " 161.41881177 161.52554736 162.12169265 162.13448903 162.48620239\n",
      " 162.61692041 162.85311016 162.96487557 163.19659788 163.30096553\n",
      " 164.47577193 165.19691188 165.36257772 165.55183626 165.79060367\n",
      " 166.24255601 166.37594491 166.4671893  166.8718303  167.2303896\n",
      " 167.27047413 167.40159563 168.44857812 168.56156784 168.61226388\n",
      " 169.45720057 169.85308486 169.99504994 170.40112398 171.41589424\n",
      " 171.47009684 171.71140755 172.06013624 172.22005823 172.61156684\n",
      " 172.75146998 173.22479187 173.61071872 173.67484232 174.47111553\n",
      " 174.69908346 174.98235714 175.15318454 175.35952758 175.49955899\n",
      " 176.54273944 176.98321157 177.4359035  178.14146563 178.19375473\n",
      " 178.63158886 178.81057012 179.1024735  179.35740101 179.37326466\n",
      " 179.54686845 179.58794974 179.73869958 180.31734379 180.4211941\n",
      " 181.18946635 182.12257507 183.81580297 184.42679522 185.71592343\n",
      " 185.9586404  186.34934325 187.1420392  187.80718164 188.66154772\n",
      " 191.80774392 191.97856411 193.47476503 194.19282069 199.90881932]\n"
     ]
    }
   ],
   "source": [
    "# Write your code below\n",
    "heights.sort()\n",
    "print(heights)\n",
    "\n",
    "# Shortest = 147.1\n",
    "# Tallest = 199.9"
   ]
  },
  {
   "cell_type": "markdown",
   "id": "2cf337f6",
   "metadata": {},
   "source": [
    "### (5)\n",
    "**Write code that returns the heights of the shortest and tallest students in the class WITHOUT sorting or printing the entire array**\n",
    "\n",
    "**HINT:** the tallest person will have the MAXIMUM height in the array and the shortest person will have the MINIMUM height "
   ]
  },
  {
   "cell_type": "code",
   "execution_count": 13,
   "id": "78d80265",
   "metadata": {
    "scrolled": true
   },
   "outputs": [
    {
     "name": "stdout",
     "output_type": "stream",
     "text": [
      "The tallest person in the class has a height of  199.90881931792748 centimeters\n",
      "The shortest person in the class has a height of  147.08107189215664 cenitmeters\n"
     ]
    }
   ],
   "source": [
    "# Write your code below\n",
    "print(\"The tallest person in the class has a height of \", heights.max(), \"centimeters\")\n",
    "print(\"The shortest person in the class has a height of \", heights.min(), \"cenitmeters\")"
   ]
  },
  {
   "cell_type": "markdown",
   "id": "9ecdc04a",
   "metadata": {},
   "source": [
    "### (6)\n",
    "**What is the average height of students in the class?**"
   ]
  },
  {
   "cell_type": "code",
   "execution_count": 14,
   "id": "0786bdbe",
   "metadata": {},
   "outputs": [
    {
     "name": "stdout",
     "output_type": "stream",
     "text": [
      "The average height of students in the class is:  169.66037004727062 centimeters\n"
     ]
    }
   ],
   "source": [
    "# Write your code below\n",
    "print(\"The average height of students in the class is: \", heights.mean(), \"centimeters\")"
   ]
  },
  {
   "cell_type": "markdown",
   "id": "4e96345b",
   "metadata": {},
   "source": [
    "### (7)\n",
    "**Create an array called \"heights_m\" that contains the heights of everyone in the class in meters. Print the average of the new array.**\n",
    "\n",
    "**HINT**: To get height in meters, divide height in cm by 100"
   ]
  },
  {
   "cell_type": "code",
   "execution_count": 15,
   "id": "817c2072",
   "metadata": {
    "scrolled": true
   },
   "outputs": [
    {
     "name": "stdout",
     "output_type": "stream",
     "text": [
      "The average height of the class in meters is:  1.6966037004727061 m\n"
     ]
    }
   ],
   "source": [
    "# Write your code below\n",
    "heights_m = heights/100\n",
    "print(\"The average height of the class in meters is: \", heights_m.mean(), \"m\")"
   ]
  },
  {
   "cell_type": "markdown",
   "id": "8d2cb87a",
   "metadata": {},
   "source": [
    "### (8)\n",
    "**Lets generate the weights (unit of measurement: kilograms - kg) for the students in the class from a normal distribution with mean 70kg and standard deviation 5kg.** \n",
    "\n",
    "**Write code that returns the weights of students who weigh more than 65kg**\n",
    "\n",
    "**HINT:** You need to SLICE the array "
   ]
  },
  {
   "cell_type": "code",
   "execution_count": 16,
   "id": "c5f71883",
   "metadata": {},
   "outputs": [
    {
     "data": {
      "text/plain": [
       "array([68.84599567, 77.14251633, 65.79135051, 69.77383357, 68.52799554,\n",
       "       73.89891709, 72.72614144, 82.46200805, 71.8629648 , 66.71737194,\n",
       "       68.48997704, 73.79269729, 72.14716023, 76.54830143, 69.93878536,\n",
       "       71.50446613, 66.72270376, 65.22761111, 70.71308648, 68.43439834,\n",
       "       69.99793747, 72.90967149, 66.92371684, 71.08815285, 73.67107088,\n",
       "       77.77564489, 66.4245049 , 70.61254035, 71.95795144, 67.16524911,\n",
       "       66.86925099, 74.29889324, 79.08655997, 74.34216421, 67.6982383 ,\n",
       "       73.97786185, 76.01116468, 69.35357422, 80.08034196, 74.05779149,\n",
       "       73.09829312, 72.07598214, 69.40065327, 72.29148291, 74.66227765,\n",
       "       79.15773505, 68.24608486, 70.8583901 , 70.92502426, 73.59649536,\n",
       "       68.91733151, 65.9662154 , 67.20873564, 75.05107295, 65.42176545,\n",
       "       67.06869815, 71.5311843 , 67.02212923, 65.62177152, 68.06774072,\n",
       "       71.34366328, 77.41965902, 73.90552694, 69.42177662, 73.41406447,\n",
       "       76.6494335 , 79.78115209, 76.81222636, 65.69693195, 67.99871328,\n",
       "       70.16713499, 73.39227735, 75.75658457, 68.69659596, 72.23313649,\n",
       "       66.46897807, 71.14644583, 73.99497906, 68.86269755, 70.58995594,\n",
       "       68.14659844])"
      ]
     },
     "execution_count": 16,
     "metadata": {},
     "output_type": "execute_result"
    }
   ],
   "source": [
    "# Random seed so we all get the same answers\n",
    "np.random.seed(19970507)\n",
    "\n",
    "# Generating weights\n",
    "weights = np.random.normal(loc = 70, scale = 5, size = 100)\n",
    "\n",
    "# Write your code below\n",
    "weights[weights > 65]"
   ]
  },
  {
   "cell_type": "markdown",
   "id": "ba4817c8",
   "metadata": {},
   "source": [
    "### (9)\n",
    "**What is the average weight of students who weigh more than 65kg?**\n",
    "\n",
    "**HINT:** you can use .mean() after you slice an array\n"
   ]
  },
  {
   "cell_type": "code",
   "execution_count": 17,
   "id": "a0028dd5",
   "metadata": {
    "scrolled": true
   },
   "outputs": [
    {
     "name": "stdout",
     "output_type": "stream",
     "text": [
      "The average weight of students who weigh more than 80kg is:  71.40318714309711 kg\n"
     ]
    }
   ],
   "source": [
    "# Write your code below\n",
    "print(\"The average weight of students who weigh more than 80kg is: \", weights[weights>65].mean(), \"kg\")"
   ]
  },
  {
   "cell_type": "markdown",
   "id": "35b63cb9",
   "metadata": {},
   "source": [
    "### (10)\n",
    "**Body Mass Index (BMI) is an estimate of the amount of body fat a person has. The formula for BMI is BMI =               weight / height^2 such that weight is measured in kg and height in meters. Please write code that does the following:** \n",
    "\n",
    "1. Creates an array called BMI that contains the BMI of everyone in the class.\n",
    "2. Prints the average, maximum, minimum, and standard deviation of the BMIs in the class.\n",
    "\n",
    "**HINT** Remember to use heights_m (which contains heights in meters)"
   ]
  },
  {
   "cell_type": "code",
   "execution_count": 18,
   "id": "3ba08f6f",
   "metadata": {},
   "outputs": [
    {
     "name": "stdout",
     "output_type": "stream",
     "text": [
      "The average BMI in the class is: 24.582794631676716\n",
      "The minimum BMI in the class is: 17.03023720020639\n",
      "The maximum BMI in the class is: 35.360155166332554\n",
      "The standard deviation of the BMIs in the class is: 3.577681098831622\n"
     ]
    }
   ],
   "source": [
    "# Write your code below\n",
    "BMI = weights/heights_m**2\n",
    "\n",
    "print(\"The average BMI in the class is:\",BMI.mean())\n",
    "print(\"The minimum BMI in the class is:\", BMI.min())\n",
    "print(\"The maximum BMI in the class is:\", BMI.max())\n",
    "print(\"The standard deviation of the BMIs in the class is:\", BMI.std())"
   ]
  },
  {
   "cell_type": "markdown",
   "id": "45310eb5",
   "metadata": {},
   "source": [
    "# Review of Lambda Functions"
   ]
  },
  {
   "cell_type": "markdown",
   "id": "9e524d30",
   "metadata": {},
   "source": [
    "We've previously seen how to create functions such as the one below:"
   ]
  },
  {
   "cell_type": "code",
   "execution_count": 19,
   "id": "829645f0",
   "metadata": {},
   "outputs": [],
   "source": [
    "def add_five(x):\n",
    "    \"\"\"This functions adds 5 to the input number\"\"\"\n",
    "    result = x + 5\n",
    "    return result"
   ]
  },
  {
   "cell_type": "markdown",
   "id": "aa1b6e90",
   "metadata": {},
   "source": [
    "But we can also define functions using lambda in a more concise way"
   ]
  },
  {
   "cell_type": "code",
   "execution_count": 20,
   "id": "4b1b90ee",
   "metadata": {},
   "outputs": [],
   "source": [
    "add_five_lambda = lambda x: x + 5"
   ]
  },
  {
   "cell_type": "markdown",
   "id": "d7485cf3",
   "metadata": {},
   "source": [
    " Note that both of these functions will return the same result"
   ]
  },
  {
   "cell_type": "code",
   "execution_count": 21,
   "id": "acc3d9d0",
   "metadata": {
    "scrolled": true
   },
   "outputs": [
    {
     "name": "stdout",
     "output_type": "stream",
     "text": [
      "14\n",
      "14\n"
     ]
    }
   ],
   "source": [
    "print(add_five(9))\n",
    "print(add_five_lambda(9))"
   ]
  },
  {
   "cell_type": "markdown",
   "id": "14589c66",
   "metadata": {},
   "source": [
    "Lambda functions can also take multiple arguments. For example, consider a function that calculates the sum of two inputs"
   ]
  },
  {
   "cell_type": "code",
   "execution_count": 22,
   "id": "f70b20d2",
   "metadata": {},
   "outputs": [
    {
     "data": {
      "text/plain": [
       "16"
      ]
     },
     "execution_count": 22,
     "metadata": {},
     "output_type": "execute_result"
    }
   ],
   "source": [
    "sum_lambda = lambda x, y: x + y\n",
    "\n",
    "sum_lambda(10, 6)"
   ]
  },
  {
   "cell_type": "markdown",
   "id": "ad313e36",
   "metadata": {},
   "source": [
    "## (11)\n",
    "**Lets create a function that takes a person's height (in meters) and weight (in kg) and returns their BMI using the standard function form**"
   ]
  },
  {
   "cell_type": "code",
   "execution_count": 23,
   "id": "f81e4255",
   "metadata": {},
   "outputs": [
    {
     "data": {
      "text/plain": [
       "22.99262444384723"
      ]
     },
     "execution_count": 23,
     "metadata": {},
     "output_type": "execute_result"
    }
   ],
   "source": [
    "def bmi_calculator(weight, height):\n",
    "    \"\"\"This function returns a person's BMI given their weight (in kg) and height (in meters)\"\"\"\n",
    "    bmi = weight/height**2\n",
    "    return bmi\n",
    "\n",
    "bmi_calculator(weight = 77, height = 1.83) # bmi_calculator(77, 1.83) works as well"
   ]
  },
  {
   "cell_type": "markdown",
   "id": "8bd5e869",
   "metadata": {},
   "source": [
    "**Re-create bmi_calculator using lambda formatting and calculate the BMI of a person with a weight of 77kg and a height of 1.83m**\n",
    "\n",
    "**HINT:** recall BMI = weight/height^2 such that weight is in kg and height is in meters. Your answer should be the same as the result from the bmi_calculator example above."
   ]
  },
  {
   "cell_type": "code",
   "execution_count": 24,
   "id": "e0b65d3a",
   "metadata": {},
   "outputs": [
    {
     "data": {
      "text/plain": [
       "22.99262444384723"
      ]
     },
     "execution_count": 24,
     "metadata": {},
     "output_type": "execute_result"
    }
   ],
   "source": [
    "# Write your code below\n",
    "bmi_calculator_lambda = lambda weight, height: weight/height**2\n",
    "\n",
    "bmi_calculator_lambda(weight = 77, height = 1.83) # bmi_calculator_lambda(77, 1.83) works as well"
   ]
  }
 ],
 "metadata": {
  "kernelspec": {
   "display_name": "Python 3.10.4 ('2001')",
   "language": "python",
   "name": "python3"
  },
  "language_info": {
   "codemirror_mode": {
    "name": "ipython",
    "version": 3
   },
   "file_extension": ".py",
   "mimetype": "text/x-python",
   "name": "python",
   "nbconvert_exporter": "python",
   "pygments_lexer": "ipython3",
   "version": "3.10.4"
  },
  "vscode": {
   "interpreter": {
    "hash": "55eb91d003843ee0eabb6af411dc999514f7578b560f97084ebc6a83d429fc16"
   }
  }
 },
 "nbformat": 4,
 "nbformat_minor": 5
}
