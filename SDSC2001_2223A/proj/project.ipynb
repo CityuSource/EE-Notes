{
 "cells": [
  {
   "cell_type": "markdown",
   "metadata": {},
   "source": [
    "## Course Project\n",
    "\n",
    "**Instructions:** <br>\n",
    "a. In the course project, you will analyze a real-world dataset on housing sale price prediction. You will write a report on your data analysis using Jupyter Notebook. <br>\n",
    "b. For each step, make sure to explain what you are doing, annotate your results, and provide your interpretation. <br>\n",
    "c. When you finish, make sure to use `Kernel` -> `Restart and Run All` to restart the kernel and rerun the entire notebook to generate the desired outputs, before submitting your project report. <br>\n",
    "d. Upload your .ipynb file to Canvas for grading. <br>\n",
    "e. All questions related to the course project shall be posted in the Discussions section on Canvas. <br>\n",
    "<br>\n",
    "\n",
    "**Policy:** <br>\n",
    "The course project is worth 25 points, counting towards 25% of the course final score. <br>\n",
    "\n",
    "Late submission, empty submission or no submission receives 0 point. Please note that in order to pass the course, at least 30% of the total score for the project must be obtained. In case of special circumstances, email the instructor directly ahead of time. "
   ]
  },
  {
   "cell_type": "markdown",
   "metadata": {},
   "source": [
    "### Housing Sale Price Prediction\n",
    "You can download the csv files from the project folder on Canvas.  <br>\n",
    "\n",
    "#### Context\n",
    "There can be tons of reasons that affect the price of a house. This project aims to predict the final price of each home `SalePrice`. <br>\n",
    "\n",
    "#### Variables: Brief Description\n",
    "SalePrice - the property's sale price in dollars: the target variable to predict.<br>\n",
    "MSSubClass: The building class<br>\n",
    "MSZoning: The general zoning classification<br>\n",
    "LotFrontage: Linear feet of street connected to property<br>\n",
    "LotArea: Lot size in square feet<br>\n",
    "Street: Type of road access<br>\n",
    "Alley: Type of alley access<br>\n",
    "LotShape: General shape of property<br>\n",
    "LandContour: Flatness of the property<br>\n",
    "Utilities: Type of utilities available<br>\n",
    "LotConfig: Lot configuration<br>\n",
    "LandSlope: Slope of property<br>\n",
    "Neighborhood: Physical locations within Ames city limits<br>\n",
    "Condition1: Proximity to main road or railroad<br>\n",
    "Condition2: Proximity to main road or railroad (if a second is present)<br>\n",
    "BldgType: Type of dwelling<br>\n",
    "HouseStyle: Style of dwelling<br>\n",
    "OverallQual: Overall material and finish quality<br>\n",
    "OverallCond: Overall condition rating<br>\n",
    "YearBuilt: Original construction date<br>\n",
    "YearRemodAdd: Remodel date<br>\n",
    "RoofStyle: Type of roof<br>\n",
    "RoofMatl: Roof material<br>\n",
    "Exterior1st: Exterior covering on house<br>\n",
    "Exterior2nd: Exterior covering on house (if more than one material)<br>\n",
    "MasVnrType: Masonry veneer type<br>\n",
    "MasVnrArea: Masonry veneer area in square feet<br>\n",
    "ExterQual: Exterior material quality<br>\n",
    "ExterCond: Present condition of the material on the exterior<br>\n",
    "Foundation: Type of foundation<br>\n",
    "BsmtQual: Height of the basement<br>\n",
    "BsmtCond: General condition of the basement<br>\n",
    "BsmtExposure: Walkout or garden level basement walls<br>\n",
    "BsmtFinType1: Quality of basement finished area<br>\n",
    "BsmtFinSF1: Type 1 finished square feet<br>\n",
    "BsmtFinType2: Quality of second finished area (if present)<br>\n",
    "BsmtFinSF2: Type 2 finished square feet<br>\n",
    "BsmtUnfSF: Unfinished square feet of basement area<br>\n",
    "TotalBsmtSF: Total square feet of basement area<br>\n",
    "Heating: Type of heating<br>\n",
    "HeatingQC: Heating quality and condition<br>\n",
    "CentralAir: Central air conditioning<br>\n",
    "Electrical: Electrical system<br>\n",
    "1stFlrSF: First Floor square feet<br>\n",
    "2ndFlrSF: Second floor square feet<br>\n",
    "LowQualFinSF: Low quality finished square feet (all floors)<br>\n",
    "GrLivArea: Above grade (ground) living area square feet<br>\n",
    "BsmtFullBath: Basement full bathrooms<br>\n",
    "BsmtHalfBath: Basement half bathrooms<br>\n",
    "FullBath: Full bathrooms above grade<br>\n",
    "HalfBath: Half baths above grade<br>\n",
    "Bedroom: Number of bedrooms above basement level<br>\n",
    "Kitchen: Number of kitchens<br>\n",
    "KitchenQual: Kitchen quality<br>\n",
    "TotRmsAbvGrd: Total rooms above grade (does not include bathrooms)<br>\n",
    "Functional: Home functionality rating<br>\n",
    "Fireplaces: Number of fireplaces<br>\n",
    "FireplaceQu: Fireplace quality<br>\n",
    "GarageType: Garage location<br>\n",
    "GarageYrBlt: Year garage was built<br>\n",
    "GarageFinish: Interior finish of the garage<br>\n",
    "GarageCars: Size of garage in car capacity<br>\n",
    "GarageArea: Size of garage in square feet<br>\n",
    "GarageQual: Garage quality<br>\n",
    "GarageCond: Garage condition<br>\n",
    "PavedDrive: Paved driveway<br>\n",
    "WoodDeckSF: Wood deck area in square feet<br>\n",
    "OpenPorchSF: Open porch area in square feet<br>\n",
    "EnclosedPorch: Enclosed porch area in square feet<br>\n",
    "3SsnPorch: Three season porch area in square feet<br>\n",
    "ScreenPorch: Screen porch area in square feet<br>\n",
    "PoolArea: Pool area in square feet<br>\n",
    "PoolQC: Pool quality<br>\n",
    "Fence: Fence quality<br>\n",
    "MiscFeature: Miscellaneous feature not covered in other categories<br>\n",
    "MiscVal: Value of miscellaneous feature<br>\n",
    "MoSold: Month Sold<br>\n",
    "YrSold: Year Sold<br>\n",
    "SaleType: Type of sale<br>\n",
    "SaleCondition: Condition of sale<br>"
   ]
  },
  {
   "cell_type": "markdown",
   "metadata": {},
   "source": [
    "### Module 1: Data Exploration\n",
    "Load `housing_train.csv` and explore the dataset. How do the data look like? Are there any missing values? What do you do with missing values, i.e. removal, imputation, etc.?<br>\n",
    "Are there any outliers? What do you do with outliers, i.e. drop them, explore the effects of outliers on models, etc.? <br>\n",
    "Record your analysis procedures. For example, 20 observations are removed due to missingness, and 3,000 observations remain for further analysis. <br>\n",
    "\n",
    "Hint: for removal of extreme outliers, consider: Q1=df.quantile(0.25); Q3=df.quantile(0.75); IQR=Q3-Q1; <br>\n",
    "Remove samples that are smaller than Q1 - 2.5 * IQR or larger than Q3 + 2.5 * IQR."
   ]
  },
  {
   "cell_type": "code",
   "execution_count": null,
   "metadata": {},
   "outputs": [],
   "source": []
  },
  {
   "cell_type": "markdown",
   "metadata": {},
   "source": [
    "### Module 2: Data Visualization\n",
    "What are the distributions of variables? Are the variables distributed differently in the high-price group (i.e. > 300,000) versus the low-price group? Use tables and/or figures to visualize your exploration and findings. Present no more than 5 figures/tables that you think are important, and you may state in your findings that variables a, b, c have similar patterns."
   ]
  },
  {
   "cell_type": "code",
   "execution_count": null,
   "metadata": {},
   "outputs": [],
   "source": []
  },
  {
   "cell_type": "markdown",
   "metadata": {},
   "source": [
    "### Module 3: Dimension Reduction\n",
    "Apply unsupervised learning methods to achieve dimension reduction. Visualize and interpret the results. Any dimension reduction algorithms can be used."
   ]
  },
  {
   "cell_type": "code",
   "execution_count": null,
   "metadata": {},
   "outputs": [],
   "source": []
  },
  {
   "cell_type": "markdown",
   "metadata": {},
   "source": [
    "### Module 4: Regression and Prediction\n",
    "Choose three regression methods and build regression models based on data from `housing_train.csv`, using 5-fold cross-validation. <br>\n",
    "\n",
    "Further, load `housing_test.csv` and use it as the test dataset to evaluate your models and compare their performance. Consider visualizing the results, and evaluate the results using metrics such as the mean squared error. Which houses have the worst prediction and what are their characteristics? <br>\n",
    "\n",
    "Note: we don't deduct points based on accuracy, as long as the models can be fitted correctly and the results are reasonable. However, if the model is wrong and does not yield meaningful and interpretable results, or if the results are interpreted incorrectly and wrong conclusions are drawn, points will be deducted.  "
   ]
  },
  {
   "cell_type": "code",
   "execution_count": null,
   "metadata": {},
   "outputs": [],
   "source": []
  },
  {
   "cell_type": "markdown",
   "metadata": {},
   "source": [
    "### Module 5: Summary\n",
    "Summarize your findings and draw conclusions."
   ]
  },
  {
   "cell_type": "code",
   "execution_count": null,
   "metadata": {},
   "outputs": [],
   "source": []
  }
 ],
 "metadata": {
  "kernelspec": {
   "display_name": "Python 3",
   "language": "python",
   "name": "python3"
  },
  "language_info": {
   "codemirror_mode": {
    "name": "ipython",
    "version": 3
   },
   "file_extension": ".py",
   "mimetype": "text/x-python",
   "name": "python",
   "nbconvert_exporter": "python",
   "pygments_lexer": "ipython3",
   "version": "3.8.3"
  }
 },
 "nbformat": 4,
 "nbformat_minor": 4
}
