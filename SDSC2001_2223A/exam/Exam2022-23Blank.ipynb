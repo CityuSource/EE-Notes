{
 "cells": [
  {
   "cell_type": "markdown",
   "id": "4351e5e4",
   "metadata": {},
   "source": [
    "# Final Exam (Part 2)\n",
    "**Instructions:** <br>\n",
    "a. this is exam part2. For part1, please go to the Canvas quiz and finish accordingly.  <br>\n",
    "b. write your answer after `# your answer here`. Do not delete any code that is in the cell, as the code facilitates checking your answers. If you happen to delete any code that prevents expected outputs, you may lose points. <br>\n",
    "c. make sure the plot shows all the necessary information, including but not limited to **title, axis labels with units, legend**, etc. <br>\n",
    "d. when you finish the tasks, make sure to use `Kernel` -> `Restart and Run All` to restart the kernel and rerun the entire notebook to generate desired outputs, before submitting your assignment. <br>\n",
    "e. upload your .ipynb file. <br>\n",
    "\n",
    "### `SAVE your work and double-check that you upload the correct version with answers before you leave!`\n",
    "\n",
    "Each subquestion in Question 1, 2, and 3 is worth 5 points. Q1: 10 points; Q2: 20 points; Q3: 20 points; Q4: 10 points. The total score is 60 points."
   ]
  },
  {
   "cell_type": "markdown",
   "id": "9b9a9aae",
   "metadata": {},
   "source": [
    "### Question 1 \n",
    "\n",
    "**1. (1):**\n",
    "For an input of a list of strings, count the total number of elements whose string length is 3 or more and the first and last character are the same. <br> <br>\n",
    "Sample List : ['adc', 'xdz', 'ada', '2022'] <br>\n",
    "Expected Result : 2"
   ]
  },
  {
   "cell_type": "code",
   "execution_count": null,
   "id": "9cf5237d",
   "metadata": {},
   "outputs": [],
   "source": [
    "# your answer here\n",
    "def count_strings(words):\n",
    "\n",
    "    \n",
    "    \n",
    "    \n",
    "    \n",
    "\n",
    "#for grading\n",
    "print(count_strings(['adc', 'xdz', 'ada', '2022']))\n",
    "print(count_strings(['aa', 'acc', 'xex', '1991']))"
   ]
  },
  {
   "cell_type": "markdown",
   "id": "dadac6d9",
   "metadata": {},
   "source": [
    "**1. (2):**\n",
    "Use lambda to remove None values from the input list. <br> <br>\n",
    "Sample input: <br>\n",
    "[9, None, 12, None, -56, None, 2022, 12, 9] <br>\n",
    "Sample output:<br>\n",
    "[9, 12, -56, 2022, 12, 9]<br>"
   ]
  },
  {
   "cell_type": "code",
   "execution_count": null,
   "id": "91f07113",
   "metadata": {},
   "outputs": [],
   "source": [
    "# your answer here\n",
    "def remove_none_values(number):\n",
    "\n",
    "    \n",
    "\n",
    "#for grading\n",
    "nums = [9, None, 12, None, -56, None, 2022, 12, 9]\n",
    "print(\"Original list:\")\n",
    "print(nums)\n",
    "print(\"\\nRemove None value from the said list:\")\n",
    "print(remove_none_values(nums))"
   ]
  },
  {
   "cell_type": "markdown",
   "id": "55ce1429",
   "metadata": {},
   "source": [
    "### Question 2\n",
    "\n",
    "The taxis dataset is a public trip record data collected on an open platform. The yellow and green taxi trip records include fields capturing pick-up and drop-off dates/times, pick-up and drop-off locations, trip distances, itemized fares, rate types, payment types, and driver-reported passenger counts. "
   ]
  },
  {
   "cell_type": "code",
   "execution_count": null,
   "id": "c6082e0e",
   "metadata": {},
   "outputs": [],
   "source": [
    "# Question 2\n",
    "import pandas as pd\n",
    "import seaborn as sns\n",
    "import numpy as np\n",
    "taxi = sns.load_dataset('taxis')\n",
    "taxi.head()"
   ]
  },
  {
   "cell_type": "markdown",
   "id": "db81a539",
   "metadata": {},
   "source": [
    "**2.(1)** How many trip records are there in total?"
   ]
  },
  {
   "cell_type": "code",
   "execution_count": null,
   "id": "3c836aa2",
   "metadata": {},
   "outputs": [],
   "source": [
    "# Your answer here\n"
   ]
  },
  {
   "cell_type": "markdown",
   "id": "d87500bc",
   "metadata": {},
   "source": [
    "**2.(2)** Convert \"pickup\" and \"dropoff\" columns into the datetime type. Further, compute the difference between 'dropoff' and 'pickup' and add a new colunm \"diff_time\"."
   ]
  },
  {
   "cell_type": "code",
   "execution_count": null,
   "id": "4d4d1c17",
   "metadata": {},
   "outputs": [],
   "source": [
    "# Your answer here\n",
    "\n",
    "\n",
    "\n",
    "\n",
    "#for grading\n",
    "print(taxi[['pickup','dropoff']].dtypes)\n",
    "taxi['diff_time'].head()"
   ]
  },
  {
   "cell_type": "markdown",
   "id": "37996f59",
   "metadata": {},
   "source": [
    "**2.(3)** Which payment method is more popular in the taxi dataset?"
   ]
  },
  {
   "cell_type": "code",
   "execution_count": null,
   "id": "96c7f7a8",
   "metadata": {},
   "outputs": [],
   "source": [
    "# Your answer here： one line of code\n"
   ]
  },
  {
   "cell_type": "markdown",
   "id": "f2ef7663",
   "metadata": {},
   "source": [
    "**2.(4)** What is the average `tip` for trips that picked up in the `Manhattan` area paid by `cash`? What is the average `tip` for trips that picked up in the `Manhattan` area and were paid in `credit card`?\n",
    "\n",
    "The result should be well formatted using string formatting, and it should print as:\n",
    "\n",
    "The average tip for trips that picked up in the Manhattan area paid by cash is XX\n",
    "\n",
    "The average tip for trips that picked up in the Manhattan area paid by credit card is XX"
   ]
  },
  {
   "cell_type": "code",
   "execution_count": null,
   "id": "4185fda3",
   "metadata": {},
   "outputs": [],
   "source": [
    "# Your answer here\n",
    "\n",
    "\n"
   ]
  },
  {
   "cell_type": "markdown",
   "id": "a164100c",
   "metadata": {},
   "source": [
    "### Question 3\n",
    "Continue to use the `taxi` dataset. <br>\n",
    "**3. (1):** Create `taxi_multi` from taxi, by (a) dropping observations that have NA values in `pickup_borough` and `dropoff_borough`; (b) building the MultiIndex from columns `pickup_borough` and `dropoff_borough`, and sorting the indexes; (c) keeping the first ten columns from `pickup` to `payment` only and dropping the rest columns."
   ]
  },
  {
   "cell_type": "code",
   "execution_count": null,
   "id": "02585a47",
   "metadata": {
    "scrolled": true
   },
   "outputs": [],
   "source": [
    "# your answer here\n",
    "\n",
    "\n",
    "\n",
    "\n",
    "#for grading\n",
    "print(taxi_multi.shape)\n",
    "taxi_multi.head()"
   ]
  },
  {
   "cell_type": "markdown",
   "id": "bf6206d6",
   "metadata": {},
   "source": [
    "**3. (2)**: Using `taxi_multi`, calculate the total trip `distance` made in Bronx, with pickup and dropoff both in Bronx."
   ]
  },
  {
   "cell_type": "code",
   "execution_count": null,
   "id": "0478a5d9",
   "metadata": {},
   "outputs": [],
   "source": [
    "print('Total trip distance in Bronx = ')\n",
    "# your answer here: one line of code\n"
   ]
  },
  {
   "cell_type": "markdown",
   "id": "ae4ee656",
   "metadata": {},
   "source": [
    "**3. (3)**: Using `taxi_multi`, calculate the total trip `distance` by each `dropoff_borough`."
   ]
  },
  {
   "cell_type": "code",
   "execution_count": null,
   "id": "9ac48348",
   "metadata": {
    "scrolled": true
   },
   "outputs": [],
   "source": [
    "# your answer here: one line of code\n"
   ]
  },
  {
   "cell_type": "markdown",
   "id": "e214dde7",
   "metadata": {},
   "source": [
    "**3. (4)**: Use the pivot_table method to find the sum of the `fare` by `pickup_borough` (row) and by `dropoff_borough` (column). Output: A dataframe is expected with index as `pickup_borough` and columns as `dropoff_borough`. For certain combinations of `pickup_borough` and `dropoff_borough`, there are no observations, and thus the values will be \"NA\"."
   ]
  },
  {
   "cell_type": "code",
   "execution_count": null,
   "id": "336a0e27",
   "metadata": {},
   "outputs": [],
   "source": [
    "# your answer here: one line of code\n"
   ]
  },
  {
   "cell_type": "markdown",
   "id": "8cb0394d",
   "metadata": {},
   "source": [
    "### Question 4\n",
    "\n",
    "Continue to use the dataset `taxi`. Count the number of trips by the pickup zone, based on Manhattan pickup trips only. Draw a bar plot for the pickup zones that have more than 180 trips."
   ]
  },
  {
   "cell_type": "code",
   "execution_count": null,
   "id": "56c0d833",
   "metadata": {},
   "outputs": [],
   "source": [
    "# Your answer here\n",
    "\n",
    "\n",
    "\n",
    "\n",
    "\n",
    "\n",
    "\n",
    "\n",
    "\n",
    "\n",
    "\n",
    "\n",
    "\n",
    "\n"
   ]
  }
 ],
 "metadata": {
  "kernelspec": {
   "display_name": "Python 3",
   "language": "python",
   "name": "python3"
  },
  "language_info": {
   "codemirror_mode": {
    "name": "ipython",
    "version": 3
   },
   "file_extension": ".py",
   "mimetype": "text/x-python",
   "name": "python",
   "nbconvert_exporter": "python",
   "pygments_lexer": "ipython3",
   "version": "3.8.8"
  },
  "toc": {
   "base_numbering": 1,
   "nav_menu": {},
   "number_sections": true,
   "sideBar": true,
   "skip_h1_title": false,
   "title_cell": "Table of Contents",
   "title_sidebar": "Contents",
   "toc_cell": false,
   "toc_position": {},
   "toc_section_display": true,
   "toc_window_display": false
  },
  "varInspector": {
   "cols": {
    "lenName": 16,
    "lenType": 16,
    "lenVar": 40
   },
   "kernels_config": {
    "python": {
     "delete_cmd_postfix": "",
     "delete_cmd_prefix": "del ",
     "library": "var_list.py",
     "varRefreshCmd": "print(var_dic_list())"
    },
    "r": {
     "delete_cmd_postfix": ") ",
     "delete_cmd_prefix": "rm(",
     "library": "var_list.r",
     "varRefreshCmd": "cat(var_dic_list()) "
    }
   },
   "types_to_exclude": [
    "module",
    "function",
    "builtin_function_or_method",
    "instance",
    "_Feature"
   ],
   "window_display": false
  }
 },
 "nbformat": 4,
 "nbformat_minor": 5
}
